{
  "cells": [
    {
      "cell_type": "markdown",
      "metadata": {
        "id": "-sjcUog4m-IP"
      },
      "source": [
        "# inistall  document"
      ]
    },
    {
      "cell_type": "markdown",
      "metadata": {
        "id": "esagz9oWD9_j"
      },
      "source": [
        "# lode   and  see data"
      ]
    },
    {
      "cell_type": "code",
      "execution_count": null,
      "metadata": {
        "colab": {
          "base_uri": "https://localhost:8080/"
        },
        "id": "B5XNMUKiEAXF",
        "outputId": "31c9db3c-69c8-4653-e841-caf628aefc5c"
      },
      "outputs": [
        {
          "name": "stdout",
          "output_type": "stream",
          "text": [
            "📂 محتویات پوشه استخراج‌شده:\n",
            "['PoetryFoundationData.csv']\n"
          ]
        }
      ],
      "source": [
        "import zipfile\n",
        "import os\n",
        "\n",
        "zip_file_name = \"/content/archive (6).zip\"\n",
        "\n",
        "extract_folder = \"poetry_data\"\n",
        "\n",
        "with zipfile.ZipFile(zip_file_name, 'r') as zip_ref:\n",
        "    zip_ref.extractall(extract_folder)\n",
        "\n",
        "print(\"📂 محتویات پوشه استخراج‌شده:\")\n",
        "print(os.listdir(extract_folder))\n"
      ]
    },
    {
      "cell_type": "code",
      "execution_count": null,
      "metadata": {
        "colab": {
          "base_uri": "https://localhost:8080/",
          "height": 374
        },
        "id": "0wlLP_JTEtdx",
        "outputId": "639a5d0f-5e1b-4cb5-cf0c-f1c007e842c5"
      },
      "outputs": [
        {
          "name": "stdout",
          "output_type": "stream",
          "text": [
            "📝 تعداد شعر: 13854\n",
            "📌 ستون‌ها: ['Title', 'Poem', 'Poet', 'Tags']\n",
            "🎯 چند شاعر نمونه: ['Michelle Menting' 'Lucia Cherciu' 'Ted Kooser' 'Grace Cavalieri'\n",
            " 'Connie Wanek']\n",
            "🏷️ چند برچسب نمونه: ['Living,Time & Brevity,Relationships,Family & Ancestors,Nature,Landscapes & Pastorals,Seas, Rivers, & Streams,Social Commentaries,History & Politics'\n",
            " 'Religion,The Spiritual,Mythology & Folklore,Fairy-tales & Legends'\n",
            " 'Living,Parenthood,The Body,The Mind,Nature,Trees & Flowers'\n",
            " 'The Body,Family & Ancestors' 'Infancy,Parenthood,The Body']\n"
          ]
        },
        {
          "data": {
            "application/vnd.google.colaboratory.intrinsic+json": {
              "summary": "{\n  \"name\": \"df\",\n  \"rows\": 13854,\n  \"fields\": [\n    {\n      \"column\": \"Title\",\n      \"properties\": {\n        \"dtype\": \"string\",\n        \"num_unique_values\": 13237,\n        \"samples\": [\n          \"To Sleep\",\n          \"Washing the World\",\n          \"from \\u201cAn Attempt at Jealousy\\u201d\"\n        ],\n        \"semantic_type\": \"\",\n        \"description\": \"\"\n      }\n    },\n    {\n      \"column\": \"Poem\",\n      \"properties\": {\n        \"dtype\": \"string\",\n        \"num_unique_values\": 13740,\n        \"samples\": [\n          \"Within this sober frame expect Work of no foreign architect; That unto caves the quarries drew, And forests did to pastures hew; Who of his great design in pain Did for a model vault his brain; Whose columns should so high be rais\\u2019d To arch the brows that on them gaz\\u2019d. Why should of all things man unrul\\u2019d Such unproportion\\u2019d dwellings build? The beasts are by their dens exprest, And birds contrive an equal nest; The low roof\\u2019d tortoises do dwell In cases fit of tortoise-shell; No creature loves an empty space; Their bodies measure out their place. But he, superfluously spread, Demands more room alive than dead; And in his hollow palace goes Where winds as he themselves may lose. What need of all this marble crust T\\u2019impark the wanton mote of dust, That thinks by breadth the world t\\u2019unite Though the first builders fail\\u2019d in height? But all things are composed here Like nature, orderly and near; In which we the dimensions find Of that more sober age and mind, When larger sized men did stoop To enter at a narrow loop; As practising, in doors so straight, To strain themselves through Heaven\\u2019s gate. And surely when the after age Shall hither come in pilgrimage, These sacred places to adore, By Vere and Fairfax trod before, Men will dispute how their extent Within such dwarfish confines went; And some will smile at this, as well As Romulus his bee-like cell. Humility alone designs Those short but admirable lines, By which, ungirt and unconstrain\\u2019d, Things greater are in less contain\\u2019d. Let others vainly strive t\\u2019immure The circle in the quadrature! These holy mathematics can In ev\\u2019ry figure equal man. Yet thus the laden house does sweat, And scarce endures the master great, But where he comes the swelling hall Stirs, and the square grows spherical; More by his magnitude distress\\u2019d, Then he is by its straightness press\\u2019d, And too officiously it slights That in itself which him delights. So honour better lowness bears, Than that unwonted greatness wears; Height with a certain grace does bend, But low things clownishly ascend. And yet what needs there here excuse, Where ev\\u2019ry thing does answer use? Where neatness nothing can condemn, Nor pride invent what to contemn? A stately frontispiece of poor Adorns without the open door; Nor less the rooms within commends Daily new furniture of friends. The house was built upon the place Only as for a mark of grace; And for an inn to entertain Its lord a while, but not remain. Him Bishops-Hill, or Denton may, Or Billbrough, better hold than they; But nature here hath been so free As if she said leave this to me. Art would more neatly have defac\\u2019d What she had laid so sweetly waste; In fragrant gardens, shady woods, Deep meadows, and transparent floods.\",\n          \"Little Lamb who made thee Dost thou know who made thee Gave thee life & bid thee feed. By the stream & o'er the mead; Gave thee clothing of delight, Softest clothing wooly bright; Gave thee such a tender voice, Making all the vales rejoice! Little Lamb who made thee Dost thou know who made thee Little Lamb I'll tell thee, Little Lamb I'll tell thee!He is called by thy name, For he calls himself a Lamb: He is meek & he is mild, He became a little child: I a child & thou a lamb, We are called by his name. Little Lamb God bless thee. Little Lamb God bless thee.\",\n          \"Because you\\u2019re gone, I take a book to bed:The Flame of Passion. Scabbard at his thigh, Lord Henry gets the girl. You\\u2019d only buy top Booklist picks. \\u201cThe romance genre\\u2019s dead,\\u201d you\\u2019d say when promises of I-thee-wed lured me to bargain bins. I learned to lie about my day, hoard Harlequins on the sly while you were off at work, your office spread with red-inked proofs. But now it makes me yawn to read beyond the lovers\\u2019 wedding night. I close The Flame, not even halfway through. His sword grows dull while she goes on and on about how lovers must stay true. I\\u2019d write another ending, if I could, for you.\"\n        ],\n        \"semantic_type\": \"\",\n        \"description\": \"\"\n      }\n    },\n    {\n      \"column\": \"Poet\",\n      \"properties\": {\n        \"dtype\": \"category\",\n        \"num_unique_values\": 3128,\n        \"samples\": [\n          \"Lee Ann Roripaugh\",\n          \"Saadi Youssef\",\n          \"M.L. Smoker\"\n        ],\n        \"semantic_type\": \"\",\n        \"description\": \"\"\n      }\n    },\n    {\n      \"column\": \"Tags\",\n      \"properties\": {\n        \"dtype\": \"string\",\n        \"num_unique_values\": 8297,\n        \"samples\": [\n          \"Nature,Landscapes & Pastorals,Spring\",\n          \"Living,Sorrow & Grieving,Love,Relationships,Nature,Stars, Planets, Heavens,Trees & Flowers,Weather,Social Commentaries,Money & Economics\",\n          \"Living,Marriage & Companionship,Sorrow & Grieving,Love,Realistic & Complicated,Relationships,Home Life,Nature,Animals\"\n        ],\n        \"semantic_type\": \"\",\n        \"description\": \"\"\n      }\n    }\n  ]\n}",
              "type": "dataframe",
              "variable_name": "df"
            },
            "text/html": [
              "\n",
              "  <div id=\"df-3c2bcba7-ef73-46f8-a315-92204dd86105\" class=\"colab-df-container\">\n",
              "    <div>\n",
              "<style scoped>\n",
              "    .dataframe tbody tr th:only-of-type {\n",
              "        vertical-align: middle;\n",
              "    }\n",
              "\n",
              "    .dataframe tbody tr th {\n",
              "        vertical-align: top;\n",
              "    }\n",
              "\n",
              "    .dataframe thead th {\n",
              "        text-align: right;\n",
              "    }\n",
              "</style>\n",
              "<table border=\"1\" class=\"dataframe\">\n",
              "  <thead>\n",
              "    <tr style=\"text-align: right;\">\n",
              "      <th></th>\n",
              "      <th>Title</th>\n",
              "      <th>Poem</th>\n",
              "      <th>Poet</th>\n",
              "      <th>Tags</th>\n",
              "    </tr>\n",
              "  </thead>\n",
              "  <tbody>\n",
              "    <tr>\n",
              "      <th>0</th>\n",
              "      <td>Objects Used to Prop Open a Window</td>\n",
              "      <td>Dog bone, stapler, cribbage board, garlic pres...</td>\n",
              "      <td>Michelle Menting</td>\n",
              "      <td>NaN</td>\n",
              "    </tr>\n",
              "    <tr>\n",
              "      <th>1</th>\n",
              "      <td>The New Church</td>\n",
              "      <td>The old cupola glinted above the clouds, shone...</td>\n",
              "      <td>Lucia Cherciu</td>\n",
              "      <td>NaN</td>\n",
              "    </tr>\n",
              "    <tr>\n",
              "      <th>2</th>\n",
              "      <td>Look for Me</td>\n",
              "      <td>Look for me under the hood of that old Chevrol...</td>\n",
              "      <td>Ted Kooser</td>\n",
              "      <td>NaN</td>\n",
              "    </tr>\n",
              "    <tr>\n",
              "      <th>3</th>\n",
              "      <td>Wild Life</td>\n",
              "      <td>Behind the silo, the Mother Rabbit hunches lik...</td>\n",
              "      <td>Grace Cavalieri</td>\n",
              "      <td>NaN</td>\n",
              "    </tr>\n",
              "    <tr>\n",
              "      <th>4</th>\n",
              "      <td>Umbrella</td>\n",
              "      <td>When I push your button you fly off the handle...</td>\n",
              "      <td>Connie Wanek</td>\n",
              "      <td>NaN</td>\n",
              "    </tr>\n",
              "  </tbody>\n",
              "</table>\n",
              "</div>\n",
              "    <div class=\"colab-df-buttons\">\n",
              "\n",
              "  <div class=\"colab-df-container\">\n",
              "    <button class=\"colab-df-convert\" onclick=\"convertToInteractive('df-3c2bcba7-ef73-46f8-a315-92204dd86105')\"\n",
              "            title=\"Convert this dataframe to an interactive table.\"\n",
              "            style=\"display:none;\">\n",
              "\n",
              "  <svg xmlns=\"http://www.w3.org/2000/svg\" height=\"24px\" viewBox=\"0 -960 960 960\">\n",
              "    <path d=\"M120-120v-720h720v720H120Zm60-500h600v-160H180v160Zm220 220h160v-160H400v160Zm0 220h160v-160H400v160ZM180-400h160v-160H180v160Zm440 0h160v-160H620v160ZM180-180h160v-160H180v160Zm440 0h160v-160H620v160Z\"/>\n",
              "  </svg>\n",
              "    </button>\n",
              "\n",
              "  <style>\n",
              "    .colab-df-container {\n",
              "      display:flex;\n",
              "      gap: 12px;\n",
              "    }\n",
              "\n",
              "    .colab-df-convert {\n",
              "      background-color: #E8F0FE;\n",
              "      border: none;\n",
              "      border-radius: 50%;\n",
              "      cursor: pointer;\n",
              "      display: none;\n",
              "      fill: #1967D2;\n",
              "      height: 32px;\n",
              "      padding: 0 0 0 0;\n",
              "      width: 32px;\n",
              "    }\n",
              "\n",
              "    .colab-df-convert:hover {\n",
              "      background-color: #E2EBFA;\n",
              "      box-shadow: 0px 1px 2px rgba(60, 64, 67, 0.3), 0px 1px 3px 1px rgba(60, 64, 67, 0.15);\n",
              "      fill: #174EA6;\n",
              "    }\n",
              "\n",
              "    .colab-df-buttons div {\n",
              "      margin-bottom: 4px;\n",
              "    }\n",
              "\n",
              "    [theme=dark] .colab-df-convert {\n",
              "      background-color: #3B4455;\n",
              "      fill: #D2E3FC;\n",
              "    }\n",
              "\n",
              "    [theme=dark] .colab-df-convert:hover {\n",
              "      background-color: #434B5C;\n",
              "      box-shadow: 0px 1px 3px 1px rgba(0, 0, 0, 0.15);\n",
              "      filter: drop-shadow(0px 1px 2px rgba(0, 0, 0, 0.3));\n",
              "      fill: #FFFFFF;\n",
              "    }\n",
              "  </style>\n",
              "\n",
              "    <script>\n",
              "      const buttonEl =\n",
              "        document.querySelector('#df-3c2bcba7-ef73-46f8-a315-92204dd86105 button.colab-df-convert');\n",
              "      buttonEl.style.display =\n",
              "        google.colab.kernel.accessAllowed ? 'block' : 'none';\n",
              "\n",
              "      async function convertToInteractive(key) {\n",
              "        const element = document.querySelector('#df-3c2bcba7-ef73-46f8-a315-92204dd86105');\n",
              "        const dataTable =\n",
              "          await google.colab.kernel.invokeFunction('convertToInteractive',\n",
              "                                                    [key], {});\n",
              "        if (!dataTable) return;\n",
              "\n",
              "        const docLinkHtml = 'Like what you see? Visit the ' +\n",
              "          '<a target=\"_blank\" href=https://colab.research.google.com/notebooks/data_table.ipynb>data table notebook</a>'\n",
              "          + ' to learn more about interactive tables.';\n",
              "        element.innerHTML = '';\n",
              "        dataTable['output_type'] = 'display_data';\n",
              "        await google.colab.output.renderOutput(dataTable, element);\n",
              "        const docLink = document.createElement('div');\n",
              "        docLink.innerHTML = docLinkHtml;\n",
              "        element.appendChild(docLink);\n",
              "      }\n",
              "    </script>\n",
              "  </div>\n",
              "\n",
              "\n",
              "    <div id=\"df-bb7e5c0e-4539-462e-8753-511a27e4c0ab\">\n",
              "      <button class=\"colab-df-quickchart\" onclick=\"quickchart('df-bb7e5c0e-4539-462e-8753-511a27e4c0ab')\"\n",
              "                title=\"Suggest charts\"\n",
              "                style=\"display:none;\">\n",
              "\n",
              "<svg xmlns=\"http://www.w3.org/2000/svg\" height=\"24px\"viewBox=\"0 0 24 24\"\n",
              "     width=\"24px\">\n",
              "    <g>\n",
              "        <path d=\"M19 3H5c-1.1 0-2 .9-2 2v14c0 1.1.9 2 2 2h14c1.1 0 2-.9 2-2V5c0-1.1-.9-2-2-2zM9 17H7v-7h2v7zm4 0h-2V7h2v10zm4 0h-2v-4h2v4z\"/>\n",
              "    </g>\n",
              "</svg>\n",
              "      </button>\n",
              "\n",
              "<style>\n",
              "  .colab-df-quickchart {\n",
              "      --bg-color: #E8F0FE;\n",
              "      --fill-color: #1967D2;\n",
              "      --hover-bg-color: #E2EBFA;\n",
              "      --hover-fill-color: #174EA6;\n",
              "      --disabled-fill-color: #AAA;\n",
              "      --disabled-bg-color: #DDD;\n",
              "  }\n",
              "\n",
              "  [theme=dark] .colab-df-quickchart {\n",
              "      --bg-color: #3B4455;\n",
              "      --fill-color: #D2E3FC;\n",
              "      --hover-bg-color: #434B5C;\n",
              "      --hover-fill-color: #FFFFFF;\n",
              "      --disabled-bg-color: #3B4455;\n",
              "      --disabled-fill-color: #666;\n",
              "  }\n",
              "\n",
              "  .colab-df-quickchart {\n",
              "    background-color: var(--bg-color);\n",
              "    border: none;\n",
              "    border-radius: 50%;\n",
              "    cursor: pointer;\n",
              "    display: none;\n",
              "    fill: var(--fill-color);\n",
              "    height: 32px;\n",
              "    padding: 0;\n",
              "    width: 32px;\n",
              "  }\n",
              "\n",
              "  .colab-df-quickchart:hover {\n",
              "    background-color: var(--hover-bg-color);\n",
              "    box-shadow: 0 1px 2px rgba(60, 64, 67, 0.3), 0 1px 3px 1px rgba(60, 64, 67, 0.15);\n",
              "    fill: var(--button-hover-fill-color);\n",
              "  }\n",
              "\n",
              "  .colab-df-quickchart-complete:disabled,\n",
              "  .colab-df-quickchart-complete:disabled:hover {\n",
              "    background-color: var(--disabled-bg-color);\n",
              "    fill: var(--disabled-fill-color);\n",
              "    box-shadow: none;\n",
              "  }\n",
              "\n",
              "  .colab-df-spinner {\n",
              "    border: 2px solid var(--fill-color);\n",
              "    border-color: transparent;\n",
              "    border-bottom-color: var(--fill-color);\n",
              "    animation:\n",
              "      spin 1s steps(1) infinite;\n",
              "  }\n",
              "\n",
              "  @keyframes spin {\n",
              "    0% {\n",
              "      border-color: transparent;\n",
              "      border-bottom-color: var(--fill-color);\n",
              "      border-left-color: var(--fill-color);\n",
              "    }\n",
              "    20% {\n",
              "      border-color: transparent;\n",
              "      border-left-color: var(--fill-color);\n",
              "      border-top-color: var(--fill-color);\n",
              "    }\n",
              "    30% {\n",
              "      border-color: transparent;\n",
              "      border-left-color: var(--fill-color);\n",
              "      border-top-color: var(--fill-color);\n",
              "      border-right-color: var(--fill-color);\n",
              "    }\n",
              "    40% {\n",
              "      border-color: transparent;\n",
              "      border-right-color: var(--fill-color);\n",
              "      border-top-color: var(--fill-color);\n",
              "    }\n",
              "    60% {\n",
              "      border-color: transparent;\n",
              "      border-right-color: var(--fill-color);\n",
              "    }\n",
              "    80% {\n",
              "      border-color: transparent;\n",
              "      border-right-color: var(--fill-color);\n",
              "      border-bottom-color: var(--fill-color);\n",
              "    }\n",
              "    90% {\n",
              "      border-color: transparent;\n",
              "      border-bottom-color: var(--fill-color);\n",
              "    }\n",
              "  }\n",
              "</style>\n",
              "\n",
              "      <script>\n",
              "        async function quickchart(key) {\n",
              "          const quickchartButtonEl =\n",
              "            document.querySelector('#' + key + ' button');\n",
              "          quickchartButtonEl.disabled = true;  // To prevent multiple clicks.\n",
              "          quickchartButtonEl.classList.add('colab-df-spinner');\n",
              "          try {\n",
              "            const charts = await google.colab.kernel.invokeFunction(\n",
              "                'suggestCharts', [key], {});\n",
              "          } catch (error) {\n",
              "            console.error('Error during call to suggestCharts:', error);\n",
              "          }\n",
              "          quickchartButtonEl.classList.remove('colab-df-spinner');\n",
              "          quickchartButtonEl.classList.add('colab-df-quickchart-complete');\n",
              "        }\n",
              "        (() => {\n",
              "          let quickchartButtonEl =\n",
              "            document.querySelector('#df-bb7e5c0e-4539-462e-8753-511a27e4c0ab button');\n",
              "          quickchartButtonEl.style.display =\n",
              "            google.colab.kernel.accessAllowed ? 'block' : 'none';\n",
              "        })();\n",
              "      </script>\n",
              "    </div>\n",
              "    </div>\n",
              "  </div>\n"
            ],
            "text/plain": [
              "                                Title  \\\n",
              "0  Objects Used to Prop Open a Window   \n",
              "1                      The New Church   \n",
              "2                         Look for Me   \n",
              "3                           Wild Life   \n",
              "4                            Umbrella   \n",
              "\n",
              "                                                Poem              Poet Tags  \n",
              "0  Dog bone, stapler, cribbage board, garlic pres...  Michelle Menting  NaN  \n",
              "1  The old cupola glinted above the clouds, shone...     Lucia Cherciu  NaN  \n",
              "2  Look for me under the hood of that old Chevrol...        Ted Kooser  NaN  \n",
              "3  Behind the silo, the Mother Rabbit hunches lik...   Grace Cavalieri  NaN  \n",
              "4  When I push your button you fly off the handle...      Connie Wanek  NaN  "
            ]
          },
          "execution_count": 20,
          "metadata": {},
          "output_type": "execute_result"
        }
      ],
      "source": [
        "import pandas as pd\n",
        "df = pd.read_csv(\"/content/poetry_data/PoetryFoundationData.csv\")\n",
        "\n",
        "df = df.drop(columns=[\"Unnamed: 0\"])\n",
        "\n",
        "df[\"Title\"] = df[\"Title\"].str.strip().str.replace(r'\\s+', ' ', regex=True)\n",
        "df[\"Poem\"] = df[\"Poem\"].str.strip().str.replace(r'\\s+', ' ', regex=True)\n",
        "df[\"Poet\"] = df[\"Poet\"].str.strip()\n",
        "\n",
        "print(\"📝 تعداد شعر:\", len(df))\n",
        "print(\"📌 ستون‌ها:\", df.columns.tolist())\n",
        "print(\"🎯 چند شاعر نمونه:\", df['Poet'].unique()[:5])\n",
        "print(\"🏷️ چند برچسب نمونه:\", df['Tags'].dropna().unique()[:5])\n",
        "\n",
        "df.head()\n"
      ]
    },
    {
      "cell_type": "code",
      "execution_count": null,
      "metadata": {
        "colab": {
          "base_uri": "https://localhost:8080/",
          "height": 627
        },
        "id": "eoha7TpgG1Kl",
        "outputId": "8ad02736-fc45-4ff5-83d7-0f1985b2ae80"
      },
      "outputs": [
        {
          "data": {
            "image/png": "[encoded data removed]",
            "text/plain": [
              "<Figure size 1200x600 with 1 Axes>"
            ]
          },
          "metadata": {},
          "output_type": "display_data"
        }
      ],
      "source": [
        "import pandas as pd\n",
        "import matplotlib.pyplot as plt\n",
        "import seaborn as sns\n",
        "\n",
        "df = pd.read_csv(\"/content/poetry_data/PoetryFoundationData.csv\")\n",
        "\n",
        "df = df.drop(columns=[\"Unnamed: 0\"])\n",
        "\n",
        "tagged_df = df.dropna(subset=[\"Tags\"])\n",
        "\n",
        "all_tags = tagged_df[\"Tags\"].str.split(\",\").explode().str.strip()\n",
        "\n",
        "tag_counts = all_tags.value_counts()\n",
        "\n",
        "top_tags = tag_counts.head(20)\n",
        "\n",
        "plt.figure(figsize=(12, 6))\n",
        "sns.barplot(x=top_tags.values, y=top_tags.index)\n",
        "plt.title(\"Top 20 Most Frequent Poetry Tags\")\n",
        "plt.xlabel(\"Number of Poems\")\n",
        "plt.ylabel(\"Tag\")\n",
        "plt.grid(axis='x', linestyle='--', alpha=0.6)\n",
        "plt.tight_layout()\n",
        "plt.show()\n"
      ]
    },
    {
      "cell_type": "code",
      "execution_count": null,
      "metadata": {
        "colab": {
          "base_uri": "https://localhost:8080/"
        },
        "id": "xwJPM7L4HSfw",
        "outputId": "9f008397-3085-4cc0-fd79-0684584fdaf7"
      },
      "outputs": [
        {
          "name": "stdout",
          "output_type": "stream",
          "text": [
            "🔢 Top 20 Poetry Tags:\n",
            "                    Tag  Count\n",
            "0                Living   6243\n",
            "1   Social Commentaries   4302\n",
            "2         Relationships   3856\n",
            "3                Nature   3613\n",
            "4       Arts & Sciences   3039\n",
            "5                  Love   2126\n",
            "6            Activities   2107\n",
            "7                 Death   1547\n",
            "8              Religion   1483\n",
            "9        Time & Brevity   1468\n",
            "10   History & Politics   1456\n",
            "11   Family & Ancestors   1345\n",
            "12             The Body   1336\n",
            "13         Life Choices   1190\n",
            "14       Poetry & Poets   1077\n",
            "15       War & Conflict   1053\n",
            "16              Animals   1036\n",
            "17             The Mind    959\n",
            "18           Philosophy    912\n",
            "19    Sorrow & Grieving    842\n"
          ]
        }
      ],
      "source": [
        "import pandas as pd\n",
        "\n",
        "df = pd.read_csv(\"/content/poetry_data/PoetryFoundationData.csv\")\n",
        "\n",
        "df = df.drop(columns=[\"Unnamed: 0\"])\n",
        "\n",
        "tagged_df = df.dropna(subset=[\"Tags\"])\n",
        "\n",
        "all_tags = tagged_df[\"Tags\"].str.split(\",\").explode().str.strip()\n",
        "\n",
        "tag_counts = all_tags.value_counts().reset_index()\n",
        "tag_counts.columns = [\"Tag\", \"Count\"]\n",
        "print(\"🔢 Top 20 Poetry Tags:\")\n",
        "print(tag_counts.head(20))\n"
      ]
    },
    {
      "cell_type": "code",
      "execution_count": null,
      "metadata": {
        "colab": {
          "base_uri": "https://localhost:8080/"
        },
        "id": "5Yedn9ibHn5i",
        "outputId": "ed4e721c-6414-4f1a-fb60-ba9d42326c8f"
      },
      "outputs": [
        {
          "name": "stdout",
          "output_type": "stream",
          "text": [
            "تعداد کل تگ‌های یکتا: 129\n",
            "\n",
            "& Streams\n",
            "Activities\n",
            "Animals\n",
            "Anniversary\n",
            "Architecture & Design\n",
            "Arts & Sciences\n",
            "Birth\n",
            "Birth & Birthdays\n",
            "Birthdays\n",
            "Break-ups & Vexed Love\n",
            "Buddhism\n",
            "Christianity\n",
            "Christmas\n",
            "Cinco de Mayo\n",
            "Cities & Urban Life\n",
            "Class\n",
            "Classic Love\n",
            "Coming of Age\n",
            "Crime & Punishment\n",
            "Death\n",
            "Desire\n",
            "Disappointment & Failure\n",
            "Easter\n",
            "Eating & Drinking\n",
            "Engagement\n",
            "Fairy-tales & Legends\n",
            "Faith & Doubt\n",
            "Fall\n",
            "Family & Ancestors\n",
            "Farewells & Good Luck\n",
            "Father's Day\n",
            "First Love\n",
            "Friends & Enemies\n",
            "Funerals\n",
            "Gardening\n",
            "Gay\n",
            "Gender & Sexuality\n",
            "Get Well & Recovery\n",
            "Ghosts & the Supernatural\n",
            "God & the Divine\n",
            "Graduation\n",
            "Gratitude & Apologies\n",
            "Greek & Roman Mythology\n",
            "Growing Old\n",
            "Halloween\n",
            "Hanukkah\n",
            "Health & Illness\n",
            "Heartache & Loss\n",
            "Heavens\n",
            "Heroes & Patriotism\n",
            "History & Politics\n",
            "Home Life\n",
            "Horror\n",
            "Humor & Satire\n",
            "Independence Day\n",
            "Indoor Activities\n",
            "Infancy\n",
            "Infatuation & Crushes\n",
            "Islam\n",
            "Jobs & Working\n",
            "Judaism\n",
            "Kwanzaa\n",
            "Labor Day\n",
            "Landscapes & Pastorals\n",
            "Language & Linguistics\n",
            "Lesbian\n",
            "Life Choices\n",
            "Living\n",
            "Love\n",
            "Marriage & Companionship\n",
            "Memorial Day\n",
            "Men & Women\n",
            "Midlife\n",
            "Money & Economics\n",
            "Mother's Day\n",
            "Music\n",
            "Mythology & Folklore\n",
            "Nature\n",
            "New Year\n",
            "Other Religions\n",
            "Painting & Sculpture\n",
            "Parenthood\n",
            "Passover\n",
            "Pets\n",
            "Philosophy\n",
            "Photography & Film\n",
            "Planets\n",
            "Poetry & Poets\n",
            "Popular Culture\n",
            "Queer\n",
            "Race & Ethnicity\n",
            "Ramadan\n",
            "Reading & Books\n",
            "Realistic & Complicated\n",
            "Relationships\n",
            "Religion\n",
            "Rivers\n",
            "Romantic Love\n",
            "Rosh Hashanah\n",
            "School & Learning\n",
            "Sciences\n",
            "Seas\n",
            "Separation & Divorce\n",
            "September 11th\n",
            "Social Commentaries\n",
            "Sorrow & Grieving\n",
            "Sports & Outdoor Activities\n",
            "Spring\n",
            "St. Patrick's Day\n",
            "Stars\n",
            "Summer\n",
            "Thanksgiving\n",
            "The Body\n",
            "The Mind\n",
            "The Spiritual\n",
            "Theater & Dance\n",
            "Time & Brevity\n",
            "Toasts & Celebrations\n",
            "Town & Country Life\n",
            "Travels & Journeys\n",
            "Trees & Flowers\n",
            "Unrequited Love\n",
            "Valentine's Day\n",
            "War & Conflict\n",
            "Weather\n",
            "Weddings\n",
            "Winter\n",
            "Yom Kippur\n",
            "Youth\n"
          ]
        }
      ],
      "source": [
        "import pandas as pd\n",
        "\n",
        "df = pd.read_csv(\"/content/poetry_data/PoetryFoundationData.csv\")\n",
        "\n",
        "tagged_df = df.dropna(subset=[\"Tags\"])\n",
        "\n",
        "all_tags = tagged_df[\"Tags\"].str.split(\",\").explode().str.strip()\n",
        "\n",
        "unique_tags = sorted(all_tags.unique())\n",
        "\n",
        "print(f\"تعداد کل تگ‌های یکتا: {len(unique_tags)}\\n\")\n",
        "for tag in unique_tags:\n",
        "    print(tag)\n"
      ]
    },
    {
      "cell_type": "markdown",
      "metadata": {
        "id": "l1o-XwfoL2td"
      },
      "source": [
        "#  لیبل  های  من\n",
        "\n",
        "\n",
        "\tبرچسب نهایی (از لیست رسمی)\n",
        "0\tRomantic Love\n",
        "1\tPhilosophy\n",
        "2\tThe Spiritual\n",
        "3\tLiving"
      ]
    },
    {
      "cell_type": "markdown",
      "metadata": {
        "id": "sGfYk_rBNZaO"
      },
      "source": [
        "# persian  "
      ]
    },
    {
      "cell_type": "code",
      "execution_count": null,
      "metadata": {
        "colab": {
          "base_uri": "https://localhost:8080/"
        },
        "id": "MhiYqlh7Iw6a",
        "outputId": "2fcf9ef4-a796-4975-c413-4983761ad20d"
      },
      "outputs": [
        {
          "name": "stdout",
          "output_type": "stream",
          "text": [
            "📌 لیبل‌های موجود: ['Romantic Love' 'Philosophy' 'Living' 'The Spiritual']\n",
            "\n",
            "===== 🏷️ Label: Romantic Love =====\n",
            "\n",
            "📜 شاعر: khajoo\n",
            "خون دل از دیده خواجو مگر / عقد ثریاست که بگسیختست\n",
            "--------------------------------------------------\n",
            "\n",
            "📜 شاعر: ferdousi\n",
            "سپه دید چون کوه آهن روان / همه سر پر از گرد و تیره روان\n",
            "--------------------------------------------------\n",
            "\n",
            "📜 شاعر: bahar\n",
            "آماده جنگ باش کاین چرخ حرون / با نرم دلی با تو نگردد مقرون\n",
            "--------------------------------------------------\n",
            "\n",
            "📜 شاعر: attar\n",
            "سر ذراتش همه روشن شود / گلخن دنیا برو گلشن شود\n",
            "--------------------------------------------------\n",
            "\n",
            "📜 شاعر: sanaee\n",
            "کی باشد کی که در تو آویزم / چون در زر و سیم مرد نادیده\n",
            "--------------------------------------------------\n",
            "\n",
            "===== 🏷️ Label: Philosophy =====\n",
            "\n",
            "📜 شاعر: khajoo\n",
            "قتیل تیغ ترا خستگان ضربت شوق / بب دیده گوهر نثار می شویند\n",
            "--------------------------------------------------\n",
            "\n",
            "📜 شاعر: attar\n",
            "جان به جانان خود ده ای عطار / چند از افسانه جهان گفتن\n",
            "--------------------------------------------------\n",
            "\n",
            "📜 شاعر: ferdousi\n",
            "بپور زره گفت نام تو چیست / ز ترکان جنگی ترا یار کیست\n",
            "--------------------------------------------------\n",
            "\n",
            "📜 شاعر: bahar\n",
            "بدوگونه اش زعفران بیخته / بر آن زعفران سرخ می ریخته\n",
            "--------------------------------------------------\n",
            "\n",
            "📜 شاعر: sanaee\n",
            "وان پسندیده راه امت تو / باد بدرود دین و شرع رسول\n",
            "--------------------------------------------------\n",
            "\n",
            "===== 🏷️ Label: Living =====\n",
            "\n",
            "📜 شاعر: sanaee\n",
            "خواجه پندارد که اندر راه دین مر طبع را / با کباب چرب و با لحم سمین باید نهاد\n",
            "--------------------------------------------------\n",
            "\n",
            "📜 شاعر: bahar\n",
            "عارفان را ز جان کنم خدمت / بکشم همچو اولیا صدمت\n",
            "--------------------------------------------------\n",
            "\n",
            "📜 شاعر: roodaki\n",
            "کرمکی شبتاب ناگاهی بتافت / کپیان آتش همی پنداشتند\n",
            "--------------------------------------------------\n",
            "\n",
            "📜 شاعر: khajoo\n",
            "نیازمند چنانم که گر بخاک درآیم / ز مهر گلشن رویت برون دمد گلم از گل\n",
            "--------------------------------------------------\n",
            "\n",
            "📜 شاعر: ferdousi\n",
            "شتربارها نار و سیب و بهی / ز گل دسته ها کرده شاهنشهی\n",
            "--------------------------------------------------\n",
            "\n",
            "===== 🏷️ Label: The Spiritual =====\n",
            "\n",
            "📜 شاعر: khajoo\n",
            "کدام پیک همایون رساند از خواجو / بحضرتی که بنضرت بود بهشت برین\n",
            "--------------------------------------------------\n",
            "\n",
            "📜 شاعر: ferdousi\n",
            "بدو گفت بهرام کای نیک نام / به نیکیت بادا همه ساله کام\n",
            "--------------------------------------------------\n",
            "\n",
            "📜 شاعر: bahar\n",
            "رشته الهام نخواهد گسست / تا به ابد متصل است از الست\n",
            "--------------------------------------------------\n",
            "\n",
            "📜 شاعر: attar\n",
            "مرا نیست زر چون دهم زر ولیکن / دهم در عوض جان اگر می ستاند\n",
            "--------------------------------------------------\n",
            "\n",
            "📜 شاعر: sanaee\n",
            "زاده ای در میانه اسلام / خواری و زخم کفر دیده نه ای\n",
            "--------------------------------------------------\n"
          ]
        }
      ],
      "source": [
        "import pandas as pd\n",
        "\n",
        "file_path = \"/content/persian_bayts_labeled_updated.csv\"\n",
        "df = pd.read_csv(file_path)\n",
        "\n",
        "labels = df[\"Label\"].unique()\n",
        "print(\"📌 لیبل‌های موجود:\", labels)\n",
        "\n",
        "for label in labels:\n",
        "    print(f\"\\n===== 🏷️ Label: {label} =====\")\n",
        "    samples = df[df[\"Label\"] == label].sample(n=5, random_state=42)\n",
        "    for i, row in samples.iterrows():\n",
        "        print(f\"\\n📜 شاعر: {row['Poet']}\")\n",
        "        print(row[\"Bayt\"]) \n",
        "        print(\"-\" * 50)\n"
      ]
    },
    {
      "cell_type": "markdown",
      "metadata": {
        "id": "dg870B4WSFtk"
      },
      "source": [
        "# new  labe\n",
        "\n",
        "یبل نهایی فارسی\tمعادل در لیست ۸۴تایی\tدلیل انتخاب\n",
        "1. Love\tRomantic Love\tدقیق‌ترین برچسب برای عشق زمینی، دلدادگی، رابطه عاشقانه\n",
        "2. Mortality\tDeath\tبهترین نماینده برای مرگ، فنا، ناپایداری\n",
        "3. Spirituality\tThe Spiritual\tعرفان، سلوک، تجربه معنوی، خداشناسی\n",
        "4. Nature & Society\tNature\tنماد تجربه‌های بیرونی، طبیعت، توصیف‌های غیرعاشقانه و غیرعرفانی"
      ]
    },
    {
      "cell_type": "code",
      "execution_count": null,
      "metadata": {
        "colab": {
          "base_uri": "https://localhost:8080/"
        },
        "id": "ZiW91-wHNdvW",
        "outputId": "f805048c-9a93-4b27-a025-5cb95c0b96c7"
      },
      "outputs": [
        {
          "name": "stdout",
          "output_type": "stream",
          "text": [
            "📌 لیبل‌های موجود: ['4. Nature & Society' '1. Love' '2. Mortality' '3. Spirituality']\n",
            "\n",
            "===== 🏷️ Label: 4. Nature & Society =====\n",
            "\n",
            "📜 شاعر: ferdousi\n",
            "یکی پند گویم ترا من درست / دل از مهر گیتی ببایدت شست\n",
            "--------------------------------------------------\n",
            "\n",
            "📜 شاعر: sanaee\n",
            "بر عاشق اگر سلام نکنی / باری بشنو سلام عاشق\n",
            "--------------------------------------------------\n",
            "\n",
            "📜 شاعر: attar\n",
            "سوزنی چون دید با عیسی به هم / بخیه با روی او فکندش لاجرم\n",
            "--------------------------------------------------\n",
            "\n",
            "📜 شاعر: bahar\n",
            "بدوگونه اش زعفران بیخته / بر آن زعفران سرخ می ریخته\n",
            "--------------------------------------------------\n",
            "\n",
            "📜 شاعر: roodaki\n",
            "بود همچو چرزی به چنگال شاهین / ازان کوز ابری باز کردار\n",
            "--------------------------------------------------\n",
            "\n",
            "===== 🏷️ Label: 1. Love =====\n",
            "\n",
            "📜 شاعر: khajoo\n",
            "اگر از باد صبا وصف عروسان چمن / نکند باورت از بلبل گویا بشنو\n",
            "--------------------------------------------------\n",
            "\n",
            "📜 شاعر: khajoo\n",
            "همچو محمود نداریم سر ملکت و تاج / که گرفتار سر زلف ایاز آمده ایم\n",
            "--------------------------------------------------\n",
            "\n",
            "📜 شاعر: roodaki\n",
            "که نیز تا نچمم کار من نگیرد چم / گر کند یاریی مرا به غم عشق آن صنم\n",
            "--------------------------------------------------\n",
            "\n",
            "📜 شاعر: khajoo\n",
            "بحقیقت بدان که قصه عشق / پیش صاحبدلان مجازی نیست\n",
            "--------------------------------------------------\n",
            "\n",
            "📜 شاعر: attar\n",
            "هر که او در عشق بی آرام نیست / کی تواند یافت آرام ای غلام\n",
            "--------------------------------------------------\n",
            "\n",
            "===== 🏷️ Label: 2. Mortality =====\n",
            "\n",
            "📜 شاعر: sanaee\n",
            "عین دین است زان چنین دارد / در صلابت چو عمری دگرست\n",
            "--------------------------------------------------\n",
            "\n",
            "📜 شاعر: khajoo\n",
            "نیازمند چنانم که گر بخاک درآیم / ز مهر گلشن رویت برون دمد گلم از گل\n",
            "--------------------------------------------------\n",
            "\n",
            "📜 شاعر: attar\n",
            "سر ذراتش همه روشن شود / گلخن دنیا برو گلشن شود\n",
            "--------------------------------------------------\n",
            "\n",
            "📜 شاعر: roodaki\n",
            "خواهی تا مرگ نیابد تو را / خواهی کز مرگ بیابی امان\n",
            "--------------------------------------------------\n",
            "\n",
            "📜 شاعر: bahar\n",
            "این هنوز آغاز فر و حشمت و اجلال تو است / باش تا کیوان ببوسد پایه ی ایوان تو را\n",
            "--------------------------------------------------\n",
            "\n",
            "===== 🏷️ Label: 3. Spirituality =====\n",
            "\n",
            "📜 شاعر: khajoo\n",
            "نغمه عشاق در نوروز خوش باشد ولیک / ایدریغ ارعیش ما را دست میدادی ادات\n",
            "--------------------------------------------------\n",
            "\n",
            "📜 شاعر: attar\n",
            "چون تگرگ از سنگ می نشناخت باز / کرد بیهوده زبان خود دراز\n",
            "--------------------------------------------------\n",
            "\n",
            "📜 شاعر: bahar\n",
            "که ای گردن فراز آهنین پی / که بود اوکاین چنین ترسیدی از وی\n",
            "--------------------------------------------------\n",
            "\n",
            "📜 شاعر: sanaee\n",
            "هزل نبود کلید خانه دل / دل به رشوت پذیرد از جان نور\n",
            "--------------------------------------------------\n",
            "\n",
            "📜 شاعر: khajoo\n",
            "آن ماه بین که فتنه شود مهر انورش / آن نقش بین که سجده کند نقش آذرش\n",
            "--------------------------------------------------\n"
          ]
        }
      ],
      "source": [
        "import pandas as pd\n",
        "\n",
        "file_path = \"/content/persian_bayts_relabels.csv\"\n",
        "df = pd.read_csv(file_path)\n",
        "\n",
        "labels = df[\"Label\"].unique()\n",
        "print(\"📌 لیبل‌های موجود:\", labels)\n",
        "\n",
        "for label in labels:\n",
        "    print(f\"\\n===== 🏷️ Label: {label} =====\")\n",
        "    samples = df[df[\"Label\"] == label].sample(n=5, random_state=42)\n",
        "    for i, row in samples.iterrows():\n",
        "        print(f\"\\n📜 شاعر: {row['Poet']}\")\n",
        "        print(row[\"Bayt\"])  \n",
        "        print(\"-\" * 50)\n"
      ]
    },
    {
      "cell_type": "markdown",
      "metadata": {
        "id": "NolVAJjjkcyC"
      },
      "source": [
        "# make engilish  data set"
      ]
    },
    {
      "cell_type": "code",
      "execution_count": null,
      "metadata": {
        "colab": {
          "base_uri": "https://localhost:8080/"
        },
        "id": "n0Vm8f2ZUPtk",
        "outputId": "e932d9d9-d1e1-4f5c-d48e-35b00193224e"
      },
      "outputs": [
        {
          "name": "stdout",
          "output_type": "stream",
          "text": [
            "✅ فایل ذخیره شد: /content/poetry_25_samples_per_label.csv\n"
          ]
        }
      ],
      "source": [
        "import pandas as pd\n",
        "\n",
        "file_path = \"/content/poetry_data/PoetryFoundationData.csv\"\n",
        "df = pd.read_csv(file_path)\n",
        "\n",
        "df = df.dropna(subset=[\"Tags\"])\n",
        "\n",
        "df_expanded = df.copy()\n",
        "df_expanded = df_expanded.assign(Tag=df_expanded[\"Tags\"].str.split(\",\")).explode(\"Tag\")\n",
        "df_expanded[\"Tag\"] = df_expanded[\"Tag\"].str.strip()\n",
        "\n",
        "target_tags = [\"Death\", \"Romantic Love\", \"The Spiritual\", \"Nature\"]\n",
        "\n",
        "samples = []\n",
        "for tag in target_tags:\n",
        "    tag_df = df_expanded[df_expanded[\"Tag\"] == tag]\n",
        "    tag_samples = tag_df.sample(n=25, random_state=42)\n",
        "    for _, row in tag_samples.iterrows():\n",
        "        samples.append({\n",
        "            \"Label\": tag,\n",
        "            \"Poet\": row[\"Poet\"],\n",
        "            \"Title\": str(row[\"Title\"]).strip(),\n",
        "            \"Poem\": str(row[\"Poem\"]).strip()\n",
        "        })\n",
        "\n",
        "final_df = pd.DataFrame(samples)\n",
        "\n",
        "output_path = \"/content/poetry_25_samples_per_label.csv\"\n",
        "final_df.to_csv(output_path, index=False)\n",
        "\n",
        "print(\"✅ فایل ذخیره شد:\", output_path)\n"
      ]
    },
    {
      "cell_type": "code",
      "execution_count": null,
      "metadata": {
        "colab": {
          "base_uri": "https://localhost:8080/"
        },
        "id": "lKX0pKXCkgj-",
        "outputId": "6ee367ce-4a39-47c2-db34-9100e546a996"
      },
      "outputs": [
        {
          "name": "stdout",
          "output_type": "stream",
          "text": [
            "📌 لیبل‌های موجود: ['Death' 'Romantic Love' 'The Spiritual' 'Nature']\n",
            "\n",
            "===== 🏷️ Label: Death =====\n",
            "\n",
            "📜 عنوان: Strange Meeting\n",
            "👤 شاعر: Wilfred Owen\n",
            "📝 شعر:\n",
            "It seemed that out of battle I escaped Down some profound dull tunnel, long since scooped Through granites which titanic wars had groined. Yet also there encumbered sleepers groaned, Too fast in thought or death to be bestirred. Then, as I probed them, one sprang up, and stared With piteous recognition in fixed eyes, Lifting distressful hands, as if to bless. And by his smile, I knew that sullen hall,— By his dead smile I knew we stood in Hell. With a thousand fears that vision's face was grained; Yet no blood reached there from the upper ground, And no guns thumped, or down the flues made moan. “Strange friend,” I said, “here is no cause to mourn.” “None,” said that other, “save the undone years, The hopelessness. Whatever hope is yours, Was my life also; I went hunting wild After the wildest beauty in the world, Which lies not calm in eyes, or braided hair, But mocks the steady running of the hour, And if it grieves, grieves richlier than here. For by my glee might many men have laughed, And of my weeping something had been left, Which must die now. I mean the truth untold, The pity of war, the pity war distilled. Now men will go content with what we spoiled. Or, discontent, boil bloody, and be spilled. They will be swift with swiftness of the tigress. None will break ranks, though nations trek from progress. Courage was mine, and I had mystery; Wisdom was mine, and I had mastery: To miss the march of this retreating world Into vain citadels that are not walled. Then, when much blood had clogged their chariot-wheels, I would go up and wash them from sweet wells, Even with truths that lie too deep for taint. I would have poured my spirit without stint But not through wounds; not on the cess of war. Foreheads of men have bled where no wounds were. “I am the enemy you killed, my friend. I knew you in this dark: for so you frowned Yesterday through me as you jabbed and killed. I parried; but my hands were loath and cold. Let us sleep now. . . .”\n",
            "------------------------------------------------------------\n",
            "\n",
            "📜 عنوان: The Rime of the Ancient Mariner (text of 1834)\n",
            "👤 شاعر: Samuel Taylor Coleridge\n",
            "📝 شعر:\n",
            "Argument  How a Ship having passed the Line was driven by storms to the cold Country towards the South Pole; and how from thence she made her course to the tropical Latitude of the Great Pacific Ocean; and of the strange things that befell; and in what manner the Ancyent Marinere came back to his own Country.\r\r\n",
            "\r\r\n",
            "\r\r\n",
            "\r\r\n",
            "PART I It is an ancient Mariner, And he stoppeth one of three. 'By thy long grey beard and glittering eye, Now wherefore stopp'st thou me? The Bridegroom's doors are opened wide, And I am next of kin; The guests are met, the feast is set: May'st hear the merry din.' He holds him with his skinny hand, 'There was a ship,' quoth he. 'Hold off! unhand me, grey-beard loon!' Eftsoons his hand dropt he. He holds him with his glittering eye— The Wedding-Guest stood still, And listens like a three years' child: The Mariner hath his will. The Wedding-Guest sat on a stone: He cannot choose but hear; And thus spake on that ancient man, The bright-eyed Mariner. 'The ship was cheered, the harbour cleared, Merrily did we drop Below the kirk, below the hill, Below the lighthouse top. The Sun came up upon the left, Out of the sea came he! And he shone bright, and on the right Went down into the sea. Higher and higher every day, Till over the mast at noon—' The Wedding-Guest here beat his breast, For he heard the loud bassoon. The bride hath paced into the hall, Red as a rose is she; Nodding their heads before her goes The merry minstrelsy. The Wedding-Guest he beat his breast, Yet he cannot choose but hear; And thus spake on that ancient man, The bright-eyed Mariner. And now the STORM-BLAST came, and he Was tyrannous and strong: He struck with his o'ertaking wings, And chased us south along. With sloping masts and dipping prow, As who pursued with yell and blow Still treads the shadow of his foe, And forward bends his head, The ship drove fast, loud roared the blast, And southward aye we fled. And now there came both mist and snow, And it grew wondrous cold: And ice, mast-high, came floating by, As green as emerald. And through the drifts the snowy clifts Did send a dismal sheen: Nor shapes of men nor beasts we ken— The ice was all between. The ice was here, the ice was there, The ice was all around: It cracked and growled, and roared and howled, Like noises in a swound! At length did cross an Albatross, Thorough the fog it came; As if it had been a Christian soul, We hailed it in God's name. It ate the food it ne'er had eat, And round and round it flew. The ice did split with a thunder-fit; The helmsman steered us through! And a good south wind sprung up behind; The Albatross did follow, And every day, for food or play, Came to the mariner's hollo! In mist or cloud, on mast or shroud, It perched for vespers nine; Whiles all the night, through fog-smoke white, Glimmered the white Moon-shine.' 'God save thee, ancient Mariner! From the fiends, that plague thee thus!— Why look'st thou so?'—With my cross-bow I shot the ALBATROSS. PART II The Sun now rose upon the right: Out of the sea came he, Still hid in mist, and on the left Went down into the sea. And the good south wind still blew behind, But no sweet bird did follow, Nor any day for food or play Came to the mariner's hollo! And I had done a hellish thing, And it would work 'em woe: For all averred, I had killed the bird That made the breeze to blow. Ah wretch! said they, the bird to slay, That made the breeze to blow! Nor dim nor red, like God's own head, The glorious Sun uprist: Then all averred, I had killed the bird That brought the fog and mist. 'Twas right, said they, such birds to slay, That bring the fog and mist. The fair breeze blew, the white foam flew, The furrow followed free; We were the first that ever burst Into that silent sea. Down dropt the breeze, the sails dropt down, 'Twas sad as sad could be; And we did speak only to break The silence of the sea! All in a hot and copper sky, The bloody Sun, at noon, Right up above the mast did stand, No bigger than the Moon. Day after day, day after day, We stuck, nor breath nor motion; As idle as a painted ship Upon a painted ocean. Water, water, every where, And all the boards did shrink; Water, water, every where, Nor any drop to drink. The very deep did rot: O Christ! That ever this should be! Yea, slimy things did crawl with legs Upon the slimy sea. About, about, in reel and rout The death-fires danced at night; The water, like a witch's oils, Burnt green, and blue and white. And some in dreams assurèd were Of the Spirit that plagued us so; Nine fathom deep he had followed us From the land of mist and snow. And every tongue, through utter drought, Was withered at the root; We could not speak, no more than if We had been choked with soot. Ah! well a-day! what evil looks Had I from old and young! Instead of the cross, the Albatross About my neck was hung. PART III There passed a weary time. Each throat Was parched, and glazed each eye. A weary time! a weary time! How glazed each weary eye, When looking westward, I beheld A something in the sky. At first it seemed a little speck, And then it seemed a mist; It moved and moved, and took at last A certain shape, I wist. A speck, a mist, a shape, I wist! And still it neared and neared: As if it dodged a water-sprite, It plunged and tacked and veered. With throats unslaked, with black lips baked, We could nor laugh nor wail; Through utter drought all dumb we stood! I bit my arm, I sucked the blood, And cried, A sail! a sail! With throats unslaked, with black lips baked, Agape they heard me call: Gramercy! they for joy did grin, And all at once their breath drew in. As they were drinking all. See! see! (I cried) she tacks no more! Hither to work us weal; Without a breeze, without a tide, She steadies with upright keel! The western wave was all a-flame. The day was well nigh done! Almost upon the western wave Rested the broad bright Sun; When that strange shape drove suddenly Betwixt us and the Sun. And straight the Sun was flecked with bars, (Heaven's Mother send us grace!) As if through a dungeon-grate he peered With broad and burning face. Alas! (thought I, and my heart beat loud) How fast she nears and nears! Are those  her sails that glance in the Sun, Like restless gossameres? Are those her  ribs through which the Sun Did peer, as through a grate? And is that Woman all her crew? Is that a DEATH? and are there two? Is DEATH that woman's mate?  Her lips were red,  her looks were free, Her locks were yellow as gold: Her skin was as white as leprosy, The Night-mare LIFE-IN-DEATH was she, Who thicks man's blood with cold. The naked hulk alongside came, And the twain were casting dice; 'The game is done! I've won! I've won!' Quoth she, and whistles thrice. The Sun's rim dips; the stars rush out; At one stride comes the dark; With far-heard whisper, o'er the sea, Off shot the spectre-bark. We listened and looked sideways up! Fear at my heart, as at a cup, My life-blood seemed to sip! The stars were dim, and thick the night, The steersman's face by his lamp gleamed white; From the sails the dew did drip— Till clomb above the eastern bar The hornèd Moon, with one bright star Within the nether tip. One after one, by the star-dogged Moon, Too quick for groan or sigh, Each turned his face with a ghastly pang, And cursed me with his eye. Four times fifty living men, (And I heard nor sigh nor groan) With heavy thump, a lifeless lump, They dropped down one by one. The souls did from their bodies fly,— They fled to bliss or woe! And every soul, it passed me by, Like the whizz of my cross-bow! PART IV 'I fear thee, ancient Mariner! I fear thy skinny hand! And thou art long, and lank, and brown, As is the ribbed sea-sand. I fear thee and thy glittering eye, And thy skinny hand, so brown.'— Fear not, fear not, thou Wedding-Guest! This body dropt not down. Alone, alone, all, all alone, Alone on a wide wide sea! And never a saint took pity on My soul in agony. The many men, so beautiful! And they all dead did lie: And a thousand thousand slimy things Lived on; and so did I. I looked upon the rotting sea, And drew my eyes away; I looked upon the rotting deck, And there the dead men lay. I looked to heaven, and tried to pray; But or ever a prayer had gusht, A wicked whisper came, and made My heart as dry as dust. I closed my lids, and kept them close, And the balls like pulses beat; For the sky and the sea, and the sea and the sky Lay dead like a load on my weary eye, And the dead were at my feet. The cold sweat melted from their limbs, Nor rot nor reek did they: The look with which they looked on me Had never passed away. An orphan's curse would drag to hell A spirit from on high; But oh! more horrible than that Is the curse in a dead man's eye! Seven days, seven nights, I saw that curse, And yet I could not die. The moving Moon went up the sky, And no where did abide: Softly she was going up, And a star or two beside— Her beams bemocked the sultry main, Like April hoar-frost spread; But where the ship's huge shadow lay, The charmèd water burnt alway A still and awful red. Beyond the shadow of the ship, I watched the water-snakes: They moved in tracks of shining white, And when they reared, the elfish light Fell off in hoary flakes. Within the shadow of the ship I watched their rich attire: Blue, glossy green, and velvet black, They coiled and swam; and every track Was a flash of golden fire. O happy living things! no tongue Their beauty might declare: A spring of love gushed from my heart, And I blessed them unaware: Sure my kind saint took pity on me, And I blessed them unaware. The self-same moment I could pray; And from my neck so free The Albatross fell off, and sank Like lead into the sea. PART V Oh sleep! it is a gentle thing, Beloved from pole to pole! To Mary Queen the praise be given! She sent the gentle sleep from Heaven, That slid into my soul. The silly buckets on the deck, That had so long remained, I dreamt that they were filled with dew; And when I awoke, it rained. My lips were wet, my throat was cold, My garments all were dank; Sure I had drunken in my dreams, And still my body drank. I moved, and could not feel my limbs: I was so light—almost I thought that I had died in sleep, And was a blessed ghost. And soon I heard a roaring wind: It did not come anear; But with its sound it shook the sails, That were so thin and sere. The upper air burst into life! And a hundred fire-flags sheen, To and fro they were hurried about! And to and fro, and in and out, The wan stars danced between. And the coming wind did roar more loud, And the sails did sigh like sedge, And the rain poured down from one black cloud; The Moon was at its edge. The thick black cloud was cleft, and still The Moon was at its side: Like waters shot from some high crag, The lightning fell with never a jag, A river steep and wide. The loud wind never reached the ship, Yet now the ship moved on! Beneath the lightning and the Moon The dead men gave a groan. They groaned, they stirred, they all uprose, Nor spake, nor moved their eyes; It had been strange, even in a dream, To have seen those dead men rise. The helmsman steered, the ship moved on; Yet never a breeze up-blew; The mariners all 'gan work the ropes, Where they were wont to do; They raised their limbs like lifeless tools— We were a ghastly crew. The body of my brother's son Stood by me, knee to knee: The body and I pulled at one rope, But he said nought to me. 'I fear thee, ancient Mariner!' Be calm, thou Wedding-Guest! 'Twas not those souls that fled in pain, Which to their corses came again, But a troop of spirits blest: For when it dawned—they dropped their arms, And clustered round the mast; Sweet sounds rose slowly through their mouths, And from their bodies passed. Around, around, flew each sweet sound, Then darted to the Sun; Slowly the sounds came back again, Now mixed, now one by one. Sometimes a-dropping from the sky I heard the sky-lark sing; Sometimes all little birds that are, How they seemed to fill the sea and air With their sweet jargoning! And now 'twas like all instruments, Now like a lonely flute; And now it is an angel's song, That makes the heavens be mute. It ceased; yet still the sails made on A pleasant noise till noon, A noise like of a hidden brook In the leafy month of June, That to the sleeping woods all night Singeth a quiet tune. Till noon we quietly sailed on, Yet never a breeze did breathe: Slowly and smoothly went the ship, Moved onward from beneath. Under the keel nine fathom deep, From the land of mist and snow, The spirit slid: and it was he That made the ship to go. The sails at noon left off their tune, And the ship stood still also. The Sun, right up above the mast, Had fixed her to the ocean: But in a minute she 'gan stir, With a short uneasy motion— Backwards and forwards half her length With a short uneasy motion. Then like a pawing horse let go, She made a sudden bound: It flung the blood into my head, And I fell down in a swound. How long in that same fit I lay, I have not to declare; But ere my living life returned, I heard and in my soul discerned Two voices in the air. 'Is it he?' quoth one, 'Is this the man? By him who died on cross, With his cruel bow he laid full low The harmless Albatross. The spirit who bideth by himself In the land of mist and snow, He loved the bird that loved the man Who shot him with his bow.' The other was a softer voice, As soft as honey-dew: Quoth he, 'The man hath penance done, And penance more will do.' PART VI\n",
            "------------------------------------------------------------\n",
            "\n",
            "📜 عنوان: Nellie Clark\n",
            "👤 شاعر: Edgar Lee Masters\n",
            "📝 شعر:\n",
            "I was only eight years old;\r\r\n",
            "And before I grew up and knew what it meant\r\r\n",
            "I had no words for it, except\r\r\n",
            "That I was frightened and told my\r\r\n",
            "Mother; And that my Father got a pistol\r\r\n",
            "And would have killed Charlie, who was a big boy,\r\r\n",
            "Fifteen years old, except for his Mother.\r\r\n",
            "Nevertheless the story clung to me.\r\r\n",
            "But the man who married me, a widower of thirty-five,\r\r\n",
            "Was a newcomer and never heard it\r\r\n",
            "Till two years after we were married.\r\r\n",
            "Then he considered himself cheated,\r\r\n",
            "And the village agreed that I was not really a virgin.\r\r\n",
            "Well, he deserted me, and I died\r\r\n",
            "The following winter.\n",
            "------------------------------------------------------------\n",
            "\n",
            "===== 🏷️ Label: Romantic Love =====\n",
            "\n",
            "📜 عنوان: Sonnets from the Portuguese 22: When our two souls stand up erect and strong\n",
            "👤 شاعر: Elizabeth Barrett Browning\n",
            "📝 شعر:\n",
            "When our two souls stand up erect and strong, Face to face, silent, drawing nigh and nigher, Until the lengthening wings break into fire At either curvéd point, — what bitter wrong Can the earth do to us, that we should not long Be here contented ? Think. In mounting higher, The angels would press on us, and aspire To drop some golden orb of perfect song Into our deep, dear silence. Let us stay Rather on earth, Belovèd, — where the unfit Contrarious moods of men recoil away And isolate pure spirits, and permit A place to stand and love in for a day, With darkness and the death-hour rounding it.\n",
            "------------------------------------------------------------\n",
            "\n",
            "📜 عنوان: A Roundelay between Two Shepherds\n",
            "👤 شاعر: Michael Drayton\n",
            "📝 شعر:\n",
            "1 Shep.      Tell me, thou gentle shepherd swain,\r\r\n",
            "             Who’s yonder in the vale is set?\r2 Shep.      Oh, it is she, whose sweets do stain\r\r\n",
            "             The lily, rose, the violet!\r1 Shep.      Why doth the sun against his kind,\r\r\n",
            "             Fix his bright chariot in the skies?\r2 Shep.      Because the sun is stricken blind\r\r\n",
            "             With looking on her heavenly eyes.\r1 Shep.      Why do thy flocks forbear their food,\r\r\n",
            "             Which sometime were thy chief delight?\r2 Shep.      Because they need no other good\r\r\n",
            "             That live in presence of her sight.\r1 Shep.      Why look these flowers so pale and ill,\r\r\n",
            "             That once attired this goodly heath?\r2 Shep.      She hath robb’d Nature of her skill,\r\r\n",
            "             And sweetens all things with her breath.\r1 Shep.      Why slide these brooks so slow away,\r\r\n",
            "             Whose bubbling murmur pleased thine ear?\r2 Shep.      Oh, marvel not although they stay,\r\r\n",
            "             When they her heavenly voice do hear!\r1 Shep.      From whence come all these shepherd swains,\r\r\n",
            "             And lovely nymphs attired in green?\r2 Shep.      From gathering garlands on the plains,\r\r\n",
            "             To crown our fair the shepherds’ queen.\rBoth.        The sun that lights this world below,\r\r\n",
            "             Flocks, flowers, and brooks will witness bear:\r\r\n",
            "             These nymphs and shepherds all do know,\r\r\n",
            "             That it is she is only fair.\n",
            "------------------------------------------------------------\n",
            "\n",
            "📜 عنوان: The Tunnel\n",
            "👤 شاعر: Robert Creeley\n",
            "📝 شعر:\n",
            "Tonight, nothing is long enough—\r\r\n",
            "time isn’﻿t.\r\r\n",
            "Were there a fire,\r\r\n",
            "it would burn now.\r\r\n",
            " \r\r\n",
            "Were there a heaven,\r\r\n",
            "I would have gone long ago.\r\r\n",
            "I think that light\r\r\n",
            "is the final image.\r\r\n",
            " \r\r\n",
            "But time reoccurs,\r\r\n",
            "love—and an echo.\r\r\n",
            "A time passes\r\r\n",
            "love in the dark.\n",
            "------------------------------------------------------------\n",
            "\n",
            "===== 🏷️ Label: The Spiritual =====\n",
            "\n",
            "📜 عنوان: Pallinode, Book 1, Section 7\n",
            "👤 شاعر: H. D.\n",
            "📝 شعر:\n",
            "Helen achieves the difficult task of translating a symbol in time, into timeless-time or hieroglyph or ancient Egyptian time. She knows the script, she says, but we judge that this is intuitive or emotional knowledge, rather than intellectual. In any case, a night-bird swooped toward them, in their first encounter on the beach. To Achilles, lately arrived from Troy and the carnage of battle, this is a \"carrion creature,\" but Helen would banish these memories. She says she is \"instructed,\" she is enchanted, rather. For from the depth of her racial inheritance, she invokes (as the perceptive visitor to Egypt must always do) the symbol or the \"letter\" that represents or recalls the protective mother-goddess. This is no death-symbol but a life-symbol, it is Isis or her Greek counterpart, Thetis, the mother of Achilles.\r\r\r\n",
            "                 We huddled over the fire,\r\r\r\n",
            "                 was there ever such a brazier?\r\r\r\n",
            "                 a night-bird hooted past,\r\r\r\n",
            "                 he started, \"a curious flight,\r\r\r\n",
            "                 a carrion creature — what—\"\r\r\r\n",
            "                 (dear God, let him forget);\r\r\r\n",
            "                 I said, \"there is mystery in this place,\r\r\r\n",
            "                 I am instructed, I know the script,\r\r\r\n",
            "                 the shape of this bird is a letter,\r\r\r\n",
            "                 they call it the hieroglyph;\r\r\r\n",
            "                 strive not, it is dedicate\r\r\r\n",
            "                 to the goddess here, she is Isis\";\r\r\r\n",
            "                 \"Isis,\" he said, \"or Thetis,\" I said,\r\r\r\n",
            "                 recalling, remembering, invoking\r\r\r\n",
            "                 his sea-mother;\r\r\r\n",
            "                 flame, I prayed, flame forget,\r\r\r\n",
            "                 forgive and forget the other,\r\r\r\n",
            "                 let my heart be filled with peace,\r\r\r\n",
            "                 let me love him, as Thetis, his mother,\r\r\r\n",
            "                 for I knew him, I saw in his eyes\r\r\r\n",
            "                 the sea-enchantment, but he\r\r\r\n",
            "                 knew not yet, Helen of Sparta,\r\r\r\n",
            "                 knew not Helen of Troy,\r\r\r\n",
            "                 knew not Helena, hated of Greece.\n",
            "------------------------------------------------------------\n",
            "\n",
            "📜 عنوان: The Storm-struck Tree\n",
            "👤 شاعر: Jessica Greenbaum\n",
            "📝 شعر:\n",
            "As the storm-struck oak leaned closer to the house —The remaining six-story half of the tree listing toward the glass box Of  the kitchen like someone in the first tilt of stumbling —The other half crashed into the neighbors’ yards, a massiveDiagonal for which we had no visual cue save for An antler dropped by a constellation —As the ragged half   leaned nearer, the second storm of cloying snow Began pulling on the shocked, still-looming splitting, and its branches dragged Lower like ripped hems it was tripping overUntil they rustled on the roof under which IQuickly made dinner, each noise a threat from a body under which we so recently Said, Thank goodness for our tree, how it has accompanied us all these years,Thank goodness for its recitation of the seasons out our windows and overThe little lot of our yard, thank goodness for the birdsong and  squirrel games Which keep us from living alone, and for its proffered shade, the crack of the batResounding through September when its dime-sized acorns Land on the tin awning next door. HaveMercy on us, you, the massively beautiful, now ravaged and chargedWith destruction.We did speak like that. As if from a book of psalmsBecause it took up the sky\n",
            "------------------------------------------------------------\n",
            "\n",
            "📜 عنوان: Rite\n",
            "👤 شاعر: Henry Dumas\n",
            "📝 شعر:\n",
            "Vodu green clinching his waist,\r\r\n",
            "obi purple ringing his neck,\r\r\n",
            "Shango, God of the spirits,\r\r\n",
            "whispering in his ear,\r\r\n",
            "thunderlight stabbing the island\r\r\n",
            "of blood rising from his skull.\r\r\n",
            "Mojo bone in his fist\r\r\n",
            "strikes the sun from his eye.\r\r\n",
            "Iron claw makes his wrist.\r\r\n",
            "He recalls the rites of strength\r\r\n",
            "carved upon his chest.\r\r\n",
            "Black flame, like tongues of glass,\r\r\n",
            "ripples beneath a river of sweat.\r\r\n",
            "Strike the island!\r\r\n",
            "Strike the sun!\r\r\n",
            "Strike the eye of evil!\r\r\n",
            "Strike the guilty one!\r\r\n",
            "No power can stay the mojo\r\r\n",
            "when the obi is purple\r\r\n",
            "and the vodu is green\r\r\n",
            "and Shango is whispering,\r\r\n",
            "Bathe me in blood.\r\r\n",
            "I am not clean.\n",
            "------------------------------------------------------------\n",
            "\n",
            "===== 🏷️ Label: Nature =====\n",
            "\n",
            "📜 عنوان: The Totality of Facts\n",
            "👤 شاعر: Allan Peterson\n",
            "📝 شعر:\n",
            "The laughing gull that flew behind the fencepost\r\r\n",
            "and never came out was the beginning\r\r\n",
            "and then a hand smaller than my hand covered Wisconsin\r\r\n",
            "with a gesture for explanation.\r\r\n",
            "In the afternoon there are pauses between the words\r\r\n",
            "through which commas can grow like daisy fleabane.\r\r\n",
            "A fish with an osprey in its back emerges from the Sound\r\r\n",
            "and nothing can be learned by more analysis.\r\r\n",
            "The book of her hair opens to its binding and I leaf through\r\r\n",
            "the glorious pages of appreciation and that’s not all.\r\r\n",
            "We could not have turned fast enough to catch\r\r\n",
            "light and leftovers from so much of what happened:\r\r\n",
            "the swift figures behind you like a planet’s dark\r\r\n",
            "companion, ships entering and leaving the hall closet\r\r\n",
            "the real and imagined between which is no difference.\n",
            "------------------------------------------------------------\n",
            "\n",
            "📜 عنوان: Letters to Walt Whitman\n",
            "👤 شاعر: Ronald Johnson\n",
            "📝 شعر:\n",
            "II hear you are whispering there O stars of heaven,\r\r\n",
            "O suns—O grass of graves. . .\r\r\n",
            "If you do not say anything how can I say anything?\n",
            "------------------------------------------------------------\n",
            "\n",
            "📜 عنوان: The Hand-Carved Loon\n",
            "👤 شاعر: Robert Adamson\n",
            "📝 شعر:\n",
            "And there are\r\r\n",
            "Two birds\r\r\n",
            "In this poem\r\r\n",
            "A loon\r\r\n",
            "Hand-carved\r\r\n",
            "From balsa\r\r\n",
            "And a snakebird\r\r\n",
            "On the tide\r\r\n",
            "Of the river\r\r\n",
            "The oily head\r\r\n",
            "Of a water bird\r\r\n",
            "Cuts surface\r\r\n",
            "And glides\r\r\n",
            "Along by\r\r\n",
            "Tarred wooden\r\r\n",
            "Racks\r\r\n",
            "Ideograms\r\r\n",
            "Oyster farms\r\r\n",
            "Low on the tide\r\r\n",
            "Lower than\r\r\n",
            "The hand-carved\r\r\n",
            "Loon it looks\r\r\n",
            "Hardly buoyant\r\r\n",
            "A bird\r\r\n",
            "From two\r\r\n",
            "Worlds it knows\r\r\n",
            "The murk\r\r\n",
            "On the bottom\r\r\n",
            "And waves\r\r\n",
            "Crinkled by sun\r\r\n",
            "It swims\r\r\n",
            "As well\r\r\n",
            "As a black trevally\r\r\n",
            "Sleek and fast\r\r\n",
            "A challenge to\r\r\n",
            "Handcrafted birds\r\r\n",
            "To all things made up\n",
            "------------------------------------------------------------\n"
          ]
        }
      ],
      "source": [
        "import pandas as pd\n",
        "df = pd.read_csv(\"/content/poetry_25_samples_per_label.csv\")\n",
        "\n",
        "print(\"📌 لیبل‌های موجود:\", df[\"Label\"].unique())\n",
        "\n",
        "for label in df[\"Label\"].unique():\n",
        "    print(f\"\\n===== 🏷️ Label: {label} =====\")\n",
        "    samples = df[df[\"Label\"] == label].sample(n=3, random_state=1)\n",
        "    for idx, row in samples.iterrows():\n",
        "        print(f\"\\n📜 عنوان: {row['Title'].strip()}\")\n",
        "        print(f\"👤 شاعر: {row['Poet']}\")\n",
        "        print(\"📝 شعر:\")\n",
        "        print(row[\"Poem\"])\n",
        "        print(\"-\" * 60)\n"
      ]
    },
    {
      "cell_type": "markdown",
      "metadata": {
        "id": "Y7BEXWB3SU7e"
      },
      "source": [
        "# sampel  of  english data"
      ]
    },
    {
      "cell_type": "code",
      "execution_count": null,
      "metadata": {
        "colab": {
          "base_uri": "https://localhost:8080/"
        },
        "id": "CAskW6Z4lEKw",
        "outputId": "c4f00295-e903-4865-955b-77e9ad9e0c6a"
      },
      "outputs": [
        {
          "name": "stdout",
          "output_type": "stream",
          "text": [
            "            Label                 Poet  \\\n",
            "83         Nature  Ralph Waldo Emerson   \n",
            "53  The Spiritual       Philip Freneau   \n",
            "70  The Spiritual       Allen Ginsberg   \n",
            "45  Romantic Love    Sir Philip Sidney   \n",
            "44  Romantic Love         Donika Kelly   \n",
            "\n",
            "                                                Title  \\\n",
            "83                                     The Snow-Storm   \n",
            "53                          The Indian Burying Ground   \n",
            "70                                   Footnote to Howl   \n",
            "45  Astrophil and Stella 90: Stella, think not tha...   \n",
            "44                                             Dear —   \n",
            "\n",
            "                                                 Poem  \n",
            "83  Announced by all the trumpets of the sky, Arri...  \n",
            "53  In spite of all the learned have said,     I s...  \n",
            "70  Holy! Holy! Holy! Holy! Holy! Holy! Holy! Holy...  \n",
            "45  Stella, think not that I by verse seek fame, W...  \n",
            "44  I am not land or timber\\r\\r\\nnor are you\\r\\r\\n...  \n"
          ]
        }
      ],
      "source": [
        "import pandas as pd\n",
        "\n",
        "file_path = \"/content/poetry_25_samples_per_label.csv\"\n",
        "\n",
        "df = pd.read_csv(file_path)\n",
        "\n",
        "n = 5\n",
        "sample_rows = df.sample(n, random_state=42)\n",
        "\n",
        "# نمایش در خروجی\n",
        "print(sample_rows)\n"
      ]
    },
    {
      "cell_type": "code",
      "execution_count": null,
      "metadata": {
        "colab": {
          "base_uri": "https://localhost:8080/",
          "height": 954
        },
        "id": "57rQdCP4S4BA",
        "outputId": "c1a23ff3-5dd3-4934-9387-390d103b58a1"
      },
      "outputs": [
        {
          "name": "stdout",
          "output_type": "stream",
          "text": [
            "Minimum length: 58\n",
            "Maximum length: 18110\n",
            "Average length: 1848.32\n",
            "Median length: 915.0\n"
          ]
        },
        {
          "data": {
            "image/png": "[encoded data removed]",
            "text/plain": [
              "<Figure size 1000x500 with 1 Axes>"
            ]
          },
          "metadata": {},
          "output_type": "display_data"
        },
        {
          "data": {
            "image/png": "[encoded data removed]",
            "text/plain": [
              "<Figure size 600x400 with 1 Axes>"
            ]
          },
          "metadata": {},
          "output_type": "display_data"
        }
      ],
      "source": [
        "import pandas as pd\n",
        "import matplotlib.pyplot as plt\n",
        "\n",
        "file_path = \"/content/poetry_25_samples_per_label.csv\"\n",
        "df = pd.read_csv(file_path)\n",
        "\n",
        "df[\"Poem_length\"] = df[\"Poem\"].astype(str).apply(len)\n",
        "\n",
        "print(\"Minimum length:\", df[\"Poem_length\"].min())\n",
        "print(\"Maximum length:\", df[\"Poem_length\"].max())\n",
        "print(\"Average length:\", df[\"Poem_length\"].mean())\n",
        "print(\"Median length:\", df[\"Poem_length\"].median())\n",
        "\n",
        "plt.figure(figsize=(10,5))\n",
        "plt.hist(df[\"Poem_length\"], bins=30, edgecolor=\"black\")\n",
        "plt.title(\"Poem Length Distribution (Histogram)\")\n",
        "plt.xlabel(\"Number of characters\")\n",
        "plt.ylabel(\"Number of poems\")\n",
        "plt.show()\n",
        "\n",
        "plt.figure(figsize=(6,4))\n",
        "plt.boxplot(df[\"Poem_length\"], vert=False)\n",
        "plt.title(\"Poem Length Distribution (Boxplot)\")\n",
        "plt.xlabel(\"Number of characters\")\n",
        "plt.show()\n"
      ]
    },
    {
      "cell_type": "code",
      "execution_count": null,
      "metadata": {
        "colab": {
          "base_uri": "https://localhost:8080/",
          "height": 954
        },
        "id": "9pFGDwpiTYQM",
        "outputId": "b1031eed-b194-4275-c514-4ef9db679a72"
      },
      "outputs": [
        {
          "name": "stdout",
          "output_type": "stream",
          "text": [
            "Minimum length: 4\n",
            "Maximum length: 88699\n",
            "Average length: 1505.4722823733218\n",
            "Median length: 921.0\n"
          ]
        },
        {
          "data": {
            "image/png": "[encoded data removed]",
            "text/plain": [
              "<Figure size 1000x500 with 1 Axes>"
            ]
          },
          "metadata": {},
          "output_type": "display_data"
        },
        {
          "data": {
            "image/png": "[encoded data removed]",
            "text/plain": [
              "<Figure size 600x400 with 1 Axes>"
            ]
          },
          "metadata": {},
          "output_type": "display_data"
        }
      ],
      "source": [
        "import pandas as pd\n",
        "df = pd.read_csv(\"/content/poetry_data/PoetryFoundationData.csv\")\n",
        "\n",
        "df[\"Poem_length\"] = df[\"Poem\"].astype(str).apply(len)\n",
        "\n",
        "print(\"Minimum length:\", df[\"Poem_length\"].min())\n",
        "print(\"Maximum length:\", df[\"Poem_length\"].max())\n",
        "print(\"Average length:\", df[\"Poem_length\"].mean())\n",
        "print(\"Median length:\", df[\"Poem_length\"].median())\n",
        "\n",
        "plt.figure(figsize=(10,5))\n",
        "plt.hist(df[\"Poem_length\"], bins=30, edgecolor=\"black\")\n",
        "plt.title(\"Poem Length Distribution (Histogram)\")\n",
        "plt.xlabel(\"Number of characters\")\n",
        "plt.ylabel(\"Number of poems\")\n",
        "plt.show()\n",
        "\n",
        "plt.figure(figsize=(6,4))\n",
        "plt.boxplot(df[\"Poem_length\"], vert=False)\n",
        "plt.title(\"Poem Length Distribution (Boxplot)\")\n",
        "plt.xlabel(\"Number of characters\")\n",
        "plt.show()\n"
      ]
    },
    {
      "cell_type": "code",
      "execution_count": null,
      "metadata": {
        "colab": {
          "base_uri": "https://localhost:8080/"
        },
        "id": "Enbyq0hFUDgJ",
        "outputId": "976aab2a-1559-4afb-8ce2-2747399012bb"
      },
      "outputs": [
        {
          "name": "stdout",
          "output_type": "stream",
          "text": [
            "Number of poems for each label:\n",
            "Label\n",
            "Nature           3613\n",
            "Death            1547\n",
            "Romantic Love     486\n",
            "The Spiritual     385\n",
            "Name: count, dtype: int64\n"
          ]
        }
      ],
      "source": [
        "import pandas as pd\n",
        "\n",
        "df = df.dropna(subset=[\"Tags\"])\n",
        "\n",
        "df_expanded = df.copy()\n",
        "df_expanded = df_expanded.assign(Tag=df_expanded[\"Tags\"].str.split(\",\")).explode(\"Tag\")\n",
        "df_expanded[\"Tag\"] = df_expanded[\"Tag\"].str.strip()\n",
        "\n",
        "target_tags = [\"Death\", \"Romantic Love\", \"The Spiritual\", \"Nature\"]\n",
        "\n",
        "samples = []\n",
        "for tag in target_tags:\n",
        "    tag_df = df_expanded[df_expanded[\"Tag\"] == tag]\n",
        "    for _, row in tag_df.iterrows():\n",
        "        samples.append({\n",
        "            \"Label\": tag,\n",
        "            \"Poet\": row[\"Poet\"],\n",
        "            \"Title\": str(row[\"Title\"]).strip(),\n",
        "            \"Poem\": str(row[\"Poem\"]).strip()\n",
        "        })\n",
        "\n",
        "final_df = pd.DataFrame(samples)\n",
        "\n",
        "print(\"Number of poems for each label:\")\n",
        "print(final_df[\"Label\"].value_counts())\n"
      ]
    },
    {
      "cell_type": "code",
      "execution_count": null,
      "metadata": {
        "colab": {
          "base_uri": "https://localhost:8080/"
        },
        "id": "LSaegr1iVzxz",
        "outputId": "992cbb66-7023-45c2-d5ff-7dcf1a0ab1c3"
      },
      "outputs": [
        {
          "name": "stdout",
          "output_type": "stream",
          "text": [
            "Poem length distribution by label:\n",
            "                count         mean          std   min    25%     50%      75%  \\\n",
            "Label                                                                           \n",
            "Death          1547.0  1760.936652  2824.369693   0.0  625.5  1051.0  1806.00   \n",
            "Nature         3613.0  1578.396623  2859.719952   0.0  581.0   932.0  1618.00   \n",
            "Romantic Love   486.0  1237.366255  1756.013980  33.0  592.0   731.5  1196.75   \n",
            "The Spiritual   385.0  2021.514286  5101.362771   0.0  603.0  1070.0  1928.00   \n",
            "\n",
            "                   max  \n",
            "Label                   \n",
            "Death          45726.0  \n",
            "Nature         88693.0  \n",
            "Romantic Love  18983.0  \n",
            "The Spiritual  88693.0  \n"
          ]
        }
      ],
      "source": [
        "\n",
        "final_df[\"Poem_length\"] = final_df[\"Poem\"].astype(str).apply(len)\n",
        "\n",
        "length_distribution = final_df.groupby(\"Label\")[\"Poem_length\"].describe()\n",
        "\n",
        "print(\"Poem length distribution by label:\")\n",
        "print(length_distribution)\n"
      ]
    },
    {
      "cell_type": "code",
      "execution_count": null,
      "metadata": {
        "colab": {
          "base_uri": "https://localhost:8080/"
        },
        "id": "K0r_DvClVBmT",
        "outputId": "bab86163-1a88-403a-df01-982e07c891fc"
      },
      "outputs": [
        {
          "name": "stdout",
          "output_type": "stream",
          "text": [
            "============================================================\n",
            "Poet: Ralph Waldo Emerson\n",
            "Title: The Snow-Storm\n",
            "Poem:\n",
            " Announced by all the trumpets of the sky, Arrives the snow, and, driving o'er the fields, Seems nowhere to alight: the whited air Hides hills and woods, the river, and the heaven, And veils the farm-house at the garden's end. The sled and traveller stopped, the courier's feet Delayed, all friends shut out, the housemates sit Around the radiant fireplace, enclosed In a tumultuous privacy of storm. Come see the north wind's masonry. Out of an unseen quarry evermore Furnished with tile, the fierce artificer Curves his white bastions with projected roof Round every windward stake, or tree, or door. Speeding, the myriad-handed, his wild work So fanciful, so savage, nought cares he For number or proportion. Mockingly, On coop or kennel he hangs Parian wreaths; A swan-like form invests the hidden thorn; Fills up the farmer's lane from wall to wall, Maugre the farmer's sighs; and, at the gate, A tapering turret overtops the work. And when his hours are numbered, and the world Is all his own, retiring, as he were not, Leaves, when the sun appears, astonished Art To mimic in slow structures, stone by stone, Built in an age, the mad wind's night-work, The frolic architecture of the snow.\n",
            "============================================================\n",
            "Poet: Queen Elizabeth I\n",
            "Title: When I Was Fair and Young\n",
            "Poem:\n",
            " When I was fair and young, then favor graced me.\r\r\n",
            "Of many was I sought their mistress for to be.\r\r\n",
            "But I did scorn them all and answered them therefore:\r\r\n",
            "Go, go, go, seek some other where; importune me no more.\r\r\n",
            "How many weeping eyes I made to pine in woe,\r\r\n",
            "How many sighing hearts I have not skill to show,\r\r\n",
            "But I the prouder grew and still this spake therefore:\r\r\n",
            "Go, go, go, seek some other where, importune me no more.\r\r\n",
            "Then spake fair Venus’ son, that proud victorious boy,\r\r\n",
            "Saying: You dainty dame, for that you be so coy,\r\r\n",
            "I will so pluck your plumes as you shall say no more:\r\r\n",
            "Go, go, go, seek some other where, importune me no more.\r\r\n",
            "As soon as he had said, such change grew in my breast\r\r\n",
            "That neither night nor day I could take any rest.\r\r\n",
            "Wherefore I did repent that I had said before:\r\r\n",
            "Go, go, go, seek some other where, importune me no more.\n"
          ]
        }
      ],
      "source": [
        "import pandas as pd\n",
        "\n",
        "file_path = \"/content/poetry_25_samples_per_label.csv\"\n",
        "df = pd.read_csv(file_path)\n",
        "\n",
        "df.columns = [c.strip() for c in df.columns]\n",
        "\n",
        "nature_df = df[df[\"Label\"].astype(str).str.strip().str.lower() == \"nature\"]\n",
        "\n",
        "nature_samples = nature_df.sample(n=min(2, len(nature_df)), random_state=42)\n",
        "\n",
        "for i, row in nature_samples.iterrows():\n",
        "    print(\"=\"*60)\n",
        "    print(\"Poet:\", row[\"Poet\"])\n",
        "    print(\"Title:\", row[\"Title\"])\n",
        "    print(\"Poem:\\n\", row[\"Poem\"])\n"
      ]
    },
    {
      "cell_type": "markdown",
      "metadata": {
        "id": "rWl3nEWNZBtk"
      },
      "source": [
        "# sampel poms  with love label"
      ]
    },
    {
      "cell_type": "code",
      "execution_count": null,
      "metadata": {
        "colab": {
          "base_uri": "https://localhost:8080/"
        },
        "id": "lRMlJ0fJWnAn",
        "outputId": "f2ed3d66-4d9e-4445-8bd8-6fe8944e00e6"
      },
      "outputs": [
        {
          "name": "stdout",
          "output_type": "stream",
          "text": [
            "============================================================\n",
            "Poet: Sir  Thomas Wyatt\n",
            "Title: They Flee From Me\n",
            "Poem:\n",
            " They flee from me that sometime did me seek\r\r\n",
            "With naked foot, stalking in my chamber.\r\r\n",
            "I have seen them gentle, tame, and meek,\r\r\n",
            "That now are wild and do not remember\r\r\n",
            "That sometime they put themself in danger\r\r\n",
            "To take bread at my hand; and now they range,\r\r\n",
            "Busily seeking with a continual change.\r\r\n",
            "Thanked be fortune it hath been otherwise\r\r\n",
            "Twenty times better; but once in special,\r\r\n",
            "In thin array after a pleasant guise,\r\r\n",
            "When her loose gown from her shoulders did fall,\r\r\n",
            "And she me caught in her arms long and small;\r\r\n",
            "Therewithall sweetly did me kiss\r\r\n",
            "And softly said, “Dear heart, how like you this?”\r\r\n",
            "It was no dream: I lay broad waking.\r\r\n",
            "But all is turned thorough my gentleness\r\r\n",
            "Into a strange fashion of forsaking;\r\r\n",
            "And I have leave to go of her goodness,\r\r\n",
            "And she also, to use newfangleness.\r\r\n",
            "But since that I so kindly am served\r\r\n",
            "I would fain know what she hath deserved.\n"
          ]
        }
      ],
      "source": [
        "import pandas as pd\n",
        "\n",
        "file_path = \"/content/poetry_25_samples_per_label.csv\"\n",
        "df = pd.read_csv(file_path)\n",
        "\n",
        "df.columns = [c.strip() for c in df.columns]\n",
        "\n",
        "love_df = df[df[\"Label\"].astype(str).str.strip().str.lower() == \"romantic love\"]\n",
        "\n",
        "love_sample = love_df.sample(n=min(1, len(love_df)), random_state=10)\n",
        "\n",
        "for i, row in love_sample.iterrows():\n",
        "    print(\"=\"*60)\n",
        "    print(\"Poet:\", row[\"Poet\"])\n",
        "    print(\"Title:\", row[\"Title\"])\n",
        "    print(\"Poem:\\n\", row[\"Poem\"])\n",
        "\n"
      ]
    },
    {
      "cell_type": "markdown",
      "metadata": {
        "id": "WEg2-ZTsa3O6"
      },
      "source": [
        "# sampel data prsian"
      ]
    },
    {
      "cell_type": "code",
      "execution_count": null,
      "metadata": {
        "colab": {
          "base_uri": "https://localhost:8080/"
        },
        "id": "D2WOzk_vZHJh",
        "outputId": "fa38e0b1-2bd1-4bf8-f350-54b3b9962da0"
      },
      "outputs": [
        {
          "name": "stdout",
          "output_type": "stream",
          "text": [
            "============================================================\n",
            "Poet: sanaee\n",
            "Label: 4. Nature & Society\n",
            "Poem:\n",
            " آفت آینه آهست شما از سر عجز / پیش آن روی چو آیینه چرا آه کنید\n"
          ]
        }
      ],
      "source": [
        "import pandas as pd\n",
        "\n",
        "file_path = \"/content/persian_bayts_relabels.csv\"\n",
        "df = pd.read_csv(file_path)\n",
        "\n",
        "sanaee_sample = df[df[\"Poet\"] == \"sanaee\"].sample(1, random_state=42)\n",
        "\n",
        "for i, row in sanaee_sample.iterrows():\n",
        "    print(\"=\"*60)\n",
        "    print(\"Poet:\", row[\"Poet\"])\n",
        "    print(\"Label:\", row[\"Label\"])\n",
        "    print(\"Poem:\\n\", row[\"Bayt\"])\n"
      ]
    },
    {
      "cell_type": "code",
      "execution_count": null,
      "metadata": {
        "colab": {
          "base_uri": "https://localhost:8080/"
        },
        "id": "yRcGWC5zbEJX",
        "outputId": "8ac5d943-b4f9-4b34-d52c-5774fd1adae0"
      },
      "outputs": [
        {
          "name": "stdout",
          "output_type": "stream",
          "text": [
            "Total Love poems: 13\n",
            "============================================================\n",
            "Poet: roodaki\n",
            "Label: 1. Love\n",
            "Poem:\n",
            " که نیز تا نچمم کار من نگیرد چم / گر کند یاریی مرا به غم عشق آن صنم\n",
            "------------------------------------------------------------\n",
            "Poet: sanaee\n",
            "Label: 1. Love\n",
            "Poem:\n",
            " سیر بستان چو شیر پستان خوش / شود ار جور شه کند دیدار\n",
            "------------------------------------------------------------\n",
            "Poet: sanaee\n",
            "Label: 1. Love\n",
            "Poem:\n",
            " هر روز نپویی تو جز عشق نجویی تو / ای ماه نکویی تو آخر چه خصالست این\n",
            "------------------------------------------------------------\n",
            "Poet: ferdousi\n",
            "Label: 1. Love\n",
            "Poem:\n",
            " بپور زره گفت نام تو چیست / ز ترکان جنگی ترا یار کیست\n",
            "------------------------------------------------------------\n",
            "Poet: ferdousi\n",
            "Label: 1. Love\n",
            "Poem:\n",
            " بکشتند هرکس که بد نامدار / همی تاختند از پس شهریار\n",
            "------------------------------------------------------------\n",
            "Poet: attar\n",
            "Label: 1. Love\n",
            "Poem:\n",
            " هر که او در عشق بی آرام نیست / کی تواند یافت آرام ای غلام\n",
            "------------------------------------------------------------\n",
            "Poet: attar\n",
            "Label: 1. Love\n",
            "Poem:\n",
            " لب لعلش جهان را برهم انداخت / خط سبزش قضا را بر قدر زد\n",
            "------------------------------------------------------------\n",
            "Poet: attar\n",
            "Label: 1. Love\n",
            "Poem:\n",
            " گر شما هستید اهل جنگ و کین / این لباس از سر براندازید هین\n",
            "------------------------------------------------------------\n",
            "Poet: khajoo\n",
            "Label: 1. Love\n",
            "Poem:\n",
            " بحقیقت بدان که قصه عشق / پیش صاحبدلان مجازی نیست\n",
            "------------------------------------------------------------\n",
            "Poet: khajoo\n",
            "Label: 1. Love\n",
            "Poem:\n",
            " همچو محمود نداریم سر ملکت و تاج / که گرفتار سر زلف ایاز آمده ایم\n",
            "------------------------------------------------------------\n",
            "Poet: khajoo\n",
            "Label: 1. Love\n",
            "Poem:\n",
            " مسلمانان چه زلفست آن که خواجو / بدان هندوی کافر بگرویدست\n",
            "------------------------------------------------------------\n",
            "Poet: khajoo\n",
            "Label: 1. Love\n",
            "Poem:\n",
            " اگر از باد صبا وصف عروسان چمن / نکند باورت از بلبل گویا بشنو\n",
            "------------------------------------------------------------\n",
            "Poet: khajoo\n",
            "Label: 1. Love\n",
            "Poem:\n",
            " قتیل تیغ ترا خستگان ضربت شوق / بب دیده گوهر نثار می شویند\n",
            "------------------------------------------------------------\n"
          ]
        }
      ],
      "source": [
        "import pandas as pd\n",
        "\n",
        "file_path = \"/content/persian_bayts_relabels.csv\"\n",
        "df = pd.read_csv(file_path)\n",
        "\n",
        "love_df = df[df[\"Label\"].str.contains(\"Love\", case=False, na=False)]\n",
        "\n",
        "print(\"Total Love poems:\", len(love_df))\n",
        "print(\"=\"*60)\n",
        "\n",
        "for i, row in love_df.iterrows():\n",
        "    print(\"Poet:\", row[\"Poet\"])\n",
        "    print(\"Label:\", row[\"Label\"])\n",
        "    print(\"Poem:\\n\", row[\"Bayt\"])\n",
        "    print(\"-\"*60)\n"
      ]
    },
    {
      "cell_type": "markdown",
      "metadata": {
        "id": "RNulhi7AdYgY"
      },
      "source": [
        "#  cheack  label"
      ]
    },
    {
      "cell_type": "code",
      "execution_count": null,
      "metadata": {
        "colab": {
          "base_uri": "https://localhost:8080/"
        },
        "id": "vjh6BFyXekfK",
        "outputId": "decff6e2-a1e9-41d7-aefe-b0af6bc510a1"
      },
      "outputs": [
        {
          "name": "stdout",
          "output_type": "stream",
          "text": [
            "Index(['Title', 'Poem', 'Poet', 'Tags'], dtype='object')\n"
          ]
        }
      ],
      "source": [
        "print(df.columns)\n"
      ]
    },
    {
      "cell_type": "code",
      "execution_count": null,
      "metadata": {
        "colab": {
          "base_uri": "https://localhost:8080/"
        },
        "id": "Q5ty4w_gb-Gx",
        "outputId": "162da169-a5cf-4c65-fb28-9b58ecb52197"
      },
      "outputs": [
        {
          "name": "stdout",
          "output_type": "stream",
          "text": [
            "Title                                      Morning Warming\n",
            "Poem     sun sunwarm sunwarm on back sunwarm on back le...\n",
            "Poet                                          Joyce Sidman\n",
            "Tags                                                Nature\n",
            "Name: 1221, dtype: object\n"
          ]
        }
      ],
      "source": [
        "\n",
        "nature_rows = df[df[\"Tags\"].str.strip().str.lower() == \"nature\"]\n",
        "\n",
        "print(nature_rows.iloc[0])\n",
        "\n"
      ]
    },
    {
      "cell_type": "code",
      "execution_count": null,
      "metadata": {
        "colab": {
          "base_uri": "https://localhost:8080/"
        },
        "id": "XWlBgMa-dx14",
        "outputId": "73d6918d-9fe2-4959-f1b5-b8273e1f7b8f"
      },
      "outputs": [
        {
          "name": "stdout",
          "output_type": "stream",
          "text": [
            "sun sunwarm sunwarm on back sunwarm on back legs sunwarm on back legs loosens my heart my heart beats my heart beats faster in sunwarm my heart beats faster I flex I flex legs I flex legs loose with sunwarm I drink dew from dripping leaves I beat flex crouch leap! What am I? (grasshopper) ﻿\n"
          ]
        }
      ],
      "source": [
        "print(nature_rows.iloc[0][\"Poem\"])\n"
      ]
    },
    {
      "cell_type": "code",
      "execution_count": null,
      "metadata": {
        "colab": {
          "base_uri": "https://localhost:8080/",
          "height": 338
        },
        "id": "XnFZA0x1fXL_",
        "outputId": "7231c86e-9814-4c35-d855-644bea96714a"
      },
      "outputs": [
        {
          "ename": "IndexError",
          "evalue": "single positional indexer is out-of-bounds",
          "output_type": "error",
          "traceback": [
            "\u001b[0;31m---------------------------------------------------------------------------\u001b[0m",
            "\u001b[0;31mIndexError\u001b[0m                                Traceback (most recent call last)",
            "\u001b[0;32m/tmp/ipython-input-3485215927.py\u001b[0m in \u001b[0;36m<cell line: 0>\u001b[0;34m()\u001b[0m\n\u001b[1;32m      2\u001b[0m \u001b[0mnature_rows\u001b[0m \u001b[0;34m=\u001b[0m \u001b[0mdf\u001b[0m\u001b[0;34m[\u001b[0m\u001b[0mdf\u001b[0m\u001b[0;34m[\u001b[0m\u001b[0;34m\"Tags\"\u001b[0m\u001b[0;34m]\u001b[0m\u001b[0;34m.\u001b[0m\u001b[0mstr\u001b[0m\u001b[0;34m.\u001b[0m\u001b[0mstrip\u001b[0m\u001b[0;34m(\u001b[0m\u001b[0;34m)\u001b[0m\u001b[0;34m.\u001b[0m\u001b[0mstr\u001b[0m\u001b[0;34m.\u001b[0m\u001b[0mlower\u001b[0m\u001b[0;34m(\u001b[0m\u001b[0;34m)\u001b[0m \u001b[0;34m==\u001b[0m \u001b[0;34m\"Social Commentaries\"\u001b[0m\u001b[0;34m]\u001b[0m\u001b[0;34m\u001b[0m\u001b[0;34m\u001b[0m\u001b[0m\n\u001b[1;32m      3\u001b[0m \u001b[0;31m# فقط یک سطر (اولین ردیف)\u001b[0m\u001b[0;34m\u001b[0m\u001b[0;34m\u001b[0m\u001b[0m\n\u001b[0;32m----> 4\u001b[0;31m \u001b[0mprint\u001b[0m\u001b[0;34m(\u001b[0m\u001b[0mnature_rows\u001b[0m\u001b[0;34m.\u001b[0m\u001b[0miloc\u001b[0m\u001b[0;34m[\u001b[0m\u001b[0;36m0\u001b[0m\u001b[0;34m]\u001b[0m\u001b[0;34m[\u001b[0m\u001b[0;34m\"Poem\"\u001b[0m\u001b[0;34m]\u001b[0m\u001b[0;34m)\u001b[0m\u001b[0;34m\u001b[0m\u001b[0;34m\u001b[0m\u001b[0m\n\u001b[0m",
            "\u001b[0;32m/usr/local/lib/python3.11/dist-packages/pandas/core/indexing.py\u001b[0m in \u001b[0;36m__getitem__\u001b[0;34m(self, key)\u001b[0m\n\u001b[1;32m   1189\u001b[0m             \u001b[0mmaybe_callable\u001b[0m \u001b[0;34m=\u001b[0m \u001b[0mcom\u001b[0m\u001b[0;34m.\u001b[0m\u001b[0mapply_if_callable\u001b[0m\u001b[0;34m(\u001b[0m\u001b[0mkey\u001b[0m\u001b[0;34m,\u001b[0m \u001b[0mself\u001b[0m\u001b[0;34m.\u001b[0m\u001b[0mobj\u001b[0m\u001b[0;34m)\u001b[0m\u001b[0;34m\u001b[0m\u001b[0;34m\u001b[0m\u001b[0m\n\u001b[1;32m   1190\u001b[0m             \u001b[0mmaybe_callable\u001b[0m \u001b[0;34m=\u001b[0m \u001b[0mself\u001b[0m\u001b[0;34m.\u001b[0m\u001b[0m_check_deprecated_callable_usage\u001b[0m\u001b[0;34m(\u001b[0m\u001b[0mkey\u001b[0m\u001b[0;34m,\u001b[0m \u001b[0mmaybe_callable\u001b[0m\u001b[0;34m)\u001b[0m\u001b[0;34m\u001b[0m\u001b[0;34m\u001b[0m\u001b[0m\n\u001b[0;32m-> 1191\u001b[0;31m             \u001b[0;32mreturn\u001b[0m \u001b[0mself\u001b[0m\u001b[0;34m.\u001b[0m\u001b[0m_getitem_axis\u001b[0m\u001b[0;34m(\u001b[0m\u001b[0mmaybe_callable\u001b[0m\u001b[0;34m,\u001b[0m \u001b[0maxis\u001b[0m\u001b[0;34m=\u001b[0m\u001b[0maxis\u001b[0m\u001b[0;34m)\u001b[0m\u001b[0;34m\u001b[0m\u001b[0;34m\u001b[0m\u001b[0m\n\u001b[0m\u001b[1;32m   1192\u001b[0m \u001b[0;34m\u001b[0m\u001b[0m\n\u001b[1;32m   1193\u001b[0m     \u001b[0;32mdef\u001b[0m \u001b[0m_is_scalar_access\u001b[0m\u001b[0;34m(\u001b[0m\u001b[0mself\u001b[0m\u001b[0;34m,\u001b[0m \u001b[0mkey\u001b[0m\u001b[0;34m:\u001b[0m \u001b[0mtuple\u001b[0m\u001b[0;34m)\u001b[0m\u001b[0;34m:\u001b[0m\u001b[0;34m\u001b[0m\u001b[0;34m\u001b[0m\u001b[0m\n",
            "\u001b[0;32m/usr/local/lib/python3.11/dist-packages/pandas/core/indexing.py\u001b[0m in \u001b[0;36m_getitem_axis\u001b[0;34m(self, key, axis)\u001b[0m\n\u001b[1;32m   1750\u001b[0m \u001b[0;34m\u001b[0m\u001b[0m\n\u001b[1;32m   1751\u001b[0m             \u001b[0;31m# validate the location\u001b[0m\u001b[0;34m\u001b[0m\u001b[0;34m\u001b[0m\u001b[0m\n\u001b[0;32m-> 1752\u001b[0;31m             \u001b[0mself\u001b[0m\u001b[0;34m.\u001b[0m\u001b[0m_validate_integer\u001b[0m\u001b[0;34m(\u001b[0m\u001b[0mkey\u001b[0m\u001b[0;34m,\u001b[0m \u001b[0maxis\u001b[0m\u001b[0;34m)\u001b[0m\u001b[0;34m\u001b[0m\u001b[0;34m\u001b[0m\u001b[0m\n\u001b[0m\u001b[1;32m   1753\u001b[0m \u001b[0;34m\u001b[0m\u001b[0m\n\u001b[1;32m   1754\u001b[0m             \u001b[0;32mreturn\u001b[0m \u001b[0mself\u001b[0m\u001b[0;34m.\u001b[0m\u001b[0mobj\u001b[0m\u001b[0;34m.\u001b[0m\u001b[0m_ixs\u001b[0m\u001b[0;34m(\u001b[0m\u001b[0mkey\u001b[0m\u001b[0;34m,\u001b[0m \u001b[0maxis\u001b[0m\u001b[0;34m=\u001b[0m\u001b[0maxis\u001b[0m\u001b[0;34m)\u001b[0m\u001b[0;34m\u001b[0m\u001b[0;34m\u001b[0m\u001b[0m\n",
            "\u001b[0;32m/usr/local/lib/python3.11/dist-packages/pandas/core/indexing.py\u001b[0m in \u001b[0;36m_validate_integer\u001b[0;34m(self, key, axis)\u001b[0m\n\u001b[1;32m   1683\u001b[0m         \u001b[0mlen_axis\u001b[0m \u001b[0;34m=\u001b[0m \u001b[0mlen\u001b[0m\u001b[0;34m(\u001b[0m\u001b[0mself\u001b[0m\u001b[0;34m.\u001b[0m\u001b[0mobj\u001b[0m\u001b[0;34m.\u001b[0m\u001b[0m_get_axis\u001b[0m\u001b[0;34m(\u001b[0m\u001b[0maxis\u001b[0m\u001b[0;34m)\u001b[0m\u001b[0;34m)\u001b[0m\u001b[0;34m\u001b[0m\u001b[0;34m\u001b[0m\u001b[0m\n\u001b[1;32m   1684\u001b[0m         \u001b[0;32mif\u001b[0m \u001b[0mkey\u001b[0m \u001b[0;34m>=\u001b[0m \u001b[0mlen_axis\u001b[0m \u001b[0;32mor\u001b[0m \u001b[0mkey\u001b[0m \u001b[0;34m<\u001b[0m \u001b[0;34m-\u001b[0m\u001b[0mlen_axis\u001b[0m\u001b[0;34m:\u001b[0m\u001b[0;34m\u001b[0m\u001b[0;34m\u001b[0m\u001b[0m\n\u001b[0;32m-> 1685\u001b[0;31m             \u001b[0;32mraise\u001b[0m \u001b[0mIndexError\u001b[0m\u001b[0;34m(\u001b[0m\u001b[0;34m\"single positional indexer is out-of-bounds\"\u001b[0m\u001b[0;34m)\u001b[0m\u001b[0;34m\u001b[0m\u001b[0;34m\u001b[0m\u001b[0m\n\u001b[0m\u001b[1;32m   1686\u001b[0m \u001b[0;34m\u001b[0m\u001b[0m\n\u001b[1;32m   1687\u001b[0m     \u001b[0;31m# -------------------------------------------------------------------\u001b[0m\u001b[0;34m\u001b[0m\u001b[0;34m\u001b[0m\u001b[0m\n",
            "\u001b[0;31mIndexError\u001b[0m: single positional indexer is out-of-bounds"
          ]
        }
      ],
      "source": [
        "\n",
        "nature_rows = df[df[\"Tags\"].str.strip().str.lower() == \"Social Commentaries\"]\n",
        "\n",
        "print(nature_rows.iloc[0][\"Poem\"])\n"
      ]
    },
    {
      "cell_type": "code",
      "execution_count": null,
      "metadata": {
        "colab": {
          "base_uri": "https://localhost:8080/"
        },
        "id": "yloTWWSXfpUo",
        "outputId": "16b5804e-43a9-42bb-b6f1-862fae87c370"
      },
      "outputs": [
        {
          "name": "stdout",
          "output_type": "stream",
          "text": [
            "37\n"
          ]
        }
      ],
      "source": [
        "tag_value = \"Social Commentaries\"\n",
        "nature_rows = df[df[\"Tags\"].str.strip().str.lower() == tag_value.lower()]\n",
        "\n",
        "print(len(nature_rows))   \n"
      ]
    },
    {
      "cell_type": "code",
      "execution_count": null,
      "metadata": {
        "colab": {
          "base_uri": "https://localhost:8080/"
        },
        "id": "5gxefhlOf3_T",
        "outputId": "7a1176b4-f439-44b1-f91b-be350e64388f"
      },
      "outputs": [
        {
          "name": "stdout",
          "output_type": "stream",
          "text": [
            "the rooms are chosen, then they move on the beads are wetted in the lime the weedlot boils in the blood of one eye the children first are cankered then they spin there are not routes, only dials the rocks are spun together in one ball the laundry is of rust, the pillow shrieks pianos all blow northward and return must be a bath if I could find it is a map of all the ways that center intermission skulls are simply caps for all compression day’s light raising closets for its dark I put up the clothes and trail the keys that onyx knob in vacuum turns the train pressure on the pitches swaying back again a world without a heartbeat but it stays\n"
          ]
        }
      ],
      "source": [
        "print(nature_rows.iloc[0][\"Poem\"])"
      ]
    },
    {
      "cell_type": "markdown",
      "metadata": {
        "id": "w7MJ8HmLpAws"
      },
      "source": [
        "# see pomse  persian"
      ]
    },
    {
      "cell_type": "markdown",
      "metadata": {
        "id": "ODkhKPXMMmmr"
      },
      "source": [
        "# SET  ATTAR"
      ]
    },
    {
      "cell_type": "code",
      "execution_count": null,
      "metadata": {
        "colab": {
          "base_uri": "https://localhost:8080/"
        },
        "id": "yoK7PRK_POOl",
        "outputId": "6c986755-97da-4fc3-d55f-bb12a82c29c8"
      },
      "outputs": [
        {
          "name": "stdout",
          "output_type": "stream",
          "text": [
            "Collecting reportlab\n",
            "  Downloading reportlab-4.4.3-py3-none-any.whl.metadata (1.7 kB)\n",
            "Requirement already satisfied: pillow>=9.0.0 in /usr/local/lib/python3.12/dist-packages (from reportlab) (11.3.0)\n",
            "Requirement already satisfied: charset-normalizer in /usr/local/lib/python3.12/dist-packages (from reportlab) (3.4.3)\n",
            "Downloading reportlab-4.4.3-py3-none-any.whl (2.0 MB)\n",
            "\u001b[2K   \u001b[90m━━━━━━━━━━━━━━━━━━━━━━━━━━━━━━━━━━━━━━━━\u001b[0m \u001b[32m2.0/2.0 MB\u001b[0m \u001b[31m29.9 MB/s\u001b[0m eta \u001b[36m0:00:00\u001b[0m\n",
            "\u001b[?25hInstalling collected packages: reportlab\n",
            "Successfully installed reportlab-4.4.3\n"
          ]
        }
      ],
      "source": [
        "!pip install reportlab\n"
      ]
    },
    {
      "cell_type": "code",
      "execution_count": null,
      "metadata": {
        "colab": {
          "base_uri": "https://localhost:8080/"
        },
        "id": "jdEXmosof8Rv",
        "outputId": "5e8b8193-c95f-4efd-9cc8-1f71bf9f7117"
      },
      "outputs": [
        {
          "name": "stdout",
          "output_type": "stream",
          "text": [
            "✅ تقسیم انجام شد. خلاصه:\n",
            "- attar_part1.txt: 38088 line(s)  | even=True\n",
            "- attar_part2.txt: 38088 line(s)  | even=True\n",
            "- attar_part3.txt: 38088 line(s)  | even=True\n",
            "- attar_part4.txt: 38088 line(s)  | even=True\n",
            "- attar_part5.txt: 38086 line(s)  | even=True\n",
            "جمع خطوط: 190438 (از 190439)\n"
          ]
        }
      ],
      "source": [
        "\n",
        "\n",
        "from pathlib import Path\n",
        "\n",
        "INPUT = Path(\"/content/attar_norm.txt\")  \n",
        "OUT_PREFIX = \"attar_part\"      \n",
        "PARTS = 5                        \n",
        "\n",
        "def load_lines(path: Path):\n",
        "    encs = [\"utf-8-sig\",\"utf-8\",\"cp1256\",\"windows-1256\",\"latin-1\"]\n",
        "    for enc in encs:\n",
        "        try:\n",
        "            text = path.read_text(encoding=enc)\n",
        "            break\n",
        "        except Exception:\n",
        "            continue\n",
        "    else:\n",
        "        raise RuntimeError(\"⛔️ نتوانستم فایل را با هیچ انکودینگی بخوانم.\")\n",
        "    \n",
        "    lines = [ln.strip() for ln in text.splitlines() if ln.strip()]\n",
        "    return lines\n",
        "\n",
        "def ensure_even(n: int) -> int:\n",
        "    return n if n % 2 == 0 else n - 1\n",
        "\n",
        "def split_into_parts(lines, parts=5):\n",
        "    N = len(lines)\n",
        "    base = N // parts\n",
        "    rem  = N % parts\n",
        "    sizes = [(base + (1 if i < rem else 0)) for i in range(parts)]\n",
        "    \n",
        "    sizes = [ensure_even(s) for s in sizes]\n",
        "\n",
        "    deficit = N - sum(sizes)\n",
        "    if deficit > 0:\n",
        "        if deficit % 2 == 1:\n",
        "            deficit -= 1\n",
        "        sizes[-1] += deficit\n",
        "\n",
        "    if sum(sizes) > N:\n",
        "        overflow = sum(sizes) - N\n",
        "        sizes[-1] -= overflow\n",
        "\n",
        "    parts_list = []\n",
        "    idx = 0\n",
        "    for s in sizes:\n",
        "        parts_list.append(lines[idx:idx+s])\n",
        "        idx += s\n",
        "    return parts_list\n",
        "\n",
        "def save_parts(parts_list, prefix=\"attar_part\"):\n",
        "    paths = []\n",
        "    for i, chunk in enumerate(parts_list, start=1):\n",
        "        p = Path(f\"{prefix}{i}.txt\")\n",
        "        p.write_text(\"\\n\".join(chunk), encoding=\"utf-8\")\n",
        "        paths.append((str(p), len(chunk)))\n",
        "    return paths\n",
        "\n",
        "lines = load_lines(INPUT)\n",
        "parts_list = split_into_parts(lines, PARTS)\n",
        "paths = save_parts(parts_list, OUT_PREFIX)\n",
        "\n",
        "print(\"✅ تقسیم انجام شد. خلاصه:\")\n",
        "total = 0\n",
        "for p, n in paths:\n",
        "    print(f\"- {p}: {n} line(s)  | even={n%2==0}\")\n",
        "    total += n\n",
        "print(f\"جمع خطوط: {total} (از {len(lines)})\")\n"
      ]
    },
    {
      "cell_type": "markdown",
      "metadata": {
        "id": "ZUs37pcAXyPl"
      },
      "source": [
        "# CREAT PERSIAN FILE"
      ]
    },
    {
      "cell_type": "code",
      "execution_count": null,
      "metadata": {
        "colab": {
          "base_uri": "https://localhost:8080/"
        },
        "id": "q0F5GP3DYKVd",
        "outputId": "56fe861e-5777-41ff-8084-0516e316b23c"
      },
      "outputs": [
        {
          "name": "stdout",
          "output_type": "stream",
          "text": [
            "فایل خروجی ساخته شد: /content/merged_ok_rows.xlsx\n"
          ]
        }
      ],
      "source": [
        "import pandas as pd\n",
        "\n",
        "files_list = [\n",
        "    \"/content/saeb_50_bayts_death.xlsx\",\n",
        "    \"/content/khayyam_50_bayts_death.xlsx\",\n",
        "    \"/content/bidel_50_bayts_death.xlsx\"\n",
        "]\n",
        "\n",
        "dfs = []\n",
        "for f in files_list:\n",
        "    df = pd.read_excel(f)\n",
        "    if \"ok\" in df.columns:  \n",
        "        dfs.append(df[df[\"ok\"] == 1])\n",
        "\n",
        "final_df = pd.concat(dfs, ignore_index=True)\n",
        "\n",
        "output_file = \"/content/merged_ok_rows.xlsx\"\n",
        "final_df.to_excel(output_file, index=False)\n",
        "\n",
        "print(\"فایل خروجی ساخته شد:\", output_file)\n"
      ]
    },
    {
      "cell_type": "markdown",
      "metadata": {
        "id": "TApGj395i065"
      },
      "source": [
        "# love"
      ]
    },
    {
      "cell_type": "code",
      "execution_count": null,
      "metadata": {
        "colab": {
          "base_uri": "https://localhost:8080/"
        },
        "id": "ycjYONPDaeSP",
        "outputId": "9d60aa85-1e86-4ea8-a1a4-7a039f4d6ce9"
      },
      "outputs": [
        {
          "name": "stdout",
          "output_type": "stream",
          "text": [
            "فایل خروجی ساخته شد: /content/merged_ok_rows_love.xlsx\n"
          ]
        }
      ],
      "source": [
        "import pandas as pd\n",
        "files_list = [\n",
        "    \"/content/hafez_50_bayts_love.xlsx\",\n",
        "    \"/content/shahriar_50_bayts_love.xlsx\",\n",
        "    \"/content/vahshi_50_bayts_love.xlsx\"\n",
        "]\n",
        "\n",
        "dfs = []\n",
        "for f in files_list:\n",
        "    df = pd.read_excel(f)\n",
        "    if \"ok\" in df.columns:   \n",
        "        dfs.append(df[df[\"ok\"] == 1])\n",
        "\n",
        "final_df = pd.concat(dfs, ignore_index=True)\n",
        "output_file = \"/content/merged_ok_rows_love.xlsx\"\n",
        "final_df.to_excel(output_file, index=False)\n",
        "\n",
        "print(\"فایل خروجی ساخته شد:\", output_file)\n"
      ]
    },
    {
      "cell_type": "markdown",
      "metadata": {
        "id": "GRgAy_Epka1p"
      },
      "source": [
        "#  spectural\n"
      ]
    },
    {
      "cell_type": "code",
      "execution_count": null,
      "metadata": {
        "colab": {
          "base_uri": "https://localhost:8080/"
        },
        "id": "q2KPNmxFjEfT",
        "outputId": "16f3e79c-0a75-4d82-d1bd-f64073277cb5"
      },
      "outputs": [
        {
          "name": "stdout",
          "output_type": "stream",
          "text": [
            "فایل خروجی ساخته شد: /content/merged_ok_rows_tawhid.xlsx\n"
          ]
        }
      ],
      "source": [
        "import pandas as pd\n",
        "\n",
        "files_list = [\n",
        "    \"/content/attar_tawhid_70.xlsx\",\n",
        "    \"/content/abusaeed_50_bayts_god_focused.xlsx\"\n",
        "]\n",
        "\n",
        "dfs = []\n",
        "for f in files_list:\n",
        "    df = pd.read_excel(f)\n",
        "    if \"ok\" in df.columns:  \n",
        "        dfs.append(df[df[\"ok\"] == 1])\n",
        "final_df = pd.concat(dfs, ignore_index=True)\n",
        "output_file = \"/content/merged_ok_rows_tawhid.xlsx\"\n",
        "final_df.to_excel(output_file, index=False)\n",
        "\n",
        "print(\"فایل خروجی ساخته شد:\", output_file)\n"
      ]
    },
    {
      "cell_type": "code",
      "execution_count": null,
      "metadata": {
        "colab": {
          "base_uri": "https://localhost:8080/"
        },
        "id": "Zupoc0Bglok-",
        "outputId": "bff3e14c-9520-4389-9eeb-9d34e3559b0f"
      },
      "outputs": [
        {
          "name": "stdout",
          "output_type": "stream",
          "text": [
            "فایل خروجی ساخته شد: /content/merged_ok_rows_philosophy.xlsx\n"
          ]
        }
      ],
      "source": [
        "import pandas as pd\n",
        "\n",
        "files_list = [\n",
        "    \"/content/saadi_50_bayts_philosophy_new.xlsx\",\n",
        "    \"/content/khaghani_50_bayts_philosophy.xlsx\",\n",
        "    \"/content/four_poets_150_bayts_philosophy.xlsx\" \n",
        "]\n",
        "\n",
        "dfs = []\n",
        "for f in files_list:\n",
        "    df = pd.read_excel(f)\n",
        "    if \"ok\" in df.columns:  \n",
        "        dfs.append(df[df[\"ok\"] == 1])\n",
        "\n",
        "final_df = pd.concat(dfs, ignore_index=True)\n",
        "\n",
        "output_file = \"/content/merged_ok_rows_philosophy.xlsx\"\n",
        "final_df.to_excel(output_file, index=False)\n",
        "\n",
        "print(\"فایل خروجی ساخته شد:\", output_file)\n"
      ]
    },
    {
      "cell_type": "markdown",
      "metadata": {
        "id": "qCZcl0w3pB_v"
      },
      "source": [
        "# marge  label"
      ]
    },
    {
      "cell_type": "code",
      "execution_count": null,
      "metadata": {
        "colab": {
          "base_uri": "https://localhost:8080/"
        },
        "id": "-wLR90Vxmx6e",
        "outputId": "a8b0fce9-99e7-4e55-a948-3fe93660d750"
      },
      "outputs": [
        {
          "name": "stdout",
          "output_type": "stream",
          "text": [
            "فایل خروجی ساخته شد: /content/merged_all_labels.xlsx\n"
          ]
        }
      ],
      "source": [
        "import pandas as pd\n",
        "\n",
        "files_labels = {\n",
        "    \"/content/merged_ok_rows_love.xlsx\": \"Love\",\n",
        "    \"/content/merged_ok_rows_tawhid.xlsx\": \"The Spiritual\",\n",
        "    \"/content/DETH.xlsx\": \"Death\",\n",
        "    \"/content/merged_ok_rows_philosophy.xlsx\": \"Philosophy\"\n",
        "}\n",
        "\n",
        "dfs = []\n",
        "\n",
        "for f, label in files_labels.items():\n",
        "    df = pd.read_excel(f)\n",
        "    df[\"Label\"] = label   \n",
        "    dfs.append(df)\n",
        "\n",
        "final_df = pd.concat(dfs, ignore_index=True)\n",
        "\n",
        "output_file = \"/content/merged_all_labels.xlsx\"\n",
        "final_df.to_excel(output_file, index=False)\n",
        "\n",
        "print(\"فایل خروجی ساخته شد:\", output_file)\n"
      ]
    },
    {
      "cell_type": "code",
      "execution_count": null,
      "metadata": {
        "colab": {
          "base_uri": "https://localhost:8080/"
        },
        "id": "5rY_3afWpEB7",
        "outputId": "d7a4ce00-c69e-42fc-f259-9b5547d7d815"
      },
      "outputs": [
        {
          "name": "stdout",
          "output_type": "stream",
          "text": [
            "فایل خروجی بدون ستون لیبل فارسی ساخته شد: /content/merged_all_labels_no_farsi_label.xlsx\n"
          ]
        }
      ],
      "source": [
        "import pandas as pd\n",
        "\n",
        "df = pd.read_excel(\"/content/merged_all_labels.xlsx\")\n",
        "\n",
        "df = df.drop(columns=[\"لیبل\"], errors=\"ignore\")\n",
        "\n",
        "output_file = \"/content/merged_all_labels_no_farsi_label.xlsx\"\n",
        "df.to_excel(output_file, index=False)\n",
        "\n",
        "print(\"فایل خروجی بدون ستون لیبل فارسی ساخته شد:\", output_file)\n"
      ]
    },
    {
      "cell_type": "code",
      "execution_count": null,
      "metadata": {
        "colab": {
          "base_uri": "https://localhost:8080/"
        },
        "id": "SkBbsO10uH2d",
        "outputId": "57e8e80a-3dbd-4c94-c188-c00fca0dab95"
      },
      "outputs": [
        {
          "name": "stdout",
          "output_type": "stream",
          "text": [
            "Collecting unidecode\n",
            "  Downloading Unidecode-1.4.0-py3-none-any.whl.metadata (13 kB)\n",
            "Requirement already satisfied: pandas in /usr/local/lib/python3.12/dist-packages (2.2.2)\n",
            "Requirement already satisfied: matplotlib in /usr/local/lib/python3.12/dist-packages (3.10.0)\n",
            "Requirement already satisfied: openpyxl in /usr/local/lib/python3.12/dist-packages (3.1.5)\n",
            "Requirement already satisfied: numpy>=1.26.0 in /usr/local/lib/python3.12/dist-packages (from pandas) (2.0.2)\n",
            "Requirement already satisfied: python-dateutil>=2.8.2 in /usr/local/lib/python3.12/dist-packages (from pandas) (2.9.0.post0)\n",
            "Requirement already satisfied: pytz>=2020.1 in /usr/local/lib/python3.12/dist-packages (from pandas) (2025.2)\n",
            "Requirement already satisfied: tzdata>=2022.7 in /usr/local/lib/python3.12/dist-packages (from pandas) (2025.2)\n",
            "Requirement already satisfied: contourpy>=1.0.1 in /usr/local/lib/python3.12/dist-packages (from matplotlib) (1.3.3)\n",
            "Requirement already satisfied: cycler>=0.10 in /usr/local/lib/python3.12/dist-packages (from matplotlib) (0.12.1)\n",
            "Requirement already satisfied: fonttools>=4.22.0 in /usr/local/lib/python3.12/dist-packages (from matplotlib) (4.59.1)\n",
            "Requirement already satisfied: kiwisolver>=1.3.1 in /usr/local/lib/python3.12/dist-packages (from matplotlib) (1.4.9)\n",
            "Requirement already satisfied: packaging>=20.0 in /usr/local/lib/python3.12/dist-packages (from matplotlib) (25.0)\n",
            "Requirement already satisfied: pillow>=8 in /usr/local/lib/python3.12/dist-packages (from matplotlib) (11.3.0)\n",
            "Requirement already satisfied: pyparsing>=2.3.1 in /usr/local/lib/python3.12/dist-packages (from matplotlib) (3.2.3)\n",
            "Requirement already satisfied: et-xmlfile in /usr/local/lib/python3.12/dist-packages (from openpyxl) (2.0.0)\n",
            "Requirement already satisfied: six>=1.5 in /usr/local/lib/python3.12/dist-packages (from python-dateutil>=2.8.2->pandas) (1.17.0)\n",
            "Downloading Unidecode-1.4.0-py3-none-any.whl (235 kB)\n",
            "\u001b[2K   \u001b[90m━━━━━━━━━━━━━━━━━━━━━━━━━━━━━━━━━━━━━━━━\u001b[0m \u001b[32m235.8/235.8 kB\u001b[0m \u001b[31m14.2 MB/s\u001b[0m eta \u001b[36m0:00:00\u001b[0m\n",
            "\u001b[?25hInstalling collected packages: unidecode\n",
            "Successfully installed unidecode-1.4.0\n"
          ]
        }
      ],
      "source": [
        "pip install unidecode pandas matplotlib openpyxl\n"
      ]
    },
    {
      "cell_type": "code",
      "execution_count": null,
      "metadata": {
        "colab": {
          "base_uri": "https://localhost:8080/",
          "height": 762
        },
        "id": "ZrrGLS32vMUB",
        "outputId": "724d73f2-0790-4252-990c-bc87d17d913f"
      },
      "outputs": [
        {
          "name": "stdout",
          "output_type": "stream",
          "text": [
            "Saved pivot -> poems_per_poet_by_label_ManualEN.csv\n"
          ]
        },
        {
          "data": {
            "image/png": "[encoded data removed]",
            "text/plain": [
              "<Figure size 1400x700 with 1 Axes>"
            ]
          },
          "metadata": {},
          "output_type": "display_data"
        },
        {
          "name": "stdout",
          "output_type": "stream",
          "text": [
            "Saved plot -> poems_per_poet_by_label_ManualEN.png\n"
          ]
        }
      ],
      "source": [
        "import pandas as pd\n",
        "import matplotlib.pyplot as plt\n",
        "from pathlib import Path\n",
        "from unidecode import unidecode\n",
        "\n",
        "excel_path = Path(\"merged_all_labels_no_farsi_label.xlsx\")\n",
        "POET_COL_OVERRIDE  = \"شاعر\"   \n",
        "LABEL_COL_OVERRIDE = \"Label\"\n",
        "\n",
        "df = pd.read_excel(excel_path)\n",
        "\n",
        "poet_col  = POET_COL_OVERRIDE\n",
        "label_col = LABEL_COL_OVERRIDE\n",
        "\n",
        "name_map_manual = {\n",
        "    \"حافظ\": \"Hafez\",\n",
        "    \"سعدی\": \"Saadi\",\n",
        "    \"فردوسی\": \"Ferdowsi\",\n",
        "    \"مولوی\": \"Rumi\",\n",
        "    \"خیام\": \"Khayyam\",\n",
        "    \"نظامی\": \"Nezami\",\n",
        "    \"باباطاهر\": \"Baba Taher\",\n",
        "    \"عطار\": \"Attar\",\n",
        "}\n",
        "def poet_to_en(name):\n",
        "    name = str(name).strip()\n",
        "    return name_map_manual.get(name, unidecode(name))\n",
        "\n",
        "df[\"_poet_en_\"] = df[poet_col].map(poet_to_en)\n",
        "\n",
        "pivot = (\n",
        "    df.groupby([\"_poet_en_\", label_col])\n",
        "      .size()\n",
        "      .unstack(fill_value=0)\n",
        "      .sort_index()\n",
        ")\n",
        "csv_path = excel_path.with_name(\"poems_per_poet_by_label_ManualEN.csv\")\n",
        "pivot.to_csv(csv_path, encoding=\"utf-8-sig\")\n",
        "print(f\"Saved pivot -> {csv_path}\")\n",
        "\n",
        "ax = pivot.plot(kind=\"bar\", stacked=True, figsize=(14, 7))\n",
        "ax.set_title(\"Number of Poems per Poet by Label\")\n",
        "ax.set_xlabel(\"Poet (English)\")\n",
        "ax.set_ylabel(\"Count of Poems\")\n",
        "ax.set_xticklabels(pivot.index.tolist(), rotation=45, ha=\"right\")\n",
        "\n",
        "plt.tight_layout()\n",
        "img_path = excel_path.with_name(\"poems_per_poet_by_label_ManualEN.png\")\n",
        "plt.savefig(img_path, dpi=160, bbox_inches=\"tight\")\n",
        "plt.show()\n",
        "print(f\"Saved plot -> {img_path}\")\n"
      ]
    },
    {
      "cell_type": "markdown",
      "metadata": {
        "id": "YWu4OZ-8buHQ"
      },
      "source": [
        "# creat english  data"
      ]
    },
    {
      "cell_type": "code",
      "execution_count": null,
      "metadata": {
        "colab": {
          "base_uri": "https://localhost:8080/",
          "height": 241
        },
        "id": "DpZbH0zBpZXz",
        "outputId": "9254386f-bd6f-4cf5-cc51-7d6c1fb79694"
      },
      "outputs": [
        {
          "name": "stdout",
          "output_type": "stream",
          "text": [
            "فایل‌های موجود: ['PoetryFoundationData.csv']\n",
            "فایل انتخاب‌شده: /content/dataset/PoetryFoundationData.csv\n"
          ]
        },
        {
          "data": {
            "application/vnd.google.colaboratory.intrinsic+json": {
              "summary": "{\n  \"name\": \"df\",\n  \"rows\": 13854,\n  \"fields\": [\n    {\n      \"column\": \"Unnamed: 0\",\n      \"properties\": {\n        \"dtype\": \"number\",\n        \"std\": 57,\n        \"min\": 0,\n        \"max\": 199,\n        \"num_unique_values\": 200,\n        \"samples\": [\n          95,\n          15,\n          30\n        ],\n        \"semantic_type\": \"\",\n        \"description\": \"\"\n      }\n    },\n    {\n      \"column\": \"Title\",\n      \"properties\": {\n        \"dtype\": \"string\",\n        \"num_unique_values\": 13240,\n        \"samples\": [\n          \"\\r\\r\\n                    Sonnet 111: O, for my sake do you with Fortune chide,\\r\\r\\n                \",\n          \"\\r\\r\\n                    Washing the World\\r\\r\\n                \",\n          \"\\r\\r\\nfrom \\u201cAn Attempt at Jealousy\\u201d\\r\\r\\n                \"\n        ],\n        \"semantic_type\": \"\",\n        \"description\": \"\"\n      }\n    },\n    {\n      \"column\": \"Poem\",\n      \"properties\": {\n        \"dtype\": \"string\",\n        \"num_unique_values\": 13754,\n        \"samples\": [\n          \"\\r\\r\\n\\r\\r\\n\\r\\r\\n\\r\\r\\n(To Saul Touster)\\r\\r\\n\\r\\r\\n\\r\\r\\n\\r\\r\\nI. January 22, 1932\\r\\r\\n \\r\\r\\nCould a four-year-old look out of a square sedan\\r\\r\\n(A Studebaker Six in currency green\\r\\r\\nWith wooden artillery wheels) and see a scene\\r\\r\\nOf snow, light lavender, landing on deepening blue\\r\\r\\nBuildings built out of red-violet bricks, and black\\r\\r\\nPassersby passing by over the widening white\\r\\r\\nStreets darkening blue, under a thickening white\\r\\r\\nSky suddenly undergoing sheer twilight,\\r\\r\\nAnd the yellow but whitening streetlights coming on,\\r\\r\\nAnd remember it now, though the likelihood is gone\\r\\r\\nThat it ever happened at all, and the Village is gone\\r\\r\\nThat it ever could happen in? Memory, guttering out,\\r\\r\\nApparently, finally flares up and banishes doubt.\\r\\r\\n \\r\\r\\n \\r\\r\\nII. May 29, 1941\\r\\r\\n \\r\\r\\nTring. Bells\\r\\r\\nOn grocers\\u2019 boys\\u2019 bicycles ring,\\r\\r\\nFollowed, on cue,\\r\\r\\nBy the jaunty one-note of prayers at two\\r\\r\\nNear churches; taxi horns, a-hunt,\\r\\r\\nCome in for treble; next, the tickety bass\\r\\r\\nOf chain-driven Diamond T\\u2019s, gone elephantine\\r\\r\\nAnd stove-enamelled conifer green\\r\\r\\nDown Greenwich Avenue.\\r\\r\\nOut of the Earle\\r\\r\\nI issue at half-past thirteen,\\r\\r\\nStruck, like a floral clock,\\r\\r\\nBy seasonal\\r\\r\\nManifestations: unreasonable\\r\\r\\nN.Y.U. girls out in their bobby socks\\r\\r\\nAnd rayon blouses; meek boys with their books\\r\\r\\nWho have already moulted mackinaws;Desarrolimiento of\\r\\r\\nNew chrome-green leaves; a rose,\\r\\r\\nGot, blooming, out of bed; and Mrs. Roos-\\r\\r\\nEvelt and Sarah Delano\\r\\r\\nDescending the front stoop of a Jamesian\\r\\r\\nHouse facing south against the Square, the sun\\u2014\\r\\r\\nWho, curveting, his half course not yet run,\\r\\r\\nInfects the earth with crescence;\\r\\r\\nAnd the presence\\r\\r\\nOf process, seen in un-top-hatted,\\r\\r\\nUn-frock-coated burghers and their sons\\r\\r\\nAnd daughters, taking over\\r\\r\\nAll title, right, and interest soever\\r\\r\\nIn this, now their\\r\\r\\nProperty, Washington Square.\\r\\r\\n \\r\\r\\n \\r\\r\\nIII. December 29, 1949\\r\\r\\n \\r\\r\\nThe Hotel Storia ascends\\r\\r\\nAbove me and my new wife; ends\\r\\r\\nEight stories of decline, despair,\\r\\r\\nIron beds and hand-washed underwear\\r\\r\\nAbove us and our leatherette\\r\\r\\nChattels, still grounded on the wet\\r\\r\\nGrey tessellated lobby floor.\\r\\r\\nSoon, through a dingy, numbered door,\\r\\r\\nWe\\u2019ll enter into our new home,\\r\\r\\nProvincials in Imperial Rome\\r\\r\\nTo seek their fortune, or, at least,\\r\\r\\nTo find a job. The wedding feast,\\r\\r\\nDigested and metabolized,\\r\\r\\nDiminishes in idealized\\r\\r\\nGroup photographs, and hard today\\r\\r\\nShunts us together and at bay.\\r\\r\\nOutside the soot-webbed window, sleet\\r\\r\\nScourges the vista of Eighth Street;\\r\\r\\nInside, the radiators clack\\r\\r\\nAnd talk and tell us to go back\\r\\r\\nWhere we came from. A lone pecan\\r\\r\\nFalls from our lunch, a sticky bun,\\r\\r\\nAnd bounces on the trampoline\\r\\r\\nOf the torn bedspread. In the mean\\r\\r\\nDistance of winter, a man sighs,\\r\\r\\nA bedstead creaks, a woman cries.\\r\\r\\n \\r\\r\\n \\r\\r\\nIV. July 14, 1951\\r\\r\\n \\r\\r\\nA summer lull arrives in the West Village,\\r\\r\\nTransmuting houses into silent salvage\\r\\r\\nOf the last century, streets into wreckage\\r\\r\\nUncalled-for by do-gooders who police\\r\\r\\nThe moderniqueness of our ways, patrol\\r\\r\\nThe sanitation of the urban soul.\\r\\r\\nWhat I mean is, devoid of people, all\\r\\r\\nOur dwellings freeze and rust in desuetude,\\r\\r\\nFur over with untenancy, glaze grey\\r\\r\\nWith summer\\u2019s dust and incivility,\\r\\r\\nWith lack of language and engagement, while\\r\\r\\nTheir occupants sport, mutate, and transform\\r\\r\\nThemselves, play at dissembling the god Norm\\r\\r\\nFrom forward bases at Fire Island. But\\u2014\\r\\r\\nException proving rules, dissolving doubt\\u2014\\r\\r\\nYoung Gordon Walker, fledgling editor,\\r\\r\\nMy daylong colleague in the corridors\\r\\r\\nOf Power & Leicht, the trade-book publishers,\\r\\r\\nIs at home to the residue in his\\r\\r\\nAcute apartment in an angle of\\r\\r\\nAbingdon Square. And they\\u2019re all there, the rear-\\r\\r\\nGuard of the garrison of Fort New York:\\r\\r\\nThe skeleton defense of skinny girls\\r\\r\\nWho tap the typewriters of summertime;\\r\\r\\nThe pale male workers who know no time off\\r\\r\\nBecause too recently employed; the old\\r\\r\\nManhattan hands, in patched and gin-stained tweeds;\\r\\r\\nThe writers (Walker\\u2019s one), who see in their\\r\\r\\nCity as desert an oasis of\\r\\r\\nSilence and time to execute their plots\\r\\r\\nAgainst the state of things, but fall a prey\\r\\r\\nTo day succeeding day alone, and call\\r\\r\\nA party to restore themselves to all\\r\\r\\nThe inside jokes of winter, in whose caul\\r\\r\\nPeople click, kiss like billiard balls, and fall,\\r\\r\\nInsensible, into odd pockets. Dense\\r\\r\\nAs gander-feather winter snow, intense\\r\\r\\nAs inextinguishable summer sun\\r\\r\\nAt five o\\u2019clock (which it now is), the noise\\r\\r\\nOf Walker\\u2019s congeries of girls and boys\\r\\r\\nForegathered in their gabbling gratitude\\r\\r\\nStrikes down the stairwell from the altitude\\r\\r\\nOf his wide-open walk-up, beckoning\\r\\r\\nMe, solo, wife gone north, to sickening\\r\\r\\nTop-story heat and talk jackhammering\\r\\r\\nUpon the anvils of all ears. \\u201cChrist, Lou, you\\u2019re here,\\u201d\\r\\r\\nWhoops Walker, topping up a jelly jar\\r\\r\\n(\\u201cCrabapple,\\u201d says the label, still stuck on)\\r\\r\\nWith gin and tonic, a blue liquid smoke\\r\\r\\nThat seeks its level in my unexplored\\r\\r\\nInterior, and sends back a sonar ping\\r\\r\\nTo echo in my head. Two more blue gins.\\r\\r\\nThe sweat that mists my glasses interdicts\\r\\r\\nMy sizing up my interlocutor,\\r\\r\\nWho is, I think, the girl who lives next door,\\r\\r\\nA long-necked, fiddleheaded, celliform\\r\\r\\nGirl cellist propped on an improbably\\r\\r\\nSlim leg. Gin pings are now continuous.\\r\\r\\nThe room swings in its gimbals. In the bath\\r\\r\\nIs silence, blessed, relative, untorn\\r\\r\\nBy the cool drizzle of the bathtub tap,\\r\\r\\nA clear and present invitation. Like\\r\\r\\nA climber conquering K.28,\\r\\r\\nI clamber over the white porcelain\\r\\r\\nRock face, through whitish veils of rubberized\\r\\r\\nShower curtain, and at length, full-dressed, recline\\r\\r\\nIn the encaustic crater, where a fine\\r\\r\\nThread of cold water irrigates my feet,\\r\\r\\nTo sleep, perchance to dream of winter in\\r\\r\\nThe Village, fat with its full complement\\r\\r\\nOf refugees returned to their own turf\\u2014\\r\\r\\nUnspringy as it is\\u2014in a strong surf\\r\\r\\nOf retrogressing lemmings, faces fixed\\r\\r\\nOn the unlovely birthplace of their mixed\\r\\r\\nEmotions, marriages, media, and met-\\r\\r\\nAphors. Lord God of hosts, be with them yet.\\r\\r\\n\",\n          \"\\r\\r\\nEverything that was young went quickly,the way his eyes met mine as soon as wewoke together in a room outside Nanjing,feeling as if all the things that were fallingwould fall and make their thunder, leaveus with the challenge of being happy,all the things that felt given when giftswere not just surprises, but what weknew, what we hoped to take with usto heaven, unbound by faults and sins,not deceived the way we were whenthe end came to what we knew of China,landing me here. I am a wish in the skiesspun out from celestial space to be poor,to be covered with black skin, a feltquilt of a map with only one way to China\\u2009\\u2014\\u2009through pain as big as hogs squealingat killing time on black farms in Alabama\\u2009\\u2014\\u2009the noise of death, the shrill needlethat turns clouds over to rip the airabove the cities where people are youngand all that is given is never taken away.\\r\\r\\n\",\n          \"\\r\\r\\nI dreamt last night\\r\\r\\nthe fright was over, that\\r\\r\\nthe dust came, and then water,   \\r\\r\\nand women and men, together   \\r\\r\\nagain, and all was quiet\\r\\r\\nin the dim moon\\u2019s light.\\r\\r\\nA paean of such patience\\u2014\\r\\r\\nlaughing, laughing at me,   \\r\\r\\nand the days extend over\\r\\r\\nthe earth\\u2019s great cover,\\r\\r\\ngrass, trees, and flower-\\r\\r\\ning season, for no clear reason.\\r\\r\\n\"\n        ],\n        \"semantic_type\": \"\",\n        \"description\": \"\"\n      }\n    },\n    {\n      \"column\": \"Poet\",\n      \"properties\": {\n        \"dtype\": \"category\",\n        \"num_unique_values\": 3128,\n        \"samples\": [\n          \"Lee Ann Roripaugh\",\n          \"Saadi Youssef\",\n          \"M.L. Smoker\"\n        ],\n        \"semantic_type\": \"\",\n        \"description\": \"\"\n      }\n    },\n    {\n      \"column\": \"Tags\",\n      \"properties\": {\n        \"dtype\": \"string\",\n        \"num_unique_values\": 8297,\n        \"samples\": [\n          \"Nature,Landscapes & Pastorals,Spring\",\n          \"Living,Sorrow & Grieving,Love,Relationships,Nature,Stars, Planets, Heavens,Trees & Flowers,Weather,Social Commentaries,Money & Economics\",\n          \"Living,Marriage & Companionship,Sorrow & Grieving,Love,Realistic & Complicated,Relationships,Home Life,Nature,Animals\"\n        ],\n        \"semantic_type\": \"\",\n        \"description\": \"\"\n      }\n    }\n  ]\n}",
              "type": "dataframe",
              "variable_name": "df"
            },
            "text/html": [
              "\n",
              "  <div id=\"df-6764209c-298b-4183-98e7-a11251144a4c\" class=\"colab-df-container\">\n",
              "    <div>\n",
              "<style scoped>\n",
              "    .dataframe tbody tr th:only-of-type {\n",
              "        vertical-align: middle;\n",
              "    }\n",
              "\n",
              "    .dataframe tbody tr th {\n",
              "        vertical-align: top;\n",
              "    }\n",
              "\n",
              "    .dataframe thead th {\n",
              "        text-align: right;\n",
              "    }\n",
              "</style>\n",
              "<table border=\"1\" class=\"dataframe\">\n",
              "  <thead>\n",
              "    <tr style=\"text-align: right;\">\n",
              "      <th></th>\n",
              "      <th>Unnamed: 0</th>\n",
              "      <th>Title</th>\n",
              "      <th>Poem</th>\n",
              "      <th>Poet</th>\n",
              "      <th>Tags</th>\n",
              "    </tr>\n",
              "  </thead>\n",
              "  <tbody>\n",
              "    <tr>\n",
              "      <th>0</th>\n",
              "      <td>0</td>\n",
              "      <td>\\r\\r\\n                    Objects Used to Prop...</td>\n",
              "      <td>\\r\\r\\nDog bone, stapler,\\r\\r\\ncribbage board, ...</td>\n",
              "      <td>Michelle Menting</td>\n",
              "      <td>NaN</td>\n",
              "    </tr>\n",
              "    <tr>\n",
              "      <th>1</th>\n",
              "      <td>1</td>\n",
              "      <td>\\r\\r\\n                    The New Church\\r\\r\\n...</td>\n",
              "      <td>\\r\\r\\nThe old cupola glinted above the clouds,...</td>\n",
              "      <td>Lucia Cherciu</td>\n",
              "      <td>NaN</td>\n",
              "    </tr>\n",
              "    <tr>\n",
              "      <th>2</th>\n",
              "      <td>2</td>\n",
              "      <td>\\r\\r\\n                    Look for Me\\r\\r\\n   ...</td>\n",
              "      <td>\\r\\r\\nLook for me under the hood\\r\\r\\nof that ...</td>\n",
              "      <td>Ted Kooser</td>\n",
              "      <td>NaN</td>\n",
              "    </tr>\n",
              "    <tr>\n",
              "      <th>3</th>\n",
              "      <td>3</td>\n",
              "      <td>\\r\\r\\n                    Wild Life\\r\\r\\n     ...</td>\n",
              "      <td>\\r\\r\\nBehind the silo, the Mother Rabbit\\r\\r\\n...</td>\n",
              "      <td>Grace Cavalieri</td>\n",
              "      <td>NaN</td>\n",
              "    </tr>\n",
              "    <tr>\n",
              "      <th>4</th>\n",
              "      <td>4</td>\n",
              "      <td>\\r\\r\\n                    Umbrella\\r\\r\\n      ...</td>\n",
              "      <td>\\r\\r\\nWhen I push your button\\r\\r\\nyou fly off...</td>\n",
              "      <td>Connie Wanek</td>\n",
              "      <td>NaN</td>\n",
              "    </tr>\n",
              "  </tbody>\n",
              "</table>\n",
              "</div>\n",
              "    <div class=\"colab-df-buttons\">\n",
              "\n",
              "  <div class=\"colab-df-container\">\n",
              "    <button class=\"colab-df-convert\" onclick=\"convertToInteractive('df-6764209c-298b-4183-98e7-a11251144a4c')\"\n",
              "            title=\"Convert this dataframe to an interactive table.\"\n",
              "            style=\"display:none;\">\n",
              "\n",
              "  <svg xmlns=\"http://www.w3.org/2000/svg\" height=\"24px\" viewBox=\"0 -960 960 960\">\n",
              "    <path d=\"M120-120v-720h720v720H120Zm60-500h600v-160H180v160Zm220 220h160v-160H400v160Zm0 220h160v-160H400v160ZM180-400h160v-160H180v160Zm440 0h160v-160H620v160ZM180-180h160v-160H180v160Zm440 0h160v-160H620v160Z\"/>\n",
              "  </svg>\n",
              "    </button>\n",
              "\n",
              "  <style>\n",
              "    .colab-df-container {\n",
              "      display:flex;\n",
              "      gap: 12px;\n",
              "    }\n",
              "\n",
              "    .colab-df-convert {\n",
              "      background-color: #E8F0FE;\n",
              "      border: none;\n",
              "      border-radius: 50%;\n",
              "      cursor: pointer;\n",
              "      display: none;\n",
              "      fill: #1967D2;\n",
              "      height: 32px;\n",
              "      padding: 0 0 0 0;\n",
              "      width: 32px;\n",
              "    }\n",
              "\n",
              "    .colab-df-convert:hover {\n",
              "      background-color: #E2EBFA;\n",
              "      box-shadow: 0px 1px 2px rgba(60, 64, 67, 0.3), 0px 1px 3px 1px rgba(60, 64, 67, 0.15);\n",
              "      fill: #174EA6;\n",
              "    }\n",
              "\n",
              "    .colab-df-buttons div {\n",
              "      margin-bottom: 4px;\n",
              "    }\n",
              "\n",
              "    [theme=dark] .colab-df-convert {\n",
              "      background-color: #3B4455;\n",
              "      fill: #D2E3FC;\n",
              "    }\n",
              "\n",
              "    [theme=dark] .colab-df-convert:hover {\n",
              "      background-color: #434B5C;\n",
              "      box-shadow: 0px 1px 3px 1px rgba(0, 0, 0, 0.15);\n",
              "      filter: drop-shadow(0px 1px 2px rgba(0, 0, 0, 0.3));\n",
              "      fill: #FFFFFF;\n",
              "    }\n",
              "  </style>\n",
              "\n",
              "    <script>\n",
              "      const buttonEl =\n",
              "        document.querySelector('#df-6764209c-298b-4183-98e7-a11251144a4c button.colab-df-convert');\n",
              "      buttonEl.style.display =\n",
              "        google.colab.kernel.accessAllowed ? 'block' : 'none';\n",
              "\n",
              "      async function convertToInteractive(key) {\n",
              "        const element = document.querySelector('#df-6764209c-298b-4183-98e7-a11251144a4c');\n",
              "        const dataTable =\n",
              "          await google.colab.kernel.invokeFunction('convertToInteractive',\n",
              "                                                    [key], {});\n",
              "        if (!dataTable) return;\n",
              "\n",
              "        const docLinkHtml = 'Like what you see? Visit the ' +\n",
              "          '<a target=\"_blank\" href=https://colab.research.google.com/notebooks/data_table.ipynb>data table notebook</a>'\n",
              "          + ' to learn more about interactive tables.';\n",
              "        element.innerHTML = '';\n",
              "        dataTable['output_type'] = 'display_data';\n",
              "        await google.colab.output.renderOutput(dataTable, element);\n",
              "        const docLink = document.createElement('div');\n",
              "        docLink.innerHTML = docLinkHtml;\n",
              "        element.appendChild(docLink);\n",
              "      }\n",
              "    </script>\n",
              "  </div>\n",
              "\n",
              "\n",
              "    <div id=\"df-3fd4fbfd-a139-4999-b3f9-91c062eb0e26\">\n",
              "      <button class=\"colab-df-quickchart\" onclick=\"quickchart('df-3fd4fbfd-a139-4999-b3f9-91c062eb0e26')\"\n",
              "                title=\"Suggest charts\"\n",
              "                style=\"display:none;\">\n",
              "\n",
              "<svg xmlns=\"http://www.w3.org/2000/svg\" height=\"24px\"viewBox=\"0 0 24 24\"\n",
              "     width=\"24px\">\n",
              "    <g>\n",
              "        <path d=\"M19 3H5c-1.1 0-2 .9-2 2v14c0 1.1.9 2 2 2h14c1.1 0 2-.9 2-2V5c0-1.1-.9-2-2-2zM9 17H7v-7h2v7zm4 0h-2V7h2v10zm4 0h-2v-4h2v4z\"/>\n",
              "    </g>\n",
              "</svg>\n",
              "      </button>\n",
              "\n",
              "<style>\n",
              "  .colab-df-quickchart {\n",
              "      --bg-color: #E8F0FE;\n",
              "      --fill-color: #1967D2;\n",
              "      --hover-bg-color: #E2EBFA;\n",
              "      --hover-fill-color: #174EA6;\n",
              "      --disabled-fill-color: #AAA;\n",
              "      --disabled-bg-color: #DDD;\n",
              "  }\n",
              "\n",
              "  [theme=dark] .colab-df-quickchart {\n",
              "      --bg-color: #3B4455;\n",
              "      --fill-color: #D2E3FC;\n",
              "      --hover-bg-color: #434B5C;\n",
              "      --hover-fill-color: #FFFFFF;\n",
              "      --disabled-bg-color: #3B4455;\n",
              "      --disabled-fill-color: #666;\n",
              "  }\n",
              "\n",
              "  .colab-df-quickchart {\n",
              "    background-color: var(--bg-color);\n",
              "    border: none;\n",
              "    border-radius: 50%;\n",
              "    cursor: pointer;\n",
              "    display: none;\n",
              "    fill: var(--fill-color);\n",
              "    height: 32px;\n",
              "    padding: 0;\n",
              "    width: 32px;\n",
              "  }\n",
              "\n",
              "  .colab-df-quickchart:hover {\n",
              "    background-color: var(--hover-bg-color);\n",
              "    box-shadow: 0 1px 2px rgba(60, 64, 67, 0.3), 0 1px 3px 1px rgba(60, 64, 67, 0.15);\n",
              "    fill: var(--button-hover-fill-color);\n",
              "  }\n",
              "\n",
              "  .colab-df-quickchart-complete:disabled,\n",
              "  .colab-df-quickchart-complete:disabled:hover {\n",
              "    background-color: var(--disabled-bg-color);\n",
              "    fill: var(--disabled-fill-color);\n",
              "    box-shadow: none;\n",
              "  }\n",
              "\n",
              "  .colab-df-spinner {\n",
              "    border: 2px solid var(--fill-color);\n",
              "    border-color: transparent;\n",
              "    border-bottom-color: var(--fill-color);\n",
              "    animation:\n",
              "      spin 1s steps(1) infinite;\n",
              "  }\n",
              "\n",
              "  @keyframes spin {\n",
              "    0% {\n",
              "      border-color: transparent;\n",
              "      border-bottom-color: var(--fill-color);\n",
              "      border-left-color: var(--fill-color);\n",
              "    }\n",
              "    20% {\n",
              "      border-color: transparent;\n",
              "      border-left-color: var(--fill-color);\n",
              "      border-top-color: var(--fill-color);\n",
              "    }\n",
              "    30% {\n",
              "      border-color: transparent;\n",
              "      border-left-color: var(--fill-color);\n",
              "      border-top-color: var(--fill-color);\n",
              "      border-right-color: var(--fill-color);\n",
              "    }\n",
              "    40% {\n",
              "      border-color: transparent;\n",
              "      border-right-color: var(--fill-color);\n",
              "      border-top-color: var(--fill-color);\n",
              "    }\n",
              "    60% {\n",
              "      border-color: transparent;\n",
              "      border-right-color: var(--fill-color);\n",
              "    }\n",
              "    80% {\n",
              "      border-color: transparent;\n",
              "      border-right-color: var(--fill-color);\n",
              "      border-bottom-color: var(--fill-color);\n",
              "    }\n",
              "    90% {\n",
              "      border-color: transparent;\n",
              "      border-bottom-color: var(--fill-color);\n",
              "    }\n",
              "  }\n",
              "</style>\n",
              "\n",
              "      <script>\n",
              "        async function quickchart(key) {\n",
              "          const quickchartButtonEl =\n",
              "            document.querySelector('#' + key + ' button');\n",
              "          quickchartButtonEl.disabled = true;  // To prevent multiple clicks.\n",
              "          quickchartButtonEl.classList.add('colab-df-spinner');\n",
              "          try {\n",
              "            const charts = await google.colab.kernel.invokeFunction(\n",
              "                'suggestCharts', [key], {});\n",
              "          } catch (error) {\n",
              "            console.error('Error during call to suggestCharts:', error);\n",
              "          }\n",
              "          quickchartButtonEl.classList.remove('colab-df-spinner');\n",
              "          quickchartButtonEl.classList.add('colab-df-quickchart-complete');\n",
              "        }\n",
              "        (() => {\n",
              "          let quickchartButtonEl =\n",
              "            document.querySelector('#df-3fd4fbfd-a139-4999-b3f9-91c062eb0e26 button');\n",
              "          quickchartButtonEl.style.display =\n",
              "            google.colab.kernel.accessAllowed ? 'block' : 'none';\n",
              "        })();\n",
              "      </script>\n",
              "    </div>\n",
              "    </div>\n",
              "  </div>\n"
            ],
            "text/plain": [
              "   Unnamed: 0                                              Title  \\\n",
              "0           0  \\r\\r\\n                    Objects Used to Prop...   \n",
              "1           1  \\r\\r\\n                    The New Church\\r\\r\\n...   \n",
              "2           2  \\r\\r\\n                    Look for Me\\r\\r\\n   ...   \n",
              "3           3  \\r\\r\\n                    Wild Life\\r\\r\\n     ...   \n",
              "4           4  \\r\\r\\n                    Umbrella\\r\\r\\n      ...   \n",
              "\n",
              "                                                Poem              Poet Tags  \n",
              "0  \\r\\r\\nDog bone, stapler,\\r\\r\\ncribbage board, ...  Michelle Menting  NaN  \n",
              "1  \\r\\r\\nThe old cupola glinted above the clouds,...     Lucia Cherciu  NaN  \n",
              "2  \\r\\r\\nLook for me under the hood\\r\\r\\nof that ...        Ted Kooser  NaN  \n",
              "3  \\r\\r\\nBehind the silo, the Mother Rabbit\\r\\r\\n...   Grace Cavalieri  NaN  \n",
              "4  \\r\\r\\nWhen I push your button\\r\\r\\nyou fly off...      Connie Wanek  NaN  "
            ]
          },
          "execution_count": 1,
          "metadata": {},
          "output_type": "execute_result"
        }
      ],
      "source": [
        "import zipfile\n",
        "import pandas as pd\n",
        "import os\n",
        "\n",
        "zip_path = \"/content/archive (6).zip\"\n",
        "\n",
        "with zipfile.ZipFile(zip_path, 'r') as zip_ref:\n",
        "    zip_ref.extractall(\"/content/dataset\")\n",
        "\n",
        "files = os.listdir(\"/content/dataset\")\n",
        "print(\"فایل‌های موجود:\", files)\n",
        "\n",
        "data_file = None\n",
        "for f in files:\n",
        "    if f.endswith(\".csv\") or f.endswith(\".xlsx\") or f.endswith(\".xls\"):\n",
        "        data_file = f\n",
        "        break\n",
        "\n",
        "if data_file is None:\n",
        "    raise FileNotFoundError(\"هیچ فایل CSV یا Excel در زیپ پیدا نشد!\")\n",
        "\n",
        "file_path = os.path.join(\"/content/dataset\", data_file)\n",
        "print(\"فایل انتخاب‌شده:\", file_path)\n",
        "\n",
        "# لود فایل بسته به نوعش\n",
        "if file_path.endswith(\".csv\"):\n",
        "    df = pd.read_csv(file_path)\n",
        "else:\n",
        "    df = pd.read_excel(file_path)\n",
        "\n",
        "# نمایش چند ردیف اول\n",
        "df.head()\n"
      ]
    },
    {
      "cell_type": "code",
      "execution_count": null,
      "metadata": {
        "colab": {
          "base_uri": "https://localhost:8080/",
          "height": 224
        },
        "id": "lZ2PfFLIeAwb",
        "outputId": "a59e2a31-7ec9-4ffd-f5dd-df3887222522"
      },
      "outputs": [
        {
          "name": "stdout",
          "output_type": "stream",
          "text": [
            "(13854, 4)\n"
          ]
        },
        {
          "data": {
            "application/vnd.google.colaboratory.intrinsic+json": {
              "summary": "{\n  \"name\": \"df\",\n  \"rows\": 13854,\n  \"fields\": [\n    {\n      \"column\": \"Title\",\n      \"properties\": {\n        \"dtype\": \"string\",\n        \"num_unique_values\": 13237,\n        \"samples\": [\n          \"To Sleep\",\n          \"Washing the World\",\n          \"from \\u201cAn Attempt at Jealousy\\u201d\"\n        ],\n        \"semantic_type\": \"\",\n        \"description\": \"\"\n      }\n    },\n    {\n      \"column\": \"Poem\",\n      \"properties\": {\n        \"dtype\": \"string\",\n        \"num_unique_values\": 13740,\n        \"samples\": [\n          \"Within this sober frame expect Work of no foreign architect; That unto caves the quarries drew, And forests did to pastures hew; Who of his great design in pain Did for a model vault his brain; Whose columns should so high be rais\\u2019d To arch the brows that on them gaz\\u2019d. Why should of all things man unrul\\u2019d Such unproportion\\u2019d dwellings build? The beasts are by their dens exprest, And birds contrive an equal nest; The low roof\\u2019d tortoises do dwell In cases fit of tortoise-shell; No creature loves an empty space; Their bodies measure out their place. But he, superfluously spread, Demands more room alive than dead; And in his hollow palace goes Where winds as he themselves may lose. What need of all this marble crust T\\u2019impark the wanton mote of dust, That thinks by breadth the world t\\u2019unite Though the first builders fail\\u2019d in height? But all things are composed here Like nature, orderly and near; In which we the dimensions find Of that more sober age and mind, When larger sized men did stoop To enter at a narrow loop; As practising, in doors so straight, To strain themselves through Heaven\\u2019s gate. And surely when the after age Shall hither come in pilgrimage, These sacred places to adore, By Vere and Fairfax trod before, Men will dispute how their extent Within such dwarfish confines went; And some will smile at this, as well As Romulus his bee-like cell. Humility alone designs Those short but admirable lines, By which, ungirt and unconstrain\\u2019d, Things greater are in less contain\\u2019d. Let others vainly strive t\\u2019immure The circle in the quadrature! These holy mathematics can In ev\\u2019ry figure equal man. Yet thus the laden house does sweat, And scarce endures the master great, But where he comes the swelling hall Stirs, and the square grows spherical; More by his magnitude distress\\u2019d, Then he is by its straightness press\\u2019d, And too officiously it slights That in itself which him delights. So honour better lowness bears, Than that unwonted greatness wears; Height with a certain grace does bend, But low things clownishly ascend. And yet what needs there here excuse, Where ev\\u2019ry thing does answer use? Where neatness nothing can condemn, Nor pride invent what to contemn? A stately frontispiece of poor Adorns without the open door; Nor less the rooms within commends Daily new furniture of friends. The house was built upon the place Only as for a mark of grace; And for an inn to entertain Its lord a while, but not remain. Him Bishops-Hill, or Denton may, Or Billbrough, better hold than they; But nature here hath been so free As if she said leave this to me. Art would more neatly have defac\\u2019d What she had laid so sweetly waste; In fragrant gardens, shady woods, Deep meadows, and transparent floods.\",\n          \"Little Lamb who made thee Dost thou know who made thee Gave thee life & bid thee feed. By the stream & o'er the mead; Gave thee clothing of delight, Softest clothing wooly bright; Gave thee such a tender voice, Making all the vales rejoice! Little Lamb who made thee Dost thou know who made thee Little Lamb I'll tell thee, Little Lamb I'll tell thee!He is called by thy name, For he calls himself a Lamb: He is meek & he is mild, He became a little child: I a child & thou a lamb, We are called by his name. Little Lamb God bless thee. Little Lamb God bless thee.\",\n          \"Because you\\u2019re gone, I take a book to bed:The Flame of Passion. Scabbard at his thigh, Lord Henry gets the girl. You\\u2019d only buy top Booklist picks. \\u201cThe romance genre\\u2019s dead,\\u201d you\\u2019d say when promises of I-thee-wed lured me to bargain bins. I learned to lie about my day, hoard Harlequins on the sly while you were off at work, your office spread with red-inked proofs. But now it makes me yawn to read beyond the lovers\\u2019 wedding night. I close The Flame, not even halfway through. His sword grows dull while she goes on and on about how lovers must stay true. I\\u2019d write another ending, if I could, for you.\"\n        ],\n        \"semantic_type\": \"\",\n        \"description\": \"\"\n      }\n    },\n    {\n      \"column\": \"Poet\",\n      \"properties\": {\n        \"dtype\": \"category\",\n        \"num_unique_values\": 3128,\n        \"samples\": [\n          \"Lee Ann Roripaugh\",\n          \"Saadi Youssef\",\n          \"M.L. Smoker\"\n        ],\n        \"semantic_type\": \"\",\n        \"description\": \"\"\n      }\n    },\n    {\n      \"column\": \"Tags\",\n      \"properties\": {\n        \"dtype\": \"object\",\n        \"semantic_type\": \"\",\n        \"description\": \"\"\n      }\n    }\n  ]\n}",
              "type": "dataframe",
              "variable_name": "df"
            },
            "text/html": [
              "\n",
              "  <div id=\"df-236be1d3-496d-4279-bfe4-5c8a735a2f0a\" class=\"colab-df-container\">\n",
              "    <div>\n",
              "<style scoped>\n",
              "    .dataframe tbody tr th:only-of-type {\n",
              "        vertical-align: middle;\n",
              "    }\n",
              "\n",
              "    .dataframe tbody tr th {\n",
              "        vertical-align: top;\n",
              "    }\n",
              "\n",
              "    .dataframe thead th {\n",
              "        text-align: right;\n",
              "    }\n",
              "</style>\n",
              "<table border=\"1\" class=\"dataframe\">\n",
              "  <thead>\n",
              "    <tr style=\"text-align: right;\">\n",
              "      <th></th>\n",
              "      <th>Title</th>\n",
              "      <th>Poem</th>\n",
              "      <th>Poet</th>\n",
              "      <th>Tags</th>\n",
              "    </tr>\n",
              "  </thead>\n",
              "  <tbody>\n",
              "    <tr>\n",
              "      <th>0</th>\n",
              "      <td>Objects Used to Prop Open a Window</td>\n",
              "      <td>Dog bone, stapler, cribbage board, garlic pres...</td>\n",
              "      <td>Michelle Menting</td>\n",
              "      <td>None</td>\n",
              "    </tr>\n",
              "    <tr>\n",
              "      <th>1</th>\n",
              "      <td>The New Church</td>\n",
              "      <td>The old cupola glinted above the clouds, shone...</td>\n",
              "      <td>Lucia Cherciu</td>\n",
              "      <td>None</td>\n",
              "    </tr>\n",
              "    <tr>\n",
              "      <th>2</th>\n",
              "      <td>Look for Me</td>\n",
              "      <td>Look for me under the hood of that old Chevrol...</td>\n",
              "      <td>Ted Kooser</td>\n",
              "      <td>None</td>\n",
              "    </tr>\n",
              "    <tr>\n",
              "      <th>3</th>\n",
              "      <td>Wild Life</td>\n",
              "      <td>Behind the silo, the Mother Rabbit hunches lik...</td>\n",
              "      <td>Grace Cavalieri</td>\n",
              "      <td>None</td>\n",
              "    </tr>\n",
              "    <tr>\n",
              "      <th>4</th>\n",
              "      <td>Umbrella</td>\n",
              "      <td>When I push your button you fly off the handle...</td>\n",
              "      <td>Connie Wanek</td>\n",
              "      <td>None</td>\n",
              "    </tr>\n",
              "  </tbody>\n",
              "</table>\n",
              "</div>\n",
              "    <div class=\"colab-df-buttons\">\n",
              "\n",
              "  <div class=\"colab-df-container\">\n",
              "    <button class=\"colab-df-convert\" onclick=\"convertToInteractive('df-236be1d3-496d-4279-bfe4-5c8a735a2f0a')\"\n",
              "            title=\"Convert this dataframe to an interactive table.\"\n",
              "            style=\"display:none;\">\n",
              "\n",
              "  <svg xmlns=\"http://www.w3.org/2000/svg\" height=\"24px\" viewBox=\"0 -960 960 960\">\n",
              "    <path d=\"M120-120v-720h720v720H120Zm60-500h600v-160H180v160Zm220 220h160v-160H400v160Zm0 220h160v-160H400v160ZM180-400h160v-160H180v160Zm440 0h160v-160H620v160ZM180-180h160v-160H180v160Zm440 0h160v-160H620v160Z\"/>\n",
              "  </svg>\n",
              "    </button>\n",
              "\n",
              "  <style>\n",
              "    .colab-df-container {\n",
              "      display:flex;\n",
              "      gap: 12px;\n",
              "    }\n",
              "\n",
              "    .colab-df-convert {\n",
              "      background-color: #E8F0FE;\n",
              "      border: none;\n",
              "      border-radius: 50%;\n",
              "      cursor: pointer;\n",
              "      display: none;\n",
              "      fill: #1967D2;\n",
              "      height: 32px;\n",
              "      padding: 0 0 0 0;\n",
              "      width: 32px;\n",
              "    }\n",
              "\n",
              "    .colab-df-convert:hover {\n",
              "      background-color: #E2EBFA;\n",
              "      box-shadow: 0px 1px 2px rgba(60, 64, 67, 0.3), 0px 1px 3px 1px rgba(60, 64, 67, 0.15);\n",
              "      fill: #174EA6;\n",
              "    }\n",
              "\n",
              "    .colab-df-buttons div {\n",
              "      margin-bottom: 4px;\n",
              "    }\n",
              "\n",
              "    [theme=dark] .colab-df-convert {\n",
              "      background-color: #3B4455;\n",
              "      fill: #D2E3FC;\n",
              "    }\n",
              "\n",
              "    [theme=dark] .colab-df-convert:hover {\n",
              "      background-color: #434B5C;\n",
              "      box-shadow: 0px 1px 3px 1px rgba(0, 0, 0, 0.15);\n",
              "      filter: drop-shadow(0px 1px 2px rgba(0, 0, 0, 0.3));\n",
              "      fill: #FFFFFF;\n",
              "    }\n",
              "  </style>\n",
              "\n",
              "    <script>\n",
              "      const buttonEl =\n",
              "        document.querySelector('#df-236be1d3-496d-4279-bfe4-5c8a735a2f0a button.colab-df-convert');\n",
              "      buttonEl.style.display =\n",
              "        google.colab.kernel.accessAllowed ? 'block' : 'none';\n",
              "\n",
              "      async function convertToInteractive(key) {\n",
              "        const element = document.querySelector('#df-236be1d3-496d-4279-bfe4-5c8a735a2f0a');\n",
              "        const dataTable =\n",
              "          await google.colab.kernel.invokeFunction('convertToInteractive',\n",
              "                                                    [key], {});\n",
              "        if (!dataTable) return;\n",
              "\n",
              "        const docLinkHtml = 'Like what you see? Visit the ' +\n",
              "          '<a target=\"_blank\" href=https://colab.research.google.com/notebooks/data_table.ipynb>data table notebook</a>'\n",
              "          + ' to learn more about interactive tables.';\n",
              "        element.innerHTML = '';\n",
              "        dataTable['output_type'] = 'display_data';\n",
              "        await google.colab.output.renderOutput(dataTable, element);\n",
              "        const docLink = document.createElement('div');\n",
              "        docLink.innerHTML = docLinkHtml;\n",
              "        element.appendChild(docLink);\n",
              "      }\n",
              "    </script>\n",
              "  </div>\n",
              "\n",
              "\n",
              "    <div id=\"df-62d84518-f674-4f05-aee4-b7c6dff973bf\">\n",
              "      <button class=\"colab-df-quickchart\" onclick=\"quickchart('df-62d84518-f674-4f05-aee4-b7c6dff973bf')\"\n",
              "                title=\"Suggest charts\"\n",
              "                style=\"display:none;\">\n",
              "\n",
              "<svg xmlns=\"http://www.w3.org/2000/svg\" height=\"24px\"viewBox=\"0 0 24 24\"\n",
              "     width=\"24px\">\n",
              "    <g>\n",
              "        <path d=\"M19 3H5c-1.1 0-2 .9-2 2v14c0 1.1.9 2 2 2h14c1.1 0 2-.9 2-2V5c0-1.1-.9-2-2-2zM9 17H7v-7h2v7zm4 0h-2V7h2v10zm4 0h-2v-4h2v4z\"/>\n",
              "    </g>\n",
              "</svg>\n",
              "      </button>\n",
              "\n",
              "<style>\n",
              "  .colab-df-quickchart {\n",
              "      --bg-color: #E8F0FE;\n",
              "      --fill-color: #1967D2;\n",
              "      --hover-bg-color: #E2EBFA;\n",
              "      --hover-fill-color: #174EA6;\n",
              "      --disabled-fill-color: #AAA;\n",
              "      --disabled-bg-color: #DDD;\n",
              "  }\n",
              "\n",
              "  [theme=dark] .colab-df-quickchart {\n",
              "      --bg-color: #3B4455;\n",
              "      --fill-color: #D2E3FC;\n",
              "      --hover-bg-color: #434B5C;\n",
              "      --hover-fill-color: #FFFFFF;\n",
              "      --disabled-bg-color: #3B4455;\n",
              "      --disabled-fill-color: #666;\n",
              "  }\n",
              "\n",
              "  .colab-df-quickchart {\n",
              "    background-color: var(--bg-color);\n",
              "    border: none;\n",
              "    border-radius: 50%;\n",
              "    cursor: pointer;\n",
              "    display: none;\n",
              "    fill: var(--fill-color);\n",
              "    height: 32px;\n",
              "    padding: 0;\n",
              "    width: 32px;\n",
              "  }\n",
              "\n",
              "  .colab-df-quickchart:hover {\n",
              "    background-color: var(--hover-bg-color);\n",
              "    box-shadow: 0 1px 2px rgba(60, 64, 67, 0.3), 0 1px 3px 1px rgba(60, 64, 67, 0.15);\n",
              "    fill: var(--button-hover-fill-color);\n",
              "  }\n",
              "\n",
              "  .colab-df-quickchart-complete:disabled,\n",
              "  .colab-df-quickchart-complete:disabled:hover {\n",
              "    background-color: var(--disabled-bg-color);\n",
              "    fill: var(--disabled-fill-color);\n",
              "    box-shadow: none;\n",
              "  }\n",
              "\n",
              "  .colab-df-spinner {\n",
              "    border: 2px solid var(--fill-color);\n",
              "    border-color: transparent;\n",
              "    border-bottom-color: var(--fill-color);\n",
              "    animation:\n",
              "      spin 1s steps(1) infinite;\n",
              "  }\n",
              "\n",
              "  @keyframes spin {\n",
              "    0% {\n",
              "      border-color: transparent;\n",
              "      border-bottom-color: var(--fill-color);\n",
              "      border-left-color: var(--fill-color);\n",
              "    }\n",
              "    20% {\n",
              "      border-color: transparent;\n",
              "      border-left-color: var(--fill-color);\n",
              "      border-top-color: var(--fill-color);\n",
              "    }\n",
              "    30% {\n",
              "      border-color: transparent;\n",
              "      border-left-color: var(--fill-color);\n",
              "      border-top-color: var(--fill-color);\n",
              "      border-right-color: var(--fill-color);\n",
              "    }\n",
              "    40% {\n",
              "      border-color: transparent;\n",
              "      border-right-color: var(--fill-color);\n",
              "      border-top-color: var(--fill-color);\n",
              "    }\n",
              "    60% {\n",
              "      border-color: transparent;\n",
              "      border-right-color: var(--fill-color);\n",
              "    }\n",
              "    80% {\n",
              "      border-color: transparent;\n",
              "      border-right-color: var(--fill-color);\n",
              "      border-bottom-color: var(--fill-color);\n",
              "    }\n",
              "    90% {\n",
              "      border-color: transparent;\n",
              "      border-bottom-color: var(--fill-color);\n",
              "    }\n",
              "  }\n",
              "</style>\n",
              "\n",
              "      <script>\n",
              "        async function quickchart(key) {\n",
              "          const quickchartButtonEl =\n",
              "            document.querySelector('#' + key + ' button');\n",
              "          quickchartButtonEl.disabled = true;  // To prevent multiple clicks.\n",
              "          quickchartButtonEl.classList.add('colab-df-spinner');\n",
              "          try {\n",
              "            const charts = await google.colab.kernel.invokeFunction(\n",
              "                'suggestCharts', [key], {});\n",
              "          } catch (error) {\n",
              "            console.error('Error during call to suggestCharts:', error);\n",
              "          }\n",
              "          quickchartButtonEl.classList.remove('colab-df-spinner');\n",
              "          quickchartButtonEl.classList.add('colab-df-quickchart-complete');\n",
              "        }\n",
              "        (() => {\n",
              "          let quickchartButtonEl =\n",
              "            document.querySelector('#df-62d84518-f674-4f05-aee4-b7c6dff973bf button');\n",
              "          quickchartButtonEl.style.display =\n",
              "            google.colab.kernel.accessAllowed ? 'block' : 'none';\n",
              "        })();\n",
              "      </script>\n",
              "    </div>\n",
              "    </div>\n",
              "  </div>\n"
            ],
            "text/plain": [
              "                                Title  \\\n",
              "0  Objects Used to Prop Open a Window   \n",
              "1                      The New Church   \n",
              "2                         Look for Me   \n",
              "3                           Wild Life   \n",
              "4                            Umbrella   \n",
              "\n",
              "                                                Poem              Poet  Tags  \n",
              "0  Dog bone, stapler, cribbage board, garlic pres...  Michelle Menting  None  \n",
              "1  The old cupola glinted above the clouds, shone...     Lucia Cherciu  None  \n",
              "2  Look for me under the hood of that old Chevrol...        Ted Kooser  None  \n",
              "3  Behind the silo, the Mother Rabbit hunches lik...   Grace Cavalieri  None  \n",
              "4  When I push your button you fly off the handle...      Connie Wanek  None  "
            ]
          },
          "execution_count": 2,
          "metadata": {},
          "output_type": "execute_result"
        }
      ],
      "source": [
        "import pandas as pd\n",
        "import re\n",
        "import os\n",
        "\n",
        "file_path = \"/content/dataset/PoetryFoundationData.csv\"\n",
        "\n",
        "df = pd.read_csv(file_path)\n",
        "\n",
        "extra_cols = [c for c in df.columns if c.lower().startswith(\"unnamed\")]\n",
        "df = df.drop(columns=extra_cols, errors=\"ignore\")\n",
        "\n",
        "for col in df.columns:\n",
        "    if df[col].dtype == \"object\":\n",
        "        df[col] = (\n",
        "            df[col]\n",
        "            .astype(str)                                  \n",
        "            .str.replace(r\"\\\\r|\\\\n\", \" \", regex=True)     \n",
        "            .str.replace(r\"[\\r\\n]+\", \" \", regex=True)   \n",
        "            .str.replace(r\"\\s+\", \" \", regex=True)         \n",
        "            .str.strip()\n",
        "            .replace({\"nan\": None})                      \n",
        "        )\n",
        "\n",
        "if \"Tags\" in df.columns:\n",
        "    df[\"Tags\"] = df[\"Tags\"].apply(lambda x: None if (x is None or x == \"\" or pd.isna(x))\n",
        "                                  else [t.strip() for t in re.split(r\"[|,;/]\", str(x)) if t.strip()])\n",
        "\n",
        "print(df.shape)\n",
        "df.head()\n"
      ]
    },
    {
      "cell_type": "code",
      "execution_count": null,
      "metadata": {
        "colab": {
          "base_uri": "https://localhost:8080/"
        },
        "id": "zF7_EnzNeCLf",
        "outputId": "d5f18d9b-f801-4e22-be67-249a0f620dd3"
      },
      "outputs": [
        {
          "name": "stdout",
          "output_type": "stream",
          "text": [
            "کل شعرها: 13753\n",
            "شعرهای تک‌لیبلی (بدون اورلپ): (5762, 7)\n",
            "حذف‌شده: چندلیبلی: (1437, 7)  | بدون لیبل هدف: (6554, 7)\n",
            "\n",
            "خلاصه‌ی آماری هر لیبل (شعرهای تک‌لیبلی):\n",
            "           Label  num_poems  num_unique_poets  word_min  word_median  \\\n",
            "0          death      778.0             546.0       3.0        153.0   \n",
            "1           love     3650.0            1607.0       1.0        154.0   \n",
            "2     philosophy      434.0             328.0       5.0        152.5   \n",
            "3  the spiritual      900.0             575.0       8.0        151.0   \n",
            "\n",
            "    word_mean  word_max  char_min  char_median    char_mean  char_max  \n",
            "0  267.924165    6015.0      15.0        838.0  1459.070694   32849.0  \n",
            "1  239.361370    9451.0      10.0        844.0  1310.786027   54103.0  \n",
            "2  279.460829    4356.0      30.0        817.0  1555.161290   23519.0  \n",
            "3  338.942222    9047.0      50.0        840.0  1886.934444   50627.0  \n"
          ]
        },
        {
          "name": "stderr",
          "output_type": "stream",
          "text": [
            "/tmp/ipython-input-1381427568.py:136: DeprecationWarning: DataFrameGroupBy.apply operated on the grouping columns. This behavior is deprecated, and in a future version of pandas the grouping columns will be excluded from the operation. Either pass `include_groups=False` to exclude the groupings or explicitly select the grouping columns after groupby to silence this warning.\n",
            "  .apply(summarize_group)\n"
          ]
        },
        {
          "name": "stdout",
          "output_type": "stream",
          "text": [
            "\n",
            "خروجی‌ها ذخیره شدند در: /content/dataset/labels_no_overlap_v2\n",
            "\n",
            "[نمونه] love: 5 شعر\n",
            "                                        Title                Poet  Poem_word_count\n",
            "                               Invisible Fish           Joy Harjo               57\n",
            "                    The Opposite of Nostalgia      Eric Gamalinda              173\n",
            "“In the Evening We Shall Be Examined on Love”   Thomas Centolella              252\n",
            " Mom Betty Addresses the Nature of Proportion    Eileen R. Tabios              107\n",
            "                                 Memorial Day Sunnylyn Thibodeaux              119\n",
            "\n",
            "[نمونه] philosophy: 5 شعر\n",
            "                                                      Title                  Poet  Poem_word_count\n",
            "                                                   Maxims 1        Anthony Madrid              218\n",
            "                                                   Maxims 2        Anthony Madrid              889\n",
            "                                    Emperor with No Clothes      Joseph Di Prisco              340\n",
            "from From \"Living Truthfully Under Imaginary Circumstances\" Elizabeth A.I. Powell               39\n",
            "                                            About Suffering         Elisa Gabbert              215\n",
            "\n",
            "[نمونه] death: 5 شعر\n",
            "                                           Title              Poet  Poem_word_count\n",
            "                               The Poem of Death   Michael Gessner              134\n",
            "Fiddlers at the Desert Valley County Care Center   Michael Gessner              236\n",
            "                                     Declaration           Bei Dao               84\n",
            "                                    Dust to Dust     April Ossmann               76\n",
            "                                          A Wish Thomas Centolella              409\n",
            "\n",
            "[نمونه] the spiritual: 5 شعر\n",
            "                        Title                  Poet  Poem_word_count\n",
            "Don’t Bother the Earth Spirit             Joy Harjo              107\n",
            "                          All           Barbara Ras              148\n",
            "                        Order Indran Amirthanayagam              143\n",
            "      The Properties of Light        Eric Gamalinda              284\n",
            "      Real Complex Key Shifts      Amanda Nadelberg              148\n"
          ]
        }
      ],
      "source": [
        "import os\n",
        "import re\n",
        "import pandas as pd\n",
        "\n",
        "def normalize_text(s: str) -> str:\n",
        "    s = str(s)\n",
        "    s = s.replace(\"’\", \"'\").replace(\"‘\", \"'\")\n",
        "    s = s.replace(\"&\", \"&\")  \n",
        "    s = re.sub(r\"\\s+\", \" \", s)\n",
        "    s = s.strip().lower()\n",
        "    return s\n",
        "\n",
        "def ensure_tags_list(x):\n",
        "    if x is None or (isinstance(x, float) and pd.isna(x)):\n",
        "        return []\n",
        "    if isinstance(x, list):\n",
        "        return [normalize_text(t) for t in x if str(t).strip() != \"\"]\n",
        "    parts = [normalize_text(p) for p in re.split(r\"[|,;/]\", str(x)) if p.strip() != \"\"]\n",
        "    return parts\n",
        "\n",
        "df = df.copy()\n",
        "\n",
        "if \"Tags\" not in df.columns:\n",
        "    df[\"Tags\"] = [[]]\n",
        "else:\n",
        "    df[\"Tags\"] = df[\"Tags\"].apply(ensure_tags_list)\n",
        "\n",
        "if \"Poem\" not in df.columns:\n",
        "    df[\"Poem\"] = \"\"\n",
        "\n",
        "df = df[df[\"Poem\"].astype(str).str.strip() != \"\"].reset_index(drop=True)\n",
        "\n",
        "df[\"Poem_word_count\"] = df[\"Poem\"].astype(str).apply(lambda x: len(x.split()))\n",
        "df[\"Poem_char_count\"] = df[\"Poem\"].astype(str).str.len()\n",
        "\n",
        "love_tags = {\n",
        "    \"love\", \"romantic love\", \"classic love\",\n",
        "    \"first love\", \"unrequited love\", \"infatuation & crushes\",\n",
        "    \"break-ups & vexed love\", \"heartache & loss\",\n",
        "    \"anniversary\", \"engagement\", \"marriage & companionship\",\n",
        "    \"relationships\", \"separation & divorce\", \"valentine's day\",\n",
        "    \"weddings\",  \n",
        "}\n",
        "\n",
        "philosophy_tags = {\n",
        "    \"philosophy\",\n",
        "}\n",
        "\n",
        "death_tags = {\n",
        "    \"death\",\n",
        "}\n",
        "\n",
        "spiritual_tags = {\n",
        "    \"the spiritual\", \"religion\", \"god & the divine\", \"faith & doubt\",\n",
        "    \"christianity\", \"islam\", \"judaism\", \"buddhism\", \"other religions\",\n",
        "    \"ramadan\", \"passover\", \"rosh hashanah\", \"hanukkah\", \"yom kippur\",\n",
        "}\n",
        "tag2label = {}\n",
        "for t in love_tags:\n",
        "    tag2label[normalize_text(t)] = \"love\"\n",
        "for t in philosophy_tags:\n",
        "    tag2label[normalize_text(t)] = \"philosophy\"\n",
        "for t in death_tags:\n",
        "    tag2label[normalize_text(t)] = \"death\"\n",
        "for t in spiritual_tags:\n",
        "    tag2label[normalize_text(t)] = \"the spiritual\"\n",
        "\n",
        "def matched_labels(tag_list):\n",
        "    labs = set()\n",
        "    for t in tag_list:\n",
        "        if t in tag2label:\n",
        "            labs.add(tag2label[t])\n",
        "    return sorted(labs)\n",
        "\n",
        "df[\"matched_labels\"] = df[\"Tags\"].apply(matched_labels)\n",
        "df_single = df[df[\"matched_labels\"].apply(len) == 1].copy()\n",
        "df_multi  = df[df[\"matched_labels\"].apply(len) > 1].copy()  \n",
        "df_none   = df[df[\"matched_labels\"].apply(len) == 0].copy()  \n",
        "\n",
        "df_single[\"Label\"] = df_single[\"matched_labels\"].apply(lambda xs: xs[0] if xs else None)\n",
        "\n",
        "cols_keep = [\"Label\", \"Title\", \"Poet\", \"Poem\", \"Tags\", \"Poem_word_count\", \"Poem_char_count\"]\n",
        "for c in cols_keep:\n",
        "    if c not in df_single.columns:\n",
        "        df_single[c] = None\n",
        "\n",
        "labeled_df = df_single[cols_keep].reset_index(drop=True)\n",
        "\n",
        "print(\"کل شعرها:\", len(df))\n",
        "print(\"شعرهای تک‌لیبلی (بدون اورلپ):\", labeled_df.shape)\n",
        "print(\"حذف‌شده: چندلیبلی:\", df_multi.shape, \" | بدون لیبل هدف:\", df_none.shape)\n",
        "\n",
        "if labeled_df.empty:\n",
        "    raise SystemExit(\"هیچ شعری با شرط «دقیقاً یک لیبل از چهار لیبل» پیدا نشد. شاید لازم باشد نگاشت تگ‌ها را گسترش دهیم.\")\n",
        "\n",
        "def summarize_group(g):\n",
        "    return pd.Series({\n",
        "        \"num_poems\": g.shape[0],\n",
        "        \"num_unique_poets\": g[\"Poet\"].nunique(),\n",
        "        \"word_min\": int(g[\"Poem_word_count\"].min()),\n",
        "        \"word_median\": float(g[\"Poem_word_count\"].median()),\n",
        "        \"word_mean\": float(g[\"Poem_word_count\"].mean()),\n",
        "        \"word_max\": int(g[\"Poem_word_count\"].max()),\n",
        "        \"char_min\": int(g[\"Poem_char_count\"].min()),\n",
        "        \"char_median\": float(g[\"Poem_char_count\"].median()),\n",
        "        \"char_mean\": float(g[\"Poem_char_count\"].mean()),\n",
        "        \"char_max\": int(g[\"Poem_char_count\"].max()),\n",
        "    })\n",
        "\n",
        "summary = (\n",
        "    labeled_df.groupby(\"Label\")\n",
        "    .apply(summarize_group)\n",
        "    .reset_index()\n",
        "    .sort_values(\"Label\")\n",
        ")\n",
        "\n",
        "print(\"\\nخلاصه‌ی آماری هر لیبل (شعرهای تک‌لیبلی):\")\n",
        "print(summary)\n",
        "out_dir = \"/content/dataset/labels_no_overlap_v2\"\n",
        "os.makedirs(out_dir, exist_ok=True)\n",
        "\n",
        "for lab in [\"love\", \"philosophy\", \"death\", \"the spiritual\"]:\n",
        "    sub = labeled_df[labeled_df[\"Label\"] == lab]\n",
        "    if not sub.empty:\n",
        "        sub.to_csv(os.path.join(out_dir, f\"{lab.replace(' ', '_')}.csv\"), index=False)\n",
        "\n",
        "labeled_df.to_csv(os.path.join(out_dir, \"poems_single_label.csv\"), index=False)\n",
        "df_multi.to_csv(os.path.join(out_dir, \"poems_multi_label_excluded.csv\"), index=False)\n",
        "df_none.to_csv(os.path.join(out_dir, \"poems_no_target_label.csv\"), index=False)\n",
        "summary.to_csv(os.path.join(out_dir, \"summary_by_label.csv\"), index=False)\n",
        "\n",
        "print(f\"\\nخروجی‌ها ذخیره شدند در: {out_dir}\")\n",
        "\n",
        "for lab in [\"love\", \"philosophy\", \"death\", \"the spiritual\"]:\n",
        "    sub = labeled_df[labeled_df[\"Label\"] == lab]\n",
        "    if sub.empty:\n",
        "        print(f\"\\n[نمونه] {lab}: هیچ شعر تک‌لیبلی یافت نشد.\")\n",
        "        continue\n",
        "    print(f\"\\n[نمونه] {lab}: {min(5, len(sub))} شعر\")\n",
        "    print(sub[[\"Title\", \"Poet\", \"Poem_word_count\"]].head(5).to_string(index=False))\n"
      ]
    },
    {
      "cell_type": "markdown",
      "metadata": {
        "id": "EnLQ-Ml6QuoJ"
      },
      "source": [
        "# save"
      ]
    },
    {
      "cell_type": "code",
      "execution_count": null,
      "metadata": {
        "colab": {
          "base_uri": "https://localhost:8080/",
          "height": 52
        },
        "id": "V4Ib1MUaVaZU",
        "outputId": "04fc3c53-ab10-4f4b-df2a-c5c9d568b145"
      },
      "outputs": [
        {
          "name": "stdout",
          "output_type": "stream",
          "text": [
            "ZIP created at: /content/labels_no_overlap_v2.zip\n"
          ]
        },
        {
          "data": {
            "application/javascript": "\n    async function download(id, filename, size) {\n      if (!google.colab.kernel.accessAllowed) {\n        return;\n      }\n      const div = document.createElement('div');\n      const label = document.createElement('label');\n      label.textContent = `Downloading \"${filename}\": `;\n      div.appendChild(label);\n      const progress = document.createElement('progress');\n      progress.max = size;\n      div.appendChild(progress);\n      document.body.appendChild(div);\n\n      const buffers = [];\n      let downloaded = 0;\n\n      const channel = await google.colab.kernel.comms.open(id);\n      // Send a message to notify the kernel that we're ready.\n      channel.send({})\n\n      for await (const message of channel.messages) {\n        // Send a message to notify the kernel that we're ready.\n        channel.send({})\n        if (message.buffers) {\n          for (const buffer of message.buffers) {\n            buffers.push(buffer);\n            downloaded += buffer.byteLength;\n            progress.value = downloaded;\n          }\n        }\n      }\n      const blob = new Blob(buffers, {type: 'application/binary'});\n      const a = document.createElement('a');\n      a.href = window.URL.createObjectURL(blob);\n      a.download = filename;\n      div.appendChild(a);\n      a.click();\n      div.remove();\n    }\n  ",
            "text/plain": [
              "<IPython.core.display.Javascript object>"
            ]
          },
          "metadata": {},
          "output_type": "display_data"
        },
        {
          "data": {
            "application/javascript": "download(\"download_32186119-bb05-4391-b424-f96db69fd282\", \"labels_no_overlap_v2.zip\", 12589171)",
            "text/plain": [
              "<IPython.core.display.Javascript object>"
            ]
          },
          "metadata": {},
          "output_type": "display_data"
        },
        {
          "name": "stdout",
          "output_type": "stream",
          "text": [
            "Downloading...\n"
          ]
        }
      ],
      "source": [
        "import os\n",
        "import shutil\n",
        "\n",
        "out_dir = \"/content/dataset/labels_no_overlap_v2\"\n",
        "\n",
        "zip_base = \"/content/labels_no_overlap_v2\" \n",
        "zip_path = f\"{zip_base}.zip\"\n",
        "if os.path.exists(zip_path):\n",
        "    os.remove(zip_path)\n",
        "\n",
        "shutil.make_archive(zip_base, 'zip', out_dir)\n",
        "print(\"ZIP created at:\", zip_path)\n",
        "\n",
        "try:\n",
        "    from google.colab import files\n",
        "    files.download(zip_path)\n",
        "    print(\"Downloading...\")\n",
        "except Exception as e:\n",
        "    print(\"Not in Colab (or download helper not available). Zip is saved locally at:\", zip_path)\n"
      ]
    },
    {
      "cell_type": "markdown",
      "metadata": {
        "id": "zYJGlFKEhRkq"
      },
      "source": [
        "# small size\n"
      ]
    },
    {
      "cell_type": "code",
      "execution_count": null,
      "metadata": {
        "colab": {
          "base_uri": "https://localhost:8080/"
        },
        "id": "d17U5VGTfAgp",
        "outputId": "b61afd38-0d9d-4a7f-8dcd-d8664be9b9d5"
      },
      "outputs": [
        {
          "name": "stdout",
          "output_type": "stream",
          "text": [
            "تعداد شعرهای تک‌لیبلی (قبل از فیلتر طول): 5762\n",
            "تعداد شعرهای تک‌لیبلی با طول ≤ 340 کلمه: 4771\n",
            "\n",
            "آمار هر لیبل (پس از فیلتر ≤ 340 کلمه، تک‌لیبلی):\n",
            "           Label  num_poems  num_unique_poets  word_min  word_median  \\\n",
            "0          death        641               472         3        126.0   \n",
            "1           love       3042              1449         1        132.0   \n",
            "2     philosophy        348               281         5        122.0   \n",
            "3  the spiritual        740               509         8        129.0   \n",
            "\n",
            "    word_mean  word_max  char_min  char_median   char_mean  char_max  \n",
            "0  143.137285       340        15        706.0  793.241810      1949  \n",
            "1  147.832676       340        10        717.5  808.416174      2067  \n",
            "2  139.344828       340        30        680.0  771.827586      1987  \n",
            "3  145.985135       339        50        707.0  804.805405      1993  \n",
            "\n",
            "ذخیره شد: /content/dataset/labels_max340_singlelabel/poems_4labels_max340_singlelabel.csv\n",
            "خلاصه‌ی آماری: /content/dataset/labels_max340_singlelabel/summary_by_label_max340_singlelabel.csv\n",
            "\n",
            "[نمونه‌ها] love — 3042 شعر (≤ 340 کلمه):\n",
            "                                        Title                Poet  Poem_word_count\n",
            "                               Invisible Fish           Joy Harjo               57\n",
            "                    The Opposite of Nostalgia      Eric Gamalinda              173\n",
            "“In the Evening We Shall Be Examined on Love”   Thomas Centolella              252\n",
            " Mom Betty Addresses the Nature of Proportion    Eileen R. Tabios              107\n",
            "                                 Memorial Day Sunnylyn Thibodeaux              119\n",
            "\n",
            "[نمونه‌ها] philosophy — 348 شعر (≤ 340 کلمه):\n",
            "                                                      Title                  Poet  Poem_word_count\n",
            "                                                   Maxims 1        Anthony Madrid              218\n",
            "                                    Emperor with No Clothes      Joseph Di Prisco              340\n",
            "from From \"Living Truthfully Under Imaginary Circumstances\" Elizabeth A.I. Powell               39\n",
            "                                            About Suffering         Elisa Gabbert              215\n",
            "           The Old Man's Complaints. And how he gained them        Robert Southey              183\n",
            "\n",
            "[نمونه‌ها] death — 641 شعر (≤ 340 کلمه):\n",
            "                                           Title                Poet  Poem_word_count\n",
            "                               The Poem of Death     Michael Gessner              134\n",
            "Fiddlers at the Desert Valley County Care Center     Michael Gessner              236\n",
            "                                     Declaration             Bei Dao               84\n",
            "                                    Dust to Dust       April Ossmann               76\n",
            "             All Kinds of Fires Inside Our Heads Nikki Wallschlaeger               91\n",
            "\n",
            "[نمونه‌ها] the spiritual — 740 شعر (≤ 340 کلمه):\n",
            "                        Title                  Poet  Poem_word_count\n",
            "Don’t Bother the Earth Spirit             Joy Harjo              107\n",
            "                          All           Barbara Ras              148\n",
            "                        Order Indran Amirthanayagam              143\n",
            "      The Properties of Light        Eric Gamalinda              284\n",
            "      Real Complex Key Shifts      Amanda Nadelberg              148\n"
          ]
        }
      ],
      "source": [
        "import os, re\n",
        "import pandas as pd\n",
        "\n",
        "def normalize_text(s: str) -> str:\n",
        "    s = str(s)\n",
        "    s = s.replace(\"’\", \"'\").replace(\"‘\", \"'\")\n",
        "    s = re.sub(r\"\\s+\", \" \", s)\n",
        "    return s.strip().lower()\n",
        "\n",
        "def ensure_tags_list(x):\n",
        "    if x is None or (isinstance(x, float) and pd.isna(x)):\n",
        "        return []\n",
        "    if isinstance(x, list):\n",
        "        return [normalize_text(t) for t in x if str(t).strip() != \"\"]\n",
        "    parts = [normalize_text(p) for p in re.split(r\"[|,;/]\", str(x)) if p.strip() != \"\"]\n",
        "    return parts\n",
        "\n",
        "df2 = df.copy()\n",
        "df2[\"Tags\"] = df2[\"Tags\"].apply(ensure_tags_list) if \"Tags\" in df2.columns else [[]]\n",
        "df2[\"Poem\"] = df2[\"Poem\"].astype(str).str.strip()\n",
        "df2 = df2[df2[\"Poem\"] != \"\"].reset_index(drop=True)\n",
        "\n",
        "df2[\"Poem_word_count\"] = df2[\"Poem\"].apply(lambda x: len(x.split()))\n",
        "df2[\"Poem_char_count\"] = df2[\"Poem\"].str.len()\n",
        "\n",
        "love_tags = {\n",
        "    \"love\", \"romantic love\", \"classic love\",\n",
        "    \"first love\", \"unrequited love\", \"infatuation & crushes\",\n",
        "    \"break-ups & vexed love\", \"heartache & loss\",\n",
        "    \"anniversary\", \"engagement\", \"marriage & companionship\",\n",
        "    \"relationships\", \"separation & divorce\", \"valentine's day\",\n",
        "    \"weddings\",\n",
        "}\n",
        "philosophy_tags = {\n",
        "    \"philosophy\",\n",
        "}\n",
        "death_tags = {\n",
        "    \"death\",\n",
        "}\n",
        "spiritual_tags = {\n",
        "    \"the spiritual\", \"religion\", \"god & the divine\", \"faith & doubt\",\n",
        "    \"christianity\", \"islam\", \"judaism\", \"buddhism\", \"other religions\",\n",
        "    \"ramadan\", \"passover\", \"rosh hashanah\", \"hanukkah\", \"yom kippur\",\n",
        "}\n",
        "\n",
        "tag2label = {}\n",
        "for t in love_tags:        tag2label[normalize_text(t)] = \"love\"\n",
        "for t in philosophy_tags:  tag2label[normalize_text(t)] = \"philosophy\"\n",
        "for t in death_tags:       tag2label[normalize_text(t)] = \"death\"\n",
        "for t in spiritual_tags:   tag2label[normalize_text(t)] = \"the spiritual\"\n",
        "def matched_labels(tag_list):\n",
        "    labs = set()\n",
        "    for t in tag_list:\n",
        "        if t in tag2label:\n",
        "            labs.add(tag2label[t])\n",
        "    return sorted(labs)\n",
        "\n",
        "df2[\"matched_labels\"] = df2[\"Tags\"].apply(matched_labels)\n",
        "\n",
        "df_single = df2[df2[\"matched_labels\"].apply(len) == 1].copy()\n",
        "df_single[\"Label\"] = df_single[\"matched_labels\"].apply(lambda xs: xs[0])\n",
        "\n",
        "rows = []\n",
        "for _, r in df_single.iterrows():\n",
        "    rows.append({\n",
        "        \"Label\": r[\"Label\"],\n",
        "        \"Title\": r.get(\"Title\"),\n",
        "        \"Poet\": r.get(\"Poet\"),\n",
        "        \"Poem\": r.get(\"Poem\"),\n",
        "        \"Tags\": r.get(\"Tags\"),\n",
        "        \"Poem_word_count\": r[\"Poem_word_count\"],\n",
        "        \"Poem_char_count\": r[\"Poem_char_count\"],\n",
        "    })\n",
        "\n",
        "labeled = pd.DataFrame(rows)\n",
        "if labeled.empty:\n",
        "    raise SystemExit(\"هیچ شعر تک‌لیبلی مطابق نگاشت چهارگانه پیدا نشد.\")\n",
        "\n",
        "print(\"تعداد شعرهای تک‌لیبلی (قبل از فیلتر طول):\", len(labeled))\n",
        "\n",
        "MAX_WORDS = 340\n",
        "filtered = labeled[labeled[\"Poem_word_count\"] <= MAX_WORDS].reset_index(drop=True)\n",
        "\n",
        "print(\"تعداد شعرهای تک‌لیبلی با طول ≤ 340 کلمه:\", len(filtered))\n",
        "\n",
        "summary = (\n",
        "    filtered\n",
        "    .groupby(\"Label\", as_index=False)\n",
        "    .agg(num_poems=(\"Poem\", \"size\"),\n",
        "         num_unique_poets=(\"Poet\", \"nunique\"),\n",
        "         word_min=(\"Poem_word_count\", \"min\"),\n",
        "         word_median=(\"Poem_word_count\", \"median\"),\n",
        "         word_mean=(\"Poem_word_count\", \"mean\"),\n",
        "         word_max=(\"Poem_word_count\", \"max\"),\n",
        "         char_min=(\"Poem_char_count\", \"min\"),\n",
        "         char_median=(\"Poem_char_count\", \"median\"),\n",
        "         char_mean=(\"Poem_char_count\", \"mean\"),\n",
        "         char_max=(\"Poem_char_count\", \"max\"))\n",
        "    .sort_values(\"Label\")\n",
        ")\n",
        "print(\"\\nآمار هر لیبل (پس از فیلتر ≤ 340 کلمه، تک‌لیبلی):\")\n",
        "print(summary)\n",
        "\n",
        "out_dir = \"/content/dataset/labels_max340_singlelabel\"\n",
        "os.makedirs(out_dir, exist_ok=True)\n",
        "\n",
        "combined_path = os.path.join(out_dir, \"poems_4labels_max340_singlelabel.csv\")\n",
        "filtered.to_csv(combined_path, index=False)\n",
        "\n",
        "for lab in [\"love\", \"philosophy\", \"death\", \"the spiritual\"]:\n",
        "    sub = filtered[filtered[\"Label\"] == lab]\n",
        "    if not sub.empty:\n",
        "        sub.to_csv(os.path.join(out_dir, f\"{lab.replace(' ', '_')}_max340_singlelabel.csv\"), index=False)\n",
        "\n",
        "summary_path = os.path.join(out_dir, \"summary_by_label_max340_singlelabel.csv\")\n",
        "summary.to_csv(summary_path, index=False)\n",
        "\n",
        "print(f\"\\nذخیره شد: {combined_path}\")\n",
        "print(f\"خلاصه‌ی آماری: {summary_path}\")\n",
        "\n",
        "for lab in [\"love\", \"philosophy\", \"death\", \"the spiritual\"]:\n",
        "    sub = filtered[filtered[\"Label\"] == lab]\n",
        "    print(f\"\\n[نمونه‌ها] {lab} — {len(sub)} شعر (≤ {MAX_WORDS} کلمه):\")\n",
        "    print(sub[[\"Title\", \"Poet\", \"Poem_word_count\"]].head(5).to_string(index=False))\n"
      ]
    },
    {
      "cell_type": "code",
      "execution_count": null,
      "metadata": {
        "colab": {
          "base_uri": "https://localhost:8080/"
        },
        "id": "jW5Xryx1hUV8",
        "outputId": "6c4ce695-c2b8-4416-be6f-f481d6dbbfe6"
      },
      "outputs": [
        {
          "name": "stdout",
          "output_type": "stream",
          "text": [
            "آماده شد: /content/labels_max340.zip\n"
          ]
        }
      ],
      "source": [
        "import shutil\n",
        "\n",
        "out_dir = \"/content/dataset/labels_max340_singlelabel\"\n",
        "\n",
        "zip_path = \"/content/labels_max340.zip\"\n",
        "\n",
        "shutil.make_archive(zip_path.replace(\".zip\", \"\"), 'zip', out_dir)\n",
        "\n",
        "print(\"آماده شد:\", zip_path)\n"
      ]
    },
    {
      "cell_type": "markdown",
      "metadata": {
        "id": "Q6NvbFP6iYl9"
      },
      "source": [
        "# see data"
      ]
    },
    {
      "cell_type": "code",
      "execution_count": null,
      "metadata": {
        "colab": {
          "base_uri": "https://localhost:8080/",
          "height": 554
        },
        "id": "DRwm1nnShm4Y",
        "outputId": "344f4187-4088-4c20-bf19-ad40f94a7557"
      },
      "outputs": [
        {
          "name": "stdout",
          "output_type": "stream",
          "text": [
            "تعداد شعر در هر کلاس:\n",
            "           Label  num_poems\n",
            "0           love       3650\n",
            "1  the spiritual        900\n",
            "2          death        778\n",
            "3     philosophy        434\n"
          ]
        },
        {
          "data": {
            "image/png": "[encoded data removed]",
            "text/plain": [
              "<Figure size 600x400 with 1 Axes>"
            ]
          },
          "metadata": {},
          "output_type": "display_data"
        }
      ],
      "source": [
        "import pandas as pd\n",
        "import os\n",
        "\n",
        "data_dir = \"/content/dataset/labels_no_overlap_v2\"\n",
        "\n",
        "csv_path = os.path.join(data_dir, \"poems_single_label.csv\")\n",
        "\n",
        "df_labels = pd.read_csv(csv_path)\n",
        "\n",
        "counts = df_labels[\"Label\"].value_counts().reset_index()\n",
        "counts.columns = [\"Label\", \"num_poems\"]\n",
        "\n",
        "print(\"تعداد شعر در هر کلاس:\")\n",
        "print(counts)\n",
        "import matplotlib.pyplot as plt\n",
        "\n",
        "counts.plot(kind=\"bar\", x=\"Label\", y=\"num_poems\", legend=False, figsize=(6,4))\n",
        "plt.ylabel(\"Number of poems\")\n",
        "plt.title(\"Distribution of Poems per Label\")\n",
        "plt.xticks(rotation=30)\n",
        "plt.show()\n"
      ]
    },
    {
      "cell_type": "code",
      "execution_count": null,
      "metadata": {
        "colab": {
          "base_uri": "https://localhost:8080/"
        },
        "id": "acriRFfVjAHR",
        "outputId": "c6c84901-b83d-4935-dad8-ddb885b472d8"
      },
      "outputs": [
        {
          "name": "stdout",
          "output_type": "stream",
          "text": [
            "شکل دیتافریم نهایی: (400, 7)\n",
            "Label\n",
            "death            100\n",
            "love             100\n",
            "philosophy       100\n",
            "the spiritual    100\n",
            "Name: count, dtype: int64\n",
            "ذخیره شد: /content/dataset/labels_no_overlap_v2/poems_sampled_100_per_label_seed42.csv\n"
          ]
        }
      ],
      "source": [
        "import pandas as pd\n",
        "import os\n",
        "\n",
        "data_dir = \"/content/dataset/labels_no_overlap_v2\"\n",
        "csv_path = os.path.join(data_dir, \"poems_single_label.csv\")\n",
        "\n",
        "df_labels = pd.read_csv(csv_path)\n",
        "\n",
        "N = 100\n",
        "SEED = 42  \n",
        "\n",
        "sampled_list = []\n",
        "for lab, group in df_labels.groupby(\"Label\"):\n",
        "    sample = group.sample(n=min(N, len(group)), random_state=SEED)\n",
        "    sampled_list.append(sample)\n",
        "\n",
        "sampled_df = pd.concat(sampled_list).reset_index(drop=True)\n",
        "\n",
        "print(\"شکل دیتافریم نهایی:\", sampled_df.shape)\n",
        "print(sampled_df[\"Label\"].value_counts())\n",
        "\n",
        "out_path = os.path.join(data_dir, f\"poems_sampled_{N}_per_label_seed{SEED}.csv\")\n",
        "sampled_df.to_csv(out_path, index=False)\n",
        "print(\"ذخیره شد:\", out_path)\n"
      ]
    },
    {
      "cell_type": "code",
      "execution_count": null,
      "metadata": {
        "id": "pPLz85soU2KD"
      },
      "outputs": [],
      "source": []
    }
  ],
  "metadata": {
    "colab": {
      "provenance": []
    },
    "kernelspec": {
      "display_name": "Python 3",
      "name": "python3"
    },
    "language_info": {
      "name": "python"
    }
  },
  "nbformat": 4,
  "nbformat_minor": 0
}
